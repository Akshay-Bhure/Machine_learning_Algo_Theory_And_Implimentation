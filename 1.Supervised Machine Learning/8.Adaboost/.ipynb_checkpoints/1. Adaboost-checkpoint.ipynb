{
 "cells": [
  {
   "cell_type": "markdown",
   "metadata": {},
   "source": [
    "## Adaboost"
   ]
  },
  {
   "cell_type": "code",
   "execution_count": null,
   "metadata": {},
   "outputs": [],
   "source": [
    "1.It is supervised Machine Learning Algorithm\n",
    "2.It is usde for both classification And Regression Problems.\n",
    "3.It is Based on Ensemble Technique Boosting\n",
    "4.It is forest of stumps\n",
    "Ensemble Methods:\n",
    "    1. Bagging\n",
    "    2. Boosting"
   ]
  },
  {
   "cell_type": "code",
   "execution_count": null,
   "metadata": {},
   "outputs": [],
   "source": [
    "Adaboost is under the boosting\n",
    "Adaboost >> Adaptive Boosting\n",
    "\n",
    "Boosting grants power to ML model to improve their accuracy of prediction.\n",
    "The term boosting refers to family of algorithm which converts weak learners to strong learners.\n",
    "\n",
    "Other Boosting Algorithms:\n",
    "1. Adaboost\n",
    "2. Gradient boosting\n",
    "3. XG boosting\n",
    "4. Cat boosting"
   ]
  },
  {
   "cell_type": "code",
   "execution_count": null,
   "metadata": {},
   "outputs": [],
   "source": [
    "Random forest had multiple decision trees >> Forest of trees\n",
    "Adaboost >> Forest of stumps\n",
    "Decision stump >> A tree with one root node and two leaf nodes\n",
    "    we can also call it as a weak learner.\n",
    "    tree of max_depth = 1\n",
    "    \n",
    "convert weak learner to strong one."
   ]
  },
  {
   "cell_type": "code",
   "execution_count": null,
   "metadata": {},
   "outputs": [],
   "source": [
    "decision stump >> consider one variable at a time. and only one root node and two leaf nodes, \n",
    "that is the reason they are not great at making classification.\n",
    "\n",
    "Stump takes 1 variable to make decision, thats why it is weak learner."
   ]
  },
  {
   "cell_type": "code",
   "execution_count": null,
   "metadata": {},
   "outputs": [],
   "source": [
    "x1 >> Chest pain\n",
    "x2 >> Blocked Arteries\n",
    "x3 >> Height\n",
    "Y  >> Heart Disease\n",
    "\n",
    "      x1    x2     x3      (Target)Y      Sample Wt.   NSW      Normalised wt.  Buckets(0-1)\n",
    "1     y     y     190          y           1/8        0.0473       0.07          0  - 0.07\n",
    "2     N     y     182          y           1/8        0.0473       0.07          0.07- 0.14\n",
    "3     y     N     198          y           1/8        0.0473       0.07          0.14- 0.21\n",
    "4     y     y     168          y(mis)      1/8        0.3297       0.5           0.21- 0.71\n",
    "5     N     y     155          N           1/8        0.0473       0.07          0.71- 0.78\n",
    "6     N     y     138          N           1/8        0.0473       0.07          0.78 - 0.85\n",
    "7     y     N     169          N           1/8        0.0473       0.07          0.85 - 0.92\n",
    "8     y     y     175          N           1/8        0.0473       0.07          0.92 - 1"
   ]
  },
  {
   "cell_type": "code",
   "execution_count": null,
   "metadata": {},
   "outputs": [],
   "source": [
    "Threshold(x3) >> 178\n",
    "less than 178 will not have heart disease\n",
    "more than 178 will have heart disease\n",
    "\n",
    "So, as per observation there is a misclassified observation in our dataset.\n",
    "\n",
    "4     y     y     168          y(mis)           1/8"
   ]
  },
  {
   "cell_type": "markdown",
   "metadata": {},
   "source": [
    "## Total Error"
   ]
  },
  {
   "cell_type": "code",
   "execution_count": null,
   "metadata": {},
   "outputs": [],
   "source": [
    "Total Error =  sum of wts associated with misclassified obs. = 1/8\n",
    "\n",
    "For x3 variable, we have created one stump\n",
    "\n",
    "           yes       no\n",
    "correct     3        4\n",
    "incorr.     1        0"
   ]
  },
  {
   "cell_type": "markdown",
   "metadata": {},
   "source": [
    "## Performance stump/Amount of say"
   ]
  },
  {
   "cell_type": "code",
   "execution_count": null,
   "metadata": {},
   "outputs": [],
   "source": [
    "performance stump = 1/2 loge((1-Total Error)/Total Error)"
   ]
  },
  {
   "cell_type": "code",
   "execution_count": 1,
   "metadata": {},
   "outputs": [],
   "source": [
    "import numpy as np"
   ]
  },
  {
   "cell_type": "code",
   "execution_count": 2,
   "metadata": {},
   "outputs": [
    {
     "data": {
      "text/plain": [
       "7.0"
      ]
     },
     "execution_count": 2,
     "metadata": {},
     "output_type": "execute_result"
    }
   ],
   "source": [
    "(1-(1/8))/ (1/8)"
   ]
  },
  {
   "cell_type": "code",
   "execution_count": 3,
   "metadata": {},
   "outputs": [
    {
     "data": {
      "text/plain": [
       "0.9729550745276566"
      ]
     },
     "execution_count": 3,
     "metadata": {},
     "output_type": "execute_result"
    }
   ],
   "source": [
    "0.5*np.log(7)"
   ]
  },
  {
   "cell_type": "code",
   "execution_count": null,
   "metadata": {},
   "outputs": [],
   "source": [
    "performance stump = 0.97"
   ]
  },
  {
   "cell_type": "markdown",
   "metadata": {},
   "source": [
    "## New Sample Wt."
   ]
  },
  {
   "cell_type": "code",
   "execution_count": null,
   "metadata": {},
   "outputs": [],
   "source": [
    "New sample wt(misclassified) = sample wt *e^performance stump\n",
    "\n",
    "New sample wt(correctly) = sample wt *e^-performance stump"
   ]
  },
  {
   "cell_type": "code",
   "execution_count": 4,
   "metadata": {},
   "outputs": [
    {
     "data": {
      "text/plain": [
       "0.32974305741926907"
      ]
     },
     "execution_count": 4,
     "metadata": {},
     "output_type": "execute_result"
    }
   ],
   "source": [
    "NSW_mis = (1/8)*np.exp(0.97)\n",
    "NSW_mis"
   ]
  },
  {
   "cell_type": "code",
   "execution_count": 5,
   "metadata": {},
   "outputs": [
    {
     "data": {
      "text/plain": [
       "0.047385379762924854"
      ]
     },
     "execution_count": 5,
     "metadata": {},
     "output_type": "execute_result"
    }
   ],
   "source": [
    "NSW_corr = (1/8)*np.exp(-0.97)\n",
    "NSW_corr"
   ]
  },
  {
   "cell_type": "code",
   "execution_count": 6,
   "metadata": {},
   "outputs": [
    {
     "data": {
      "text/plain": [
       "0.3311"
      ]
     },
     "execution_count": 6,
     "metadata": {},
     "output_type": "execute_result"
    }
   ],
   "source": [
    "0.0473*7"
   ]
  },
  {
   "cell_type": "code",
   "execution_count": 7,
   "metadata": {},
   "outputs": [
    {
     "data": {
      "text/plain": [
       "0.6608"
      ]
     },
     "execution_count": 7,
     "metadata": {},
     "output_type": "execute_result"
    }
   ],
   "source": [
    "0.3311 + 0.3297"
   ]
  },
  {
   "cell_type": "code",
   "execution_count": 8,
   "metadata": {},
   "outputs": [
    {
     "data": {
      "text/plain": [
       "0.07166666666666667"
      ]
     },
     "execution_count": 8,
     "metadata": {},
     "output_type": "execute_result"
    }
   ],
   "source": [
    "0.0473/0.66"
   ]
  },
  {
   "cell_type": "code",
   "execution_count": 9,
   "metadata": {},
   "outputs": [
    {
     "data": {
      "text/plain": [
       "0.4995454545454545"
      ]
     },
     "execution_count": 9,
     "metadata": {},
     "output_type": "execute_result"
    }
   ],
   "source": [
    "0.3297/0.66"
   ]
  },
  {
   "cell_type": "code",
   "execution_count": null,
   "metadata": {},
   "outputs": [],
   "source": [
    "Sum off all NSW = 0.66\n",
    "Normalised wt for correctly = 0.07\n",
    "Normalised wt for misclassified = 0.5"
   ]
  },
  {
   "cell_type": "markdown",
   "metadata": {},
   "source": [
    "## Important Terms"
   ]
  },
  {
   "cell_type": "code",
   "execution_count": null,
   "metadata": {},
   "outputs": [],
   "source": [
    "1. Stump/Decision Stump\n",
    "\n",
    "2. Sample wt = 1/(total no. samples/observations)\n",
    "\n",
    "3. Total Error = sum of wts associated with misclassified obs.\n",
    "\n",
    "4. performance stump = 1/2 loge((1-Total Error)/Total Error)\n",
    "\n",
    "5. New sample wt(misclassified) = sample wt *e^performance stump\n",
    "\n",
    "   New sample wt(correctly) = sample wt *e^-performance stump\n",
    "    \n",
    "6. Normalised Wt. = NSW/wt. / Sum of all NSW"
   ]
  }
 ],
 "metadata": {
  "kernelspec": {
   "display_name": "Python 3 (ipykernel)",
   "language": "python",
   "name": "python3"
  },
  "language_info": {
   "codemirror_mode": {
    "name": "ipython",
    "version": 3
   },
   "file_extension": ".py",
   "mimetype": "text/x-python",
   "name": "python",
   "nbconvert_exporter": "python",
   "pygments_lexer": "ipython3",
   "version": "3.9.12"
  }
 },
 "nbformat": 4,
 "nbformat_minor": 4
}
