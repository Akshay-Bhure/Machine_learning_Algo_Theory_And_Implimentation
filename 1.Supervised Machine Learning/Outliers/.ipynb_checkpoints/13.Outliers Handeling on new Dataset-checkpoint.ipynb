{
 "cells": [
  {
   "cell_type": "code",
   "execution_count": 5,
   "id": "a7045169",
   "metadata": {},
   "outputs": [],
   "source": [
    "import numpy as np\n",
    "import pandas as pd\n",
    "import matplotlib.pyplot as plt\n",
    "import seaborn as sns"
   ]
  },
  {
   "cell_type": "code",
   "execution_count": 6,
   "id": "0d9058a6",
   "metadata": {
    "scrolled": false
   },
   "outputs": [
    {
     "data": {
      "text/html": [
       "<div>\n",
       "<style scoped>\n",
       "    .dataframe tbody tr th:only-of-type {\n",
       "        vertical-align: middle;\n",
       "    }\n",
       "\n",
       "    .dataframe tbody tr th {\n",
       "        vertical-align: top;\n",
       "    }\n",
       "\n",
       "    .dataframe thead th {\n",
       "        text-align: right;\n",
       "    }\n",
       "</style>\n",
       "<table border=\"1\" class=\"dataframe\">\n",
       "  <thead>\n",
       "    <tr style=\"text-align: right;\">\n",
       "      <th></th>\n",
       "      <th>Glucose</th>\n",
       "      <th>BloodPressure</th>\n",
       "      <th>SkinThickness</th>\n",
       "      <th>Insulin</th>\n",
       "      <th>BMI</th>\n",
       "      <th>DiabetesPedigreeFunction</th>\n",
       "      <th>Age</th>\n",
       "      <th>Outcome</th>\n",
       "    </tr>\n",
       "  </thead>\n",
       "  <tbody>\n",
       "    <tr>\n",
       "      <th>0</th>\n",
       "      <td>148</td>\n",
       "      <td>50</td>\n",
       "      <td>35</td>\n",
       "      <td>0</td>\n",
       "      <td>33.6</td>\n",
       "      <td>0.627</td>\n",
       "      <td>50</td>\n",
       "      <td>1</td>\n",
       "    </tr>\n",
       "    <tr>\n",
       "      <th>1</th>\n",
       "      <td>85</td>\n",
       "      <td>66</td>\n",
       "      <td>29</td>\n",
       "      <td>0</td>\n",
       "      <td>26.6</td>\n",
       "      <td>0.351</td>\n",
       "      <td>31</td>\n",
       "      <td>0</td>\n",
       "    </tr>\n",
       "    <tr>\n",
       "      <th>2</th>\n",
       "      <td>183</td>\n",
       "      <td>64</td>\n",
       "      <td>0</td>\n",
       "      <td>0</td>\n",
       "      <td>23.3</td>\n",
       "      <td>0.672</td>\n",
       "      <td>52</td>\n",
       "      <td>1</td>\n",
       "    </tr>\n",
       "    <tr>\n",
       "      <th>3</th>\n",
       "      <td>150</td>\n",
       "      <td>66</td>\n",
       "      <td>23</td>\n",
       "      <td>94</td>\n",
       "      <td>28.1</td>\n",
       "      <td>0.167</td>\n",
       "      <td>21</td>\n",
       "      <td>0</td>\n",
       "    </tr>\n",
       "    <tr>\n",
       "      <th>4</th>\n",
       "      <td>150</td>\n",
       "      <td>40</td>\n",
       "      <td>35</td>\n",
       "      <td>168</td>\n",
       "      <td>43.1</td>\n",
       "      <td>2.288</td>\n",
       "      <td>33</td>\n",
       "      <td>1</td>\n",
       "    </tr>\n",
       "    <tr>\n",
       "      <th>...</th>\n",
       "      <td>...</td>\n",
       "      <td>...</td>\n",
       "      <td>...</td>\n",
       "      <td>...</td>\n",
       "      <td>...</td>\n",
       "      <td>...</td>\n",
       "      <td>...</td>\n",
       "      <td>...</td>\n",
       "    </tr>\n",
       "    <tr>\n",
       "      <th>763</th>\n",
       "      <td>101</td>\n",
       "      <td>76</td>\n",
       "      <td>48</td>\n",
       "      <td>180</td>\n",
       "      <td>32.9</td>\n",
       "      <td>0.171</td>\n",
       "      <td>63</td>\n",
       "      <td>0</td>\n",
       "    </tr>\n",
       "    <tr>\n",
       "      <th>764</th>\n",
       "      <td>122</td>\n",
       "      <td>70</td>\n",
       "      <td>27</td>\n",
       "      <td>0</td>\n",
       "      <td>36.8</td>\n",
       "      <td>0.340</td>\n",
       "      <td>27</td>\n",
       "      <td>0</td>\n",
       "    </tr>\n",
       "    <tr>\n",
       "      <th>765</th>\n",
       "      <td>121</td>\n",
       "      <td>72</td>\n",
       "      <td>23</td>\n",
       "      <td>112</td>\n",
       "      <td>26.2</td>\n",
       "      <td>0.245</td>\n",
       "      <td>30</td>\n",
       "      <td>0</td>\n",
       "    </tr>\n",
       "    <tr>\n",
       "      <th>766</th>\n",
       "      <td>126</td>\n",
       "      <td>60</td>\n",
       "      <td>0</td>\n",
       "      <td>0</td>\n",
       "      <td>30.1</td>\n",
       "      <td>0.349</td>\n",
       "      <td>47</td>\n",
       "      <td>1</td>\n",
       "    </tr>\n",
       "    <tr>\n",
       "      <th>767</th>\n",
       "      <td>93</td>\n",
       "      <td>70</td>\n",
       "      <td>31</td>\n",
       "      <td>0</td>\n",
       "      <td>30.4</td>\n",
       "      <td>0.315</td>\n",
       "      <td>23</td>\n",
       "      <td>0</td>\n",
       "    </tr>\n",
       "  </tbody>\n",
       "</table>\n",
       "<p>768 rows × 8 columns</p>\n",
       "</div>"
      ],
      "text/plain": [
       "     Glucose  BloodPressure  SkinThickness  Insulin   BMI  \\\n",
       "0        148             50             35        0  33.6   \n",
       "1         85             66             29        0  26.6   \n",
       "2        183             64              0        0  23.3   \n",
       "3        150             66             23       94  28.1   \n",
       "4        150             40             35      168  43.1   \n",
       "..       ...            ...            ...      ...   ...   \n",
       "763      101             76             48      180  32.9   \n",
       "764      122             70             27        0  36.8   \n",
       "765      121             72             23      112  26.2   \n",
       "766      126             60              0        0  30.1   \n",
       "767       93             70             31        0  30.4   \n",
       "\n",
       "     DiabetesPedigreeFunction  Age  Outcome  \n",
       "0                       0.627   50        1  \n",
       "1                       0.351   31        0  \n",
       "2                       0.672   52        1  \n",
       "3                       0.167   21        0  \n",
       "4                       2.288   33        1  \n",
       "..                        ...  ...      ...  \n",
       "763                     0.171   63        0  \n",
       "764                     0.340   27        0  \n",
       "765                     0.245   30        0  \n",
       "766                     0.349   47        1  \n",
       "767                     0.315   23        0  \n",
       "\n",
       "[768 rows x 8 columns]"
      ]
     },
     "execution_count": 6,
     "metadata": {},
     "output_type": "execute_result"
    }
   ],
   "source": [
    "dia=pd.read_csv('diabetes.csv')\n",
    "dia"
   ]
  },
  {
   "cell_type": "raw",
   "id": "25bfd090",
   "metadata": {},
   "source": [
    "using z_scre # here also some error "
   ]
  },
  {
   "cell_type": "code",
   "execution_count": 10,
   "id": "98003cf1",
   "metadata": {},
   "outputs": [],
   "source": [
    "def counts_outliers(dia):\n",
    "    outliers = []  # Define the outliers list inside the function\n",
    "    \n",
    "    thresh = 3\n",
    "    mean = np.mean(dia['Glucose'])\n",
    "    std = np.std(dia['Glucose'])\n",
    "    \n",
    "    for i in dia['Glucose']:\n",
    "        z_score = (i - mean) / std\n",
    "        if np.abs(z_score) > thresh:\n",
    "            outliers.append(i)\n",
    "    return outliers\n"
   ]
  },
  {
   "cell_type": "code",
   "execution_count": 11,
   "id": "caff0ff7",
   "metadata": {},
   "outputs": [],
   "source": [
    "outliers1=counts_outliers(dia)"
   ]
  },
  {
   "cell_type": "code",
   "execution_count": 12,
   "id": "da718135",
   "metadata": {},
   "outputs": [
    {
     "data": {
      "text/plain": [
       "[0, 0, 0, 0, 0]"
      ]
     },
     "execution_count": 12,
     "metadata": {},
     "output_type": "execute_result"
    }
   ],
   "source": [
    "outliers1"
   ]
  },
  {
   "cell_type": "raw",
   "id": "8990da3c",
   "metadata": {},
   "source": [
    "IQR "
   ]
  },
  {
   "cell_type": "code",
   "execution_count": 93,
   "id": "af130b3b",
   "metadata": {},
   "outputs": [
    {
     "data": {
      "text/plain": [
       "array([ 1,  1,  2,  2,  3,  4,  4,  5,  5,  6,  6,  7,  8,  9, 53])"
      ]
     },
     "execution_count": 93,
     "metadata": {},
     "output_type": "execute_result"
    }
   ],
   "source": [
    "ab=np.array([1,2,3,4,5,6,7,8,9,6,53,2,1,4,5])\n",
    "ab.sort()\n",
    "ab"
   ]
  },
  {
   "cell_type": "code",
   "execution_count": 94,
   "id": "69877ff0",
   "metadata": {},
   "outputs": [],
   "source": [
    "quantile1=np.percentile(ab,25)\n",
    "quantile3=np.percentile(ab,75)"
   ]
  },
  {
   "cell_type": "code",
   "execution_count": 95,
   "id": "fb79ff44",
   "metadata": {},
   "outputs": [
    {
     "name": "stdout",
     "output_type": "stream",
     "text": [
      "2.5 6.5\n"
     ]
    }
   ],
   "source": [
    "print(quantile1,quantile3)"
   ]
  },
  {
   "cell_type": "code",
   "execution_count": 96,
   "id": "96a3bbe8",
   "metadata": {},
   "outputs": [
    {
     "data": {
      "text/plain": [
       "4.0"
      ]
     },
     "execution_count": 96,
     "metadata": {},
     "output_type": "execute_result"
    }
   ],
   "source": [
    "IQR=quantile3-quantile1\n",
    "IQR"
   ]
  },
  {
   "cell_type": "code",
   "execution_count": 97,
   "id": "9bd5fdb6",
   "metadata": {},
   "outputs": [
    {
     "name": "stdout",
     "output_type": "stream",
     "text": [
      "-3.5\n",
      "12.5\n"
     ]
    }
   ],
   "source": [
    "lower_bound_value=quantile1-(1.5*IQR)\n",
    "upper_bound_value=quantile3+(1.5*IQR)\n",
    "print(lower_bound_value)\n",
    "print(upper_bound_value)"
   ]
  },
  {
   "cell_type": "code",
   "execution_count": 74,
   "id": "59f3842c",
   "metadata": {},
   "outputs": [
    {
     "data": {
      "text/plain": [
       "<AxesSubplot:xlabel='Glucose', ylabel='Density'>"
      ]
     },
     "execution_count": 74,
     "metadata": {},
     "output_type": "execute_result"
    },
    {
     "data": {
      "image/png": "[encoded data removed]",
      "text/plain": [
       "<Figure size 432x288 with 1 Axes>"
      ]
     },
     "metadata": {
      "needs_background": "light"
     },
     "output_type": "display_data"
    }
   ],
   "source": [
    "sns.kdeplot(x=dia['Glucose'])"
   ]
  },
  {
   "cell_type": "code",
   "execution_count": 136,
   "id": "5ab3b613",
   "metadata": {},
   "outputs": [
    {
     "data": {
      "text/plain": [
       "<AxesSubplot:xlabel='Glucose'>"
      ]
     },
     "execution_count": 136,
     "metadata": {},
     "output_type": "execute_result"
    },
    {
     "data": {
      "image/png": "[encoded data removed]",
      "text/plain": [
       "<Figure size 432x288 with 1 Axes>"
      ]
     },
     "metadata": {
      "needs_background": "light"
     },
     "output_type": "display_data"
    }
   ],
   "source": [
    "sns.boxplot(x=dia['Glucose'])"
   ]
  },
  {
   "cell_type": "code",
   "execution_count": 137,
   "id": "2a639d2d",
   "metadata": {},
   "outputs": [
    {
     "data": {
      "text/plain": [
       "<AxesSubplot:xlabel='Age', ylabel='Density'>"
      ]
     },
     "execution_count": 137,
     "metadata": {},
     "output_type": "execute_result"
    },
    {
     "data": {
      "image/png": "[encoded data removed]",
      "text/plain": [
       "<Figure size 432x288 with 1 Axes>"
      ]
     },
     "metadata": {
      "needs_background": "light"
     },
     "output_type": "display_data"
    }
   ],
   "source": [
    "sns.kdeplot(dia['Age'])"
   ]
  },
  {
   "cell_type": "code",
   "execution_count": 138,
   "id": "1d4c1190",
   "metadata": {},
   "outputs": [
    {
     "data": {
      "text/plain": [
       "<AxesSubplot:xlabel='Age'>"
      ]
     },
     "execution_count": 138,
     "metadata": {},
     "output_type": "execute_result"
    },
    {
     "data": {
      "image/png": "[encoded data removed]",
      "text/plain": [
       "<Figure size 432x288 with 1 Axes>"
      ]
     },
     "metadata": {
      "needs_background": "light"
     },
     "output_type": "display_data"
    }
   ],
   "source": [
    "sns.boxplot(x=dia['Age'])"
   ]
  },
  {
   "cell_type": "code",
   "execution_count": 139,
   "id": "13c3fcbd",
   "metadata": {},
   "outputs": [
    {
     "name": "stdout",
     "output_type": "stream",
     "text": [
      "IQR is 17.0\n",
      "upper tail is 66.5\n",
      "lower tail is -1.5\n"
     ]
    }
   ],
   "source": [
    "#detecting Outliers\n",
    "q1=dia['Age'].quantile(0.25)\n",
    "q2=dia['Age'].quantile(0.50)\n",
    "q3=dia['Age'].quantile(0.75)\n",
    "\n",
    "IQR= q3-q1\n",
    "print('IQR is',IQR)\n",
    "\n",
    "upper_tail=q3+1.5*IQR\n",
    "print('upper tail is',upper_tail)\n",
    "\n",
    "lower_tail=q1-1.5*IQR\n",
    "print('lower tail is',lower_tail)\n"
   ]
  },
  {
   "cell_type": "code",
   "execution_count": 140,
   "id": "5c0861bd",
   "metadata": {},
   "outputs": [
    {
     "data": {
      "text/html": [
       "<div>\n",
       "<style scoped>\n",
       "    .dataframe tbody tr th:only-of-type {\n",
       "        vertical-align: middle;\n",
       "    }\n",
       "\n",
       "    .dataframe tbody tr th {\n",
       "        vertical-align: top;\n",
       "    }\n",
       "\n",
       "    .dataframe thead th {\n",
       "        text-align: right;\n",
       "    }\n",
       "</style>\n",
       "<table border=\"1\" class=\"dataframe\">\n",
       "  <thead>\n",
       "    <tr style=\"text-align: right;\">\n",
       "      <th></th>\n",
       "      <th>Glucose</th>\n",
       "      <th>BloodPressure</th>\n",
       "      <th>SkinThickness</th>\n",
       "      <th>Insulin</th>\n",
       "      <th>BMI</th>\n",
       "      <th>DiabetesPedigreeFunction</th>\n",
       "      <th>Age</th>\n",
       "      <th>Outcome</th>\n",
       "    </tr>\n",
       "  </thead>\n",
       "  <tbody>\n",
       "    <tr>\n",
       "      <th>123</th>\n",
       "      <td>132</td>\n",
       "      <td>80</td>\n",
       "      <td>0</td>\n",
       "      <td>0</td>\n",
       "      <td>26.8</td>\n",
       "      <td>0.186</td>\n",
       "      <td>69</td>\n",
       "      <td>0</td>\n",
       "    </tr>\n",
       "    <tr>\n",
       "      <th>363</th>\n",
       "      <td>146</td>\n",
       "      <td>78</td>\n",
       "      <td>0</td>\n",
       "      <td>0</td>\n",
       "      <td>38.5</td>\n",
       "      <td>0.520</td>\n",
       "      <td>67</td>\n",
       "      <td>1</td>\n",
       "    </tr>\n",
       "    <tr>\n",
       "      <th>453</th>\n",
       "      <td>119</td>\n",
       "      <td>0</td>\n",
       "      <td>0</td>\n",
       "      <td>0</td>\n",
       "      <td>19.6</td>\n",
       "      <td>0.832</td>\n",
       "      <td>72</td>\n",
       "      <td>0</td>\n",
       "    </tr>\n",
       "    <tr>\n",
       "      <th>459</th>\n",
       "      <td>134</td>\n",
       "      <td>74</td>\n",
       "      <td>33</td>\n",
       "      <td>60</td>\n",
       "      <td>25.9</td>\n",
       "      <td>0.460</td>\n",
       "      <td>81</td>\n",
       "      <td>0</td>\n",
       "    </tr>\n",
       "    <tr>\n",
       "      <th>489</th>\n",
       "      <td>194</td>\n",
       "      <td>80</td>\n",
       "      <td>0</td>\n",
       "      <td>0</td>\n",
       "      <td>26.1</td>\n",
       "      <td>0.551</td>\n",
       "      <td>67</td>\n",
       "      <td>0</td>\n",
       "    </tr>\n",
       "    <tr>\n",
       "      <th>537</th>\n",
       "      <td>57</td>\n",
       "      <td>60</td>\n",
       "      <td>0</td>\n",
       "      <td>0</td>\n",
       "      <td>21.7</td>\n",
       "      <td>0.735</td>\n",
       "      <td>67</td>\n",
       "      <td>0</td>\n",
       "    </tr>\n",
       "    <tr>\n",
       "      <th>666</th>\n",
       "      <td>145</td>\n",
       "      <td>82</td>\n",
       "      <td>18</td>\n",
       "      <td>0</td>\n",
       "      <td>32.5</td>\n",
       "      <td>0.235</td>\n",
       "      <td>70</td>\n",
       "      <td>1</td>\n",
       "    </tr>\n",
       "    <tr>\n",
       "      <th>674</th>\n",
       "      <td>91</td>\n",
       "      <td>82</td>\n",
       "      <td>0</td>\n",
       "      <td>0</td>\n",
       "      <td>35.6</td>\n",
       "      <td>0.587</td>\n",
       "      <td>68</td>\n",
       "      <td>0</td>\n",
       "    </tr>\n",
       "    <tr>\n",
       "      <th>684</th>\n",
       "      <td>136</td>\n",
       "      <td>82</td>\n",
       "      <td>0</td>\n",
       "      <td>0</td>\n",
       "      <td>0.0</td>\n",
       "      <td>0.640</td>\n",
       "      <td>69</td>\n",
       "      <td>0</td>\n",
       "    </tr>\n",
       "  </tbody>\n",
       "</table>\n",
       "</div>"
      ],
      "text/plain": [
       "     Glucose  BloodPressure  SkinThickness  Insulin   BMI  \\\n",
       "123      132             80              0        0  26.8   \n",
       "363      146             78              0        0  38.5   \n",
       "453      119              0              0        0  19.6   \n",
       "459      134             74             33       60  25.9   \n",
       "489      194             80              0        0  26.1   \n",
       "537       57             60              0        0  21.7   \n",
       "666      145             82             18        0  32.5   \n",
       "674       91             82              0        0  35.6   \n",
       "684      136             82              0        0   0.0   \n",
       "\n",
       "     DiabetesPedigreeFunction  Age  Outcome  \n",
       "123                     0.186   69        0  \n",
       "363                     0.520   67        1  \n",
       "453                     0.832   72        0  \n",
       "459                     0.460   81        0  \n",
       "489                     0.551   67        0  \n",
       "537                     0.735   67        0  \n",
       "666                     0.235   70        1  \n",
       "674                     0.587   68        0  \n",
       "684                     0.640   69        0  "
      ]
     },
     "execution_count": 140,
     "metadata": {},
     "output_type": "execute_result"
    }
   ],
   "source": [
    "dia.loc[(dia['Age']=>upper_tail)]"
   ]
  },
  {
   "cell_type": "code",
   "execution_count": 141,
   "id": "2c3aff04",
   "metadata": {},
   "outputs": [
    {
     "data": {
      "text/html": [
       "<div>\n",
       "<style scoped>\n",
       "    .dataframe tbody tr th:only-of-type {\n",
       "        vertical-align: middle;\n",
       "    }\n",
       "\n",
       "    .dataframe tbody tr th {\n",
       "        vertical-align: top;\n",
       "    }\n",
       "\n",
       "    .dataframe thead th {\n",
       "        text-align: right;\n",
       "    }\n",
       "</style>\n",
       "<table border=\"1\" class=\"dataframe\">\n",
       "  <thead>\n",
       "    <tr style=\"text-align: right;\">\n",
       "      <th></th>\n",
       "      <th>Glucose</th>\n",
       "      <th>BloodPressure</th>\n",
       "      <th>SkinThickness</th>\n",
       "      <th>Insulin</th>\n",
       "      <th>BMI</th>\n",
       "      <th>DiabetesPedigreeFunction</th>\n",
       "      <th>Age</th>\n",
       "      <th>Outcome</th>\n",
       "    </tr>\n",
       "  </thead>\n",
       "  <tbody>\n",
       "  </tbody>\n",
       "</table>\n",
       "</div>"
      ],
      "text/plain": [
       "Empty DataFrame\n",
       "Columns: [Glucose, BloodPressure, SkinThickness, Insulin, BMI, DiabetesPedigreeFunction, Age, Outcome]\n",
       "Index: []"
      ]
     },
     "execution_count": 141,
     "metadata": {},
     "output_type": "execute_result"
    }
   ],
   "source": [
    "dia.loc[(dia['Age']<=lower_tail)]"
   ]
  },
  {
   "cell_type": "code",
   "execution_count": 142,
   "id": "184ceaee",
   "metadata": {},
   "outputs": [
    {
     "data": {
      "text/plain": [
       "32.80764163372859"
      ]
     },
     "execution_count": 142,
     "metadata": {},
     "output_type": "execute_result"
    }
   ],
   "source": [
    "mean=dia.loc[(dia['Age']<=upper_tail),'Age'].mean()\n",
    "mean"
   ]
  },
  {
   "cell_type": "code",
   "execution_count": 143,
   "id": "2e7b41a9",
   "metadata": {},
   "outputs": [
    {
     "data": {
      "text/plain": [
       "29.0"
      ]
     },
     "execution_count": 143,
     "metadata": {},
     "output_type": "execute_result"
    }
   ],
   "source": [
    "mid=dia.loc[(dia['Age']<=upper_tail),'Age'].median()\n",
    "mid"
   ]
  },
  {
   "cell_type": "code",
   "execution_count": 123,
   "id": "84bca395",
   "metadata": {},
   "outputs": [],
   "source": [
    "dia.loc[(dia['Age']>=upper_tail,'Age')]=mid # do it at last \n",
    "# Replacing the outlier values with median value"
   ]
  },
  {
   "cell_type": "markdown",
   "id": "6cb72e35",
   "metadata": {},
   "source": [
    "# Transformations"
   ]
  },
  {
   "cell_type": "raw",
   "id": "5e7fd40b",
   "metadata": {},
   "source": [
    "When applying a log transformation to handle outliers in a dataset, it is generally recommended to \n",
    "apply the transformation to the entire dataset, including both outlier and non-outlier values. \n",
    "The reason for this is to ensure that the transformation maintains the relative relationships \n",
    "between all the data points, and it can lead to a more meaningful analysis."
   ]
  },
  {
   "cell_type": "markdown",
   "id": "810126b5",
   "metadata": {},
   "source": [
    "## 1.log Transformation"
   ]
  },
  {
   "cell_type": "code",
   "execution_count": 144,
   "id": "112364c9",
   "metadata": {},
   "outputs": [
    {
     "data": {
      "text/html": [
       "<div>\n",
       "<style scoped>\n",
       "    .dataframe tbody tr th:only-of-type {\n",
       "        vertical-align: middle;\n",
       "    }\n",
       "\n",
       "    .dataframe tbody tr th {\n",
       "        vertical-align: top;\n",
       "    }\n",
       "\n",
       "    .dataframe thead th {\n",
       "        text-align: right;\n",
       "    }\n",
       "</style>\n",
       "<table border=\"1\" class=\"dataframe\">\n",
       "  <thead>\n",
       "    <tr style=\"text-align: right;\">\n",
       "      <th></th>\n",
       "      <th>Glucose</th>\n",
       "      <th>BloodPressure</th>\n",
       "      <th>SkinThickness</th>\n",
       "      <th>Insulin</th>\n",
       "      <th>BMI</th>\n",
       "      <th>DiabetesPedigreeFunction</th>\n",
       "      <th>Age</th>\n",
       "      <th>Outcome</th>\n",
       "    </tr>\n",
       "  </thead>\n",
       "  <tbody>\n",
       "    <tr>\n",
       "      <th>0</th>\n",
       "      <td>148</td>\n",
       "      <td>50</td>\n",
       "      <td>35</td>\n",
       "      <td>0</td>\n",
       "      <td>33.6</td>\n",
       "      <td>0.627</td>\n",
       "      <td>50</td>\n",
       "      <td>1</td>\n",
       "    </tr>\n",
       "    <tr>\n",
       "      <th>1</th>\n",
       "      <td>85</td>\n",
       "      <td>66</td>\n",
       "      <td>29</td>\n",
       "      <td>0</td>\n",
       "      <td>26.6</td>\n",
       "      <td>0.351</td>\n",
       "      <td>31</td>\n",
       "      <td>0</td>\n",
       "    </tr>\n",
       "    <tr>\n",
       "      <th>2</th>\n",
       "      <td>183</td>\n",
       "      <td>64</td>\n",
       "      <td>0</td>\n",
       "      <td>0</td>\n",
       "      <td>23.3</td>\n",
       "      <td>0.672</td>\n",
       "      <td>52</td>\n",
       "      <td>1</td>\n",
       "    </tr>\n",
       "    <tr>\n",
       "      <th>3</th>\n",
       "      <td>150</td>\n",
       "      <td>66</td>\n",
       "      <td>23</td>\n",
       "      <td>94</td>\n",
       "      <td>28.1</td>\n",
       "      <td>0.167</td>\n",
       "      <td>21</td>\n",
       "      <td>0</td>\n",
       "    </tr>\n",
       "    <tr>\n",
       "      <th>4</th>\n",
       "      <td>150</td>\n",
       "      <td>40</td>\n",
       "      <td>35</td>\n",
       "      <td>168</td>\n",
       "      <td>43.1</td>\n",
       "      <td>2.288</td>\n",
       "      <td>33</td>\n",
       "      <td>1</td>\n",
       "    </tr>\n",
       "    <tr>\n",
       "      <th>...</th>\n",
       "      <td>...</td>\n",
       "      <td>...</td>\n",
       "      <td>...</td>\n",
       "      <td>...</td>\n",
       "      <td>...</td>\n",
       "      <td>...</td>\n",
       "      <td>...</td>\n",
       "      <td>...</td>\n",
       "    </tr>\n",
       "    <tr>\n",
       "      <th>763</th>\n",
       "      <td>101</td>\n",
       "      <td>76</td>\n",
       "      <td>48</td>\n",
       "      <td>180</td>\n",
       "      <td>32.9</td>\n",
       "      <td>0.171</td>\n",
       "      <td>63</td>\n",
       "      <td>0</td>\n",
       "    </tr>\n",
       "    <tr>\n",
       "      <th>764</th>\n",
       "      <td>122</td>\n",
       "      <td>70</td>\n",
       "      <td>27</td>\n",
       "      <td>0</td>\n",
       "      <td>36.8</td>\n",
       "      <td>0.340</td>\n",
       "      <td>27</td>\n",
       "      <td>0</td>\n",
       "    </tr>\n",
       "    <tr>\n",
       "      <th>765</th>\n",
       "      <td>121</td>\n",
       "      <td>72</td>\n",
       "      <td>23</td>\n",
       "      <td>112</td>\n",
       "      <td>26.2</td>\n",
       "      <td>0.245</td>\n",
       "      <td>30</td>\n",
       "      <td>0</td>\n",
       "    </tr>\n",
       "    <tr>\n",
       "      <th>766</th>\n",
       "      <td>126</td>\n",
       "      <td>60</td>\n",
       "      <td>0</td>\n",
       "      <td>0</td>\n",
       "      <td>30.1</td>\n",
       "      <td>0.349</td>\n",
       "      <td>47</td>\n",
       "      <td>1</td>\n",
       "    </tr>\n",
       "    <tr>\n",
       "      <th>767</th>\n",
       "      <td>93</td>\n",
       "      <td>70</td>\n",
       "      <td>31</td>\n",
       "      <td>0</td>\n",
       "      <td>30.4</td>\n",
       "      <td>0.315</td>\n",
       "      <td>23</td>\n",
       "      <td>0</td>\n",
       "    </tr>\n",
       "  </tbody>\n",
       "</table>\n",
       "<p>768 rows × 8 columns</p>\n",
       "</div>"
      ],
      "text/plain": [
       "     Glucose  BloodPressure  SkinThickness  Insulin   BMI  \\\n",
       "0        148             50             35        0  33.6   \n",
       "1         85             66             29        0  26.6   \n",
       "2        183             64              0        0  23.3   \n",
       "3        150             66             23       94  28.1   \n",
       "4        150             40             35      168  43.1   \n",
       "..       ...            ...            ...      ...   ...   \n",
       "763      101             76             48      180  32.9   \n",
       "764      122             70             27        0  36.8   \n",
       "765      121             72             23      112  26.2   \n",
       "766      126             60              0        0  30.1   \n",
       "767       93             70             31        0  30.4   \n",
       "\n",
       "     DiabetesPedigreeFunction  Age  Outcome  \n",
       "0                       0.627   50        1  \n",
       "1                       0.351   31        0  \n",
       "2                       0.672   52        1  \n",
       "3                       0.167   21        0  \n",
       "4                       2.288   33        1  \n",
       "..                        ...  ...      ...  \n",
       "763                     0.171   63        0  \n",
       "764                     0.340   27        0  \n",
       "765                     0.245   30        0  \n",
       "766                     0.349   47        1  \n",
       "767                     0.315   23        0  \n",
       "\n",
       "[768 rows x 8 columns]"
      ]
     },
     "execution_count": 144,
     "metadata": {},
     "output_type": "execute_result"
    }
   ],
   "source": [
    "dib_df=pd.read_csv('diabetes.csv')\n",
    "dib_df"
   ]
  },
  {
   "cell_type": "code",
   "execution_count": 145,
   "id": "c0b1f59e",
   "metadata": {},
   "outputs": [
    {
     "data": {
      "text/plain": [
       "<AxesSubplot:xlabel='Age'>"
      ]
     },
     "execution_count": 145,
     "metadata": {},
     "output_type": "execute_result"
    },
    {
     "data": {
      "image/png": "[encoded data removed]",
      "text/plain": [
       "<Figure size 432x288 with 1 Axes>"
      ]
     },
     "metadata": {
      "needs_background": "light"
     },
     "output_type": "display_data"
    }
   ],
   "source": [
    "sns.boxplot(x=dib_df['Age'])"
   ]
  },
  {
   "cell_type": "code",
   "execution_count": 146,
   "id": "6dd947de",
   "metadata": {},
   "outputs": [
    {
     "data": {
      "text/plain": [
       "<AxesSubplot:xlabel='Age'>"
      ]
     },
     "execution_count": 146,
     "metadata": {},
     "output_type": "execute_result"
    },
    {
     "data": {
      "image/png": "[encoded data removed]",
      "text/plain": [
       "<Figure size 432x288 with 1 Axes>"
      ]
     },
     "metadata": {
      "needs_background": "light"
     },
     "output_type": "display_data"
    }
   ],
   "source": [
    "sns.boxplot(x=np.log(dib_df['Age']))"
   ]
  },
  {
   "cell_type": "code",
   "execution_count": 147,
   "id": "96d08b3a",
   "metadata": {},
   "outputs": [
    {
     "data": {
      "text/plain": [
       "<AxesSubplot:xlabel='Age', ylabel='Density'>"
      ]
     },
     "execution_count": 147,
     "metadata": {},
     "output_type": "execute_result"
    },
    {
     "data": {
      "image/png": "[encoded data removed]",
      "text/plain": [
       "<Figure size 432x288 with 1 Axes>"
      ]
     },
     "metadata": {
      "needs_background": "light"
     },
     "output_type": "display_data"
    }
   ],
   "source": [
    " sns.kdeplot(dib_df['Age'])"
   ]
  },
  {
   "cell_type": "code",
   "execution_count": 148,
   "id": "f022bc61",
   "metadata": {},
   "outputs": [
    {
     "data": {
      "text/plain": [
       "<AxesSubplot:xlabel='Age', ylabel='Density'>"
      ]
     },
     "execution_count": 148,
     "metadata": {},
     "output_type": "execute_result"
    },
    {
     "data": {
      "image/png": "[encoded data removed]",
      "text/plain": [
       "<Figure size 432x288 with 1 Axes>"
      ]
     },
     "metadata": {
      "needs_background": "light"
     },
     "output_type": "display_data"
    }
   ],
   "source": [
    "sns.kdeplot(np.log(dib_df['Age']))"
   ]
  },
  {
   "cell_type": "code",
   "execution_count": 149,
   "id": "ad08aa02",
   "metadata": {},
   "outputs": [
    {
     "data": {
      "text/plain": [
       "0      3.912023\n",
       "1      3.433987\n",
       "2      3.951244\n",
       "3      3.044522\n",
       "4      3.496508\n",
       "         ...   \n",
       "763    4.143135\n",
       "764    3.295837\n",
       "765    3.401197\n",
       "766    3.850148\n",
       "767    3.135494\n",
       "Name: Age, Length: 768, dtype: float64"
      ]
     },
     "execution_count": 149,
     "metadata": {},
     "output_type": "execute_result"
    }
   ],
   "source": [
    "val=np.log(dib_df['Age']) # making log of original values\n",
    "val"
   ]
  },
  {
   "cell_type": "code",
   "execution_count": 150,
   "id": "cfcde54d",
   "metadata": {},
   "outputs": [
    {
     "data": {
      "text/plain": [
       "0      50.0\n",
       "1      31.0\n",
       "2      52.0\n",
       "3      21.0\n",
       "4      33.0\n",
       "       ... \n",
       "763    63.0\n",
       "764    27.0\n",
       "765    30.0\n",
       "766    47.0\n",
       "767    23.0\n",
       "Name: Age, Length: 768, dtype: float64"
      ]
     },
     "execution_count": 150,
     "metadata": {},
     "output_type": "execute_result"
    }
   ],
   "source": [
    "np.exp(val) # giving original values"
   ]
  },
  {
   "cell_type": "code",
   "execution_count": 151,
   "id": "2519297e",
   "metadata": {},
   "outputs": [
    {
     "data": {
      "text/plain": [
       "<AxesSubplot:ylabel='Age'>"
      ]
     },
     "execution_count": 151,
     "metadata": {},
     "output_type": "execute_result"
    },
    {
     "data": {
      "image/png": "[encoded data removed]",
      "text/plain": [
       "<Figure size 432x288 with 1 Axes>"
      ]
     },
     "metadata": {
      "needs_background": "light"
     },
     "output_type": "display_data"
    }
   ],
   "source": [
    "sns.scatterplot(data=np.log(dib_df['Age']))"
   ]
  },
  {
   "cell_type": "code",
   "execution_count": 152,
   "id": "66ad42c3",
   "metadata": {
    "scrolled": true
   },
   "outputs": [
    {
     "data": {
      "text/plain": [
       "<AxesSubplot:xlabel='Age'>"
      ]
     },
     "execution_count": 152,
     "metadata": {},
     "output_type": "execute_result"
    },
    {
     "data": {
      "image/png": "[encoded data removed]",
      "text/plain": [
       "<Figure size 432x288 with 1 Axes>"
      ]
     },
     "metadata": {
      "needs_background": "light"
     },
     "output_type": "display_data"
    }
   ],
   "source": [
    "sns.scatterplot(x=np.log(dib_df['Age']))"
   ]
  },
  {
   "cell_type": "markdown",
   "id": "b5cfdcd9",
   "metadata": {},
   "source": [
    "## 2.cube root transformation"
   ]
  },
  {
   "cell_type": "code",
   "execution_count": 153,
   "id": "6cb5fecc",
   "metadata": {},
   "outputs": [
    {
     "data": {
      "text/plain": [
       "<AxesSubplot:xlabel='Age'>"
      ]
     },
     "execution_count": 153,
     "metadata": {},
     "output_type": "execute_result"
    },
    {
     "data": {
      "image/png": "[encoded data removed]",
      "text/plain": [
       "<Figure size 432x288 with 1 Axes>"
      ]
     },
     "metadata": {
      "needs_background": "light"
     },
     "output_type": "display_data"
    }
   ],
   "source": [
    "sns.boxplot(x=np.cbrt(dib_df['Age']))"
   ]
  },
  {
   "cell_type": "markdown",
   "id": "ab9ca14a",
   "metadata": {},
   "source": [
    "## 3.Square Root Transformation"
   ]
  },
  {
   "cell_type": "code",
   "execution_count": 154,
   "id": "1899900f",
   "metadata": {},
   "outputs": [
    {
     "data": {
      "text/plain": [
       "<AxesSubplot:xlabel='Age'>"
      ]
     },
     "execution_count": 154,
     "metadata": {},
     "output_type": "execute_result"
    },
    {
     "data": {
      "image/png": "[encoded data removed]",
      "text/plain": [
       "<Figure size 432x288 with 1 Axes>"
      ]
     },
     "metadata": {
      "needs_background": "light"
     },
     "output_type": "display_data"
    }
   ],
   "source": [
    "sns.boxplot(x=np.sqrt(dib_df['Age']))"
   ]
  },
  {
   "cell_type": "markdown",
   "id": "7f0b7fe6",
   "metadata": {},
   "source": [
    "## 4.Reciprocal Transformation"
   ]
  },
  {
   "cell_type": "code",
   "execution_count": 155,
   "id": "841c4d1c",
   "metadata": {},
   "outputs": [
    {
     "data": {
      "text/plain": [
       "<AxesSubplot:xlabel='Age'>"
      ]
     },
     "execution_count": 155,
     "metadata": {},
     "output_type": "execute_result"
    },
    {
     "data": {
      "image/png": "[encoded data removed]",
      "text/plain": [
       "<Figure size 432x288 with 1 Axes>"
      ]
     },
     "metadata": {
      "needs_background": "light"
     },
     "output_type": "display_data"
    }
   ],
   "source": [
    "sns.boxplot(x=1/dib_df['Age'])"
   ]
  },
  {
   "cell_type": "code",
   "execution_count": 156,
   "id": "25faa626",
   "metadata": {},
   "outputs": [
    {
     "data": {
      "text/plain": [
       "110    24\n",
       "111    46\n",
       "112    23\n",
       "113    25\n",
       "114    39\n",
       "115    61\n",
       "116    38\n",
       "117    25\n",
       "118    22\n",
       "119    21\n",
       "120    25\n",
       "121    24\n",
       "122    23\n",
       "123    69\n",
       "124    23\n",
       "125    26\n",
       "126    30\n",
       "127    23\n",
       "128    40\n",
       "129    62\n",
       "130    33\n",
       "131    33\n",
       "132    30\n",
       "133    39\n",
       "134    26\n",
       "135    31\n",
       "136    21\n",
       "137    22\n",
       "138    29\n",
       "139    28\n",
       "140    55\n",
       "141    38\n",
       "142    22\n",
       "143    42\n",
       "144    23\n",
       "145    21\n",
       "146    41\n",
       "147    34\n",
       "148    65\n",
       "149    22\n",
       "150    24\n",
       "Name: Age, dtype: int64"
      ]
     },
     "execution_count": 156,
     "metadata": {},
     "output_type": "execute_result"
    }
   ],
   "source": [
    "dib_df['Age'].loc[110:150]"
   ]
  },
  {
   "cell_type": "raw",
   "id": "219eac46",
   "metadata": {},
   "source": [
    "Standardization :\n",
    "    (X - Xmean)/std\n",
    "    \n",
    "Normalization: >> all the values does come in range of 0-1.\n",
    "    (X - Xmin)/(Xmax-Xmin)\n",
    "    "
   ]
  },
  {
   "cell_type": "markdown",
   "id": "5fe7b24e",
   "metadata": {},
   "source": [
    "# Box-Cox Transformation"
   ]
  },
  {
   "cell_type": "code",
   "execution_count": 157,
   "id": "bcd6cb88",
   "metadata": {},
   "outputs": [],
   "source": [
    "from scipy.stats import boxcox"
   ]
  },
  {
   "cell_type": "code",
   "execution_count": 158,
   "id": "3fd09cfc",
   "metadata": {},
   "outputs": [
    {
     "data": {
      "text/plain": [
       "array([0.9028187 , 0.89406591, 0.90335405, 0.88265698, 0.89548633,\n",
       "       0.89328126, 0.88950801, 0.8924399 , 0.8967374 , 0.90384799,\n",
       "       0.89328126, 0.89613111, 0.90452106, 0.90493006, 0.90309187,\n",
       "       0.89479934, 0.89406591, 0.89406591, 0.89548633, 0.89479934,\n",
       "       0.89056107, 0.9028187 , 0.8997287 , 0.8924399 , 0.90309187,\n",
       "       0.8997287 , 0.90053248, 0.88428826, 0.90452106, 0.89835655,\n",
       "       0.90512388, 0.89153558, 0.88428826, 0.89153558, 0.90126168,\n",
       "       0.89548633, 0.8967374 , 0.90160144, 0.89056107, 0.90430508,\n",
       "       0.88950801, 0.89784734, 0.9022366 , 0.90384799, 0.89929523,\n",
       "       0.88836665, 0.8924399 , 0.88428826, 0.89406591, 0.88712561,\n",
       "       0.88428826, 0.88950801, 0.89328126, 0.90472925, 0.9001406 ,\n",
       "       0.88265698, 0.8997287 , 0.89406591, 0.90090575, 0.88428826,\n",
       "       0.88265698, 0.89883848, 0.89730849, 0.88712561, 0.9001406 ,\n",
       "       0.89479934, 0.89835655, 0.90384799, 0.88836665, 0.89056107,\n",
       "       0.89153558, 0.88950801, 0.9001406 , 0.88577146, 0.88428826,\n",
       "       0.88428826, 0.8997287 , 0.89056107, 0.88950801, 0.88712561,\n",
       "       0.88428826, 0.88428826, 0.89730849, 0.88428826, 0.89784734,\n",
       "       0.89056107, 0.90126168, 0.88950801, 0.90053248, 0.88712561,\n",
       "       0.88265698, 0.89613111, 0.9001406 , 0.90512388, 0.88265698,\n",
       "       0.89929523, 0.88712561, 0.88428826, 0.88577146, 0.89406591,\n",
       "       0.89548633, 0.88428826, 0.88265698, 0.88712561, 0.89056107,\n",
       "       0.88265698, 0.89056107, 0.89784734, 0.88836665, 0.88712561,\n",
       "       0.88712561, 0.90160144, 0.88577146, 0.88836665, 0.89883848,\n",
       "       0.90531106, 0.89835655, 0.88836665, 0.88428826, 0.88265698,\n",
       "       0.88836665, 0.88712561, 0.88577146, 0.90660494, 0.88577146,\n",
       "       0.88950801, 0.89328126, 0.88577146, 0.89929523, 0.90549192,\n",
       "       0.89548633, 0.89548633, 0.89328126, 0.89883848, 0.88950801,\n",
       "       0.89406591, 0.88265698, 0.88428826, 0.8924399 , 0.89153558,\n",
       "       0.90408088, 0.89835655, 0.88428826, 0.9001406 , 0.88577146,\n",
       "       0.88265698, 0.8997287 , 0.89613111, 0.90599964, 0.88428826,\n",
       "       0.88712561, 0.89784734, 0.9001406 , 0.88577146, 0.90053248,\n",
       "       0.89730849, 0.88265698, 0.88577146, 0.88428826, 0.90192609,\n",
       "       0.89730849, 0.90126168, 0.89056107, 0.88265698, 0.89479934,\n",
       "       0.8997287 , 0.88428826, 0.89613111, 0.8924399 , 0.8924399 ,\n",
       "       0.89730849, 0.8924399 , 0.88836665, 0.88577146, 0.89548633,\n",
       "       0.89730849, 0.9001406 , 0.88950801, 0.90192609, 0.89784734,\n",
       "       0.89479934, 0.88577146, 0.88265698, 0.89056107, 0.89929523,\n",
       "       0.8997287 , 0.90512388, 0.89548633, 0.89406591, 0.88836665,\n",
       "       0.88265698, 0.89929523, 0.89730849, 0.89929523, 0.9001406 ,\n",
       "       0.8924399 , 0.88265698, 0.88577146, 0.88950801, 0.8924399 ,\n",
       "       0.88265698, 0.89153558, 0.89479934, 0.89056107, 0.90408088,\n",
       "       0.89056107, 0.90452106, 0.90335405, 0.88265698, 0.8997287 ,\n",
       "       0.88836665, 0.88712561, 0.90512388, 0.88712561, 0.89730849,\n",
       "       0.89835655, 0.88836665, 0.89479934, 0.89479934, 0.8997287 ,\n",
       "       0.88265698, 0.90615816, 0.89784734, 0.90531106, 0.88950801,\n",
       "       0.88428826, 0.88950801, 0.88712561, 0.89406591, 0.88712561,\n",
       "       0.88428826, 0.90160144, 0.88428826, 0.8924399 , 0.88577146,\n",
       "       0.88950801, 0.90309187, 0.88577146, 0.89479934, 0.89056107,\n",
       "       0.88265698, 0.88428826, 0.88428826, 0.89548633, 0.8924399 ,\n",
       "       0.90253386, 0.8997287 , 0.88577146, 0.89613111, 0.88577146,\n",
       "       0.9001406 , 0.89056107, 0.88712561, 0.88836665, 0.90090575,\n",
       "       0.88265698, 0.89328126, 0.88836665, 0.88712561, 0.90309187,\n",
       "       0.89613111, 0.89056107, 0.88712561, 0.90566678, 0.8967374 ,\n",
       "       0.90053248, 0.88836665, 0.88712561, 0.88265698, 0.89153558,\n",
       "       0.89835655, 0.88265698, 0.89929523, 0.88265698, 0.90335405,\n",
       "       0.88836665, 0.8924399 , 0.88577146, 0.90452106, 0.88428826,\n",
       "       0.89153558, 0.89883848, 0.89784734, 0.90192609, 0.90335405,\n",
       "       0.90309187, 0.89613111, 0.8924399 , 0.88950801, 0.89548633,\n",
       "       0.88265698, 0.88836665, 0.89406591, 0.88712561, 0.90599964,\n",
       "       0.89153558, 0.8924399 , 0.88712561, 0.90160144, 0.90472925,\n",
       "       0.89328126, 0.88836665, 0.8967374 , 0.89153558, 0.89784734,\n",
       "       0.8924399 , 0.90192609, 0.88265698, 0.88836665, 0.89328126,\n",
       "       0.8997287 , 0.88428826, 0.89056107, 0.88836665, 0.90053248,\n",
       "       0.88950801, 0.89328126, 0.8924399 , 0.89153558, 0.90493006,\n",
       "       0.89406591, 0.88836665, 0.89730849, 0.90053248, 0.88265698,\n",
       "       0.88712561, 0.89328126, 0.89784734, 0.88577146, 0.89784734,\n",
       "       0.90160144, 0.88836665, 0.8997287 , 0.90090575, 0.88428826,\n",
       "       0.88950801, 0.90090575, 0.90090575, 0.89548633, 0.8997287 ,\n",
       "       0.88428826, 0.89730849, 0.88428826, 0.89548633, 0.90452106,\n",
       "       0.90253386, 0.88428826, 0.88577146, 0.88950801, 0.89784734,\n",
       "       0.8924399 , 0.89328126, 0.90160144, 0.88712561, 0.88265698,\n",
       "       0.90253386, 0.89153558, 0.90090575, 0.9022366 , 0.8924399 ,\n",
       "       0.8924399 , 0.90566678, 0.90599964, 0.90631174, 0.89328126,\n",
       "       0.89328126, 0.8924399 , 0.88265698, 0.88428826, 0.90126168,\n",
       "       0.88836665, 0.88265698, 0.88265698, 0.88836665, 0.89153558,\n",
       "       0.90472925, 0.88428826, 0.88428826, 0.89479934, 0.8967374 ,\n",
       "       0.88712561, 0.88428826, 0.88265698, 0.88836665, 0.88836665,\n",
       "       0.88712561, 0.8967374 , 0.90126168, 0.90472925, 0.89153558,\n",
       "       0.9001406 , 0.89056107, 0.88265698, 0.89784734, 0.89406591,\n",
       "       0.88836665, 0.89883848, 0.88428826, 0.88836665, 0.88836665,\n",
       "       0.89406591, 0.90408088, 0.8967374 , 0.89835655, 0.8997287 ,\n",
       "       0.88950801, 0.90160144, 0.88836665, 0.89883848, 0.89153558,\n",
       "       0.89153558, 0.88836665, 0.88428826, 0.88265698, 0.88265698,\n",
       "       0.88428826, 0.88428826, 0.89784734, 0.89056107, 0.89153558,\n",
       "       0.88950801, 0.88265698, 0.88265698, 0.88265698, 0.89730849,\n",
       "       0.89406591, 0.88836665, 0.89835655, 0.88950801, 0.90053248,\n",
       "       0.88577146, 0.89835655, 0.88428826, 0.8924399 , 0.89730849,\n",
       "       0.8924399 , 0.8997287 , 0.89153558, 0.88265698, 0.89406591,\n",
       "       0.8997287 , 0.88428826, 0.88712561, 0.89548633, 0.89328126,\n",
       "       0.88836665, 0.89153558, 0.88950801, 0.88428826, 0.88950801,\n",
       "       0.88577146, 0.88577146, 0.88836665, 0.90701284, 0.88712561,\n",
       "       0.89835655, 0.90549192, 0.88712561, 0.90309187, 0.90804769,\n",
       "       0.9022366 , 0.88950801, 0.89883848, 0.89784734, 0.89613111,\n",
       "       0.88265698, 0.88428826, 0.88836665, 0.89835655, 0.89056107,\n",
       "       0.89153558, 0.88428826, 0.88428826, 0.9028187 , 0.88712561,\n",
       "       0.90493006, 0.8924399 , 0.89406591, 0.89883848, 0.90566678,\n",
       "       0.8967374 , 0.8924399 , 0.89153558, 0.88577146, 0.89406591,\n",
       "       0.88712561, 0.88265698, 0.90472925, 0.89153558, 0.90631174,\n",
       "       0.88712561, 0.9001406 , 0.89548633, 0.90126168, 0.88428826,\n",
       "       0.90615816, 0.89328126, 0.88836665, 0.90408088, 0.89883848,\n",
       "       0.88265698, 0.89153558, 0.8997287 , 0.8997287 , 0.89929523,\n",
       "       0.89835655, 0.8967374 , 0.88265698, 0.88265698, 0.90583593,\n",
       "       0.90160144, 0.88265698, 0.90472925, 0.88428826, 0.88712561,\n",
       "       0.89153558, 0.90360589, 0.90309187, 0.8997287 , 0.90512388,\n",
       "       0.88836665, 0.88950801, 0.88950801, 0.90126168, 0.88712561,\n",
       "       0.88265698, 0.88265698, 0.88712561, 0.88428826, 0.89406591,\n",
       "       0.88428826, 0.88712561, 0.8924399 , 0.89406591, 0.88712561,\n",
       "       0.88577146, 0.90160144, 0.90631174, 0.88577146, 0.89479934,\n",
       "       0.90053248, 0.89056107, 0.90430508, 0.88836665, 0.8924399 ,\n",
       "       0.89784734, 0.90360589, 0.89153558, 0.9028187 , 0.89784734,\n",
       "       0.88265698, 0.88836665, 0.90615816, 0.88577146, 0.89153558,\n",
       "       0.89784734, 0.89328126, 0.90472925, 0.9001406 , 0.8967374 ,\n",
       "       0.90384799, 0.89153558, 0.88712561, 0.89479934, 0.89056107,\n",
       "       0.88428826, 0.88265698, 0.90160144, 0.89784734, 0.89548633,\n",
       "       0.89883848, 0.88265698, 0.88428826, 0.88428826, 0.88577146,\n",
       "       0.88836665, 0.8967374 , 0.88265698, 0.89730849, 0.90549192,\n",
       "       0.88265698, 0.89056107, 0.90549192, 0.9001406 , 0.90335405,\n",
       "       0.88428826, 0.8997287 , 0.8924399 , 0.90335405, 0.88836665,\n",
       "       0.90126168, 0.88712561, 0.90090575, 0.88836665, 0.89613111,\n",
       "       0.88428826, 0.90160144, 0.88265698, 0.89835655, 0.88950801,\n",
       "       0.88712561, 0.89153558, 0.89328126, 0.90384799, 0.89730849,\n",
       "       0.88265698, 0.88428826, 0.88836665, 0.89056107, 0.88577146,\n",
       "       0.88712561, 0.89730849, 0.89929523, 0.88950801, 0.9028187 ,\n",
       "       0.89056107, 0.89328126, 0.88577146, 0.9028187 , 0.88712561,\n",
       "       0.89153558, 0.89153558, 0.90126168, 0.88265698, 0.88265698,\n",
       "       0.8924399 , 0.88265698, 0.88265698, 0.90126168, 0.88265698,\n",
       "       0.89613111, 0.88712561, 0.88577146, 0.88428826, 0.89406591,\n",
       "       0.89835655, 0.9022366 , 0.88577146, 0.89479934, 0.89153558,\n",
       "       0.89056107, 0.88712561, 0.9028187 , 0.89406591, 0.89056107,\n",
       "       0.89328126, 0.89548633, 0.88428826, 0.9001406 , 0.88577146,\n",
       "       0.88577146, 0.89056107, 0.89153558, 0.89056107, 0.88428826,\n",
       "       0.88836665, 0.88428826, 0.8997287 , 0.90309187, 0.89056107,\n",
       "       0.90384799, 0.88428826, 0.90053248, 0.89929523, 0.89929523,\n",
       "       0.88712561, 0.90674497, 0.89929523, 0.90053248, 0.90126168,\n",
       "       0.90253386, 0.88265698, 0.90192609, 0.88428826, 0.9064606 ,\n",
       "       0.89406591, 0.90360589, 0.88836665, 0.88836665, 0.88577146,\n",
       "       0.88428826, 0.88950801, 0.88428826, 0.89056107, 0.90660494,\n",
       "       0.88836665, 0.88428826, 0.8924399 , 0.88577146, 0.90160144,\n",
       "       0.89613111, 0.90090575, 0.88577146, 0.90053248, 0.88836665,\n",
       "       0.90053248, 0.89406591, 0.88428826, 0.89153558, 0.88950801,\n",
       "       0.88950801, 0.90253386, 0.90335405, 0.8997287 , 0.89056107,\n",
       "       0.89153558, 0.89328126, 0.88428826, 0.90126168, 0.88577146,\n",
       "       0.88712561, 0.89929523, 0.89835655, 0.88265698, 0.89479934,\n",
       "       0.89613111, 0.89406591, 0.90430508, 0.88712561, 0.90335405,\n",
       "       0.89613111, 0.88265698, 0.9001406 , 0.9001406 , 0.90126168,\n",
       "       0.89835655, 0.88836665, 0.88428826, 0.88428826, 0.88428826,\n",
       "       0.89613111, 0.88428826, 0.88712561, 0.88428826, 0.90360589,\n",
       "       0.89153558, 0.88265698, 0.9001406 , 0.88265698, 0.9001406 ,\n",
       "       0.9022366 , 0.88950801, 0.88428826, 0.90126168, 0.89883848,\n",
       "       0.90160144"
      ]
     },
     "execution_count": 158,
     "metadata": {},
     "output_type": "execute_result"
    },
    {
     "data": {
      "text/html": [
       "<b>limit_output extension: Maximum message size of 10000 exceeded with 10294 characters</b>"
      ]
     },
     "metadata": {},
     "output_type": "display_data"
    }
   ],
   "source": [
    "age=boxcox(dib_df['Age'])[0] # 0 taken bcz it will go in array format otherwise it will not work\n",
    "age"
   ]
  },
  {
   "cell_type": "code",
   "execution_count": 159,
   "id": "7f647013",
   "metadata": {},
   "outputs": [
    {
     "data": {
      "text/plain": [
       "<AxesSubplot:ylabel='Density'>"
      ]
     },
     "execution_count": 159,
     "metadata": {},
     "output_type": "execute_result"
    },
    {
     "data": {
      "image/png": "[encoded data removed]",
      "text/plain": [
       "<Figure size 432x288 with 1 Axes>"
      ]
     },
     "metadata": {
      "needs_background": "light"
     },
     "output_type": "display_data"
    }
   ],
   "source": [
    "sns.kdeplot(age)"
   ]
  },
  {
   "cell_type": "code",
   "execution_count": 160,
   "id": "69b99a97",
   "metadata": {},
   "outputs": [
    {
     "data": {
      "text/plain": [
       "<AxesSubplot:>"
      ]
     },
     "execution_count": 160,
     "metadata": {},
     "output_type": "execute_result"
    },
    {
     "data": {
      "image/png": "[encoded data removed]",
      "text/plain": [
       "<Figure size 432x288 with 1 Axes>"
      ]
     },
     "metadata": {
      "needs_background": "light"
     },
     "output_type": "display_data"
    }
   ],
   "source": [
    "sns.boxplot(x=age)"
   ]
  },
  {
   "cell_type": "code",
   "execution_count": 161,
   "id": "af7f3c76",
   "metadata": {},
   "outputs": [
    {
     "data": {
      "text/plain": [
       "<AxesSubplot:xlabel='Age'>"
      ]
     },
     "execution_count": 161,
     "metadata": {},
     "output_type": "execute_result"
    },
    {
     "data": {
      "image/png": "[encoded data removed]",
      "text/plain": [
       "<Figure size 432x288 with 1 Axes>"
      ]
     },
     "metadata": {
      "needs_background": "light"
     },
     "output_type": "display_data"
    }
   ],
   "source": [
    "sns.boxplot(x=dib_df['Age'])"
   ]
  },
  {
   "cell_type": "markdown",
   "id": "5287dead",
   "metadata": {},
   "source": [
    "### for values update in original dataset"
   ]
  },
  {
   "cell_type": "code",
   "execution_count": 165,
   "id": "13ffb03b",
   "metadata": {},
   "outputs": [],
   "source": [
    "dib_df['Age']=np.log(dib_df['Age'])"
   ]
  },
  {
   "cell_type": "code",
   "execution_count": 166,
   "id": "f9430f0e",
   "metadata": {},
   "outputs": [
    {
     "data": {
      "text/plain": [
       "110    3.178054\n",
       "111    3.828641\n",
       "112    3.135494\n",
       "113    3.218876\n",
       "114    3.663562\n",
       "115    4.110874\n",
       "116    3.637586\n",
       "117    3.218876\n",
       "118    3.091042\n",
       "119    3.044522\n",
       "120    3.218876\n",
       "121    3.178054\n",
       "122    3.135494\n",
       "123    4.234107\n",
       "124    3.135494\n",
       "125    3.258097\n",
       "126    3.401197\n",
       "127    3.135494\n",
       "128    3.688879\n",
       "129    4.127134\n",
       "130    3.496508\n",
       "131    3.496508\n",
       "132    3.401197\n",
       "133    3.663562\n",
       "134    3.258097\n",
       "135    3.433987\n",
       "136    3.044522\n",
       "137    3.091042\n",
       "138    3.367296\n",
       "139    3.332205\n",
       "140    4.007333\n",
       "141    3.637586\n",
       "142    3.091042\n",
       "143    3.737670\n",
       "144    3.135494\n",
       "145    3.044522\n",
       "146    3.713572\n",
       "147    3.526361\n",
       "148    4.174387\n",
       "149    3.091042\n",
       "150    3.178054\n",
       "Name: Age, dtype: float64"
      ]
     },
     "execution_count": 166,
     "metadata": {},
     "output_type": "execute_result"
    }
   ],
   "source": [
    "dib_df['Age'].loc[110:150]"
   ]
  },
  {
   "cell_type": "code",
   "execution_count": 167,
   "id": "f1ce7083",
   "metadata": {},
   "outputs": [
    {
     "data": {
      "text/html": [
       "<div>\n",
       "<style scoped>\n",
       "    .dataframe tbody tr th:only-of-type {\n",
       "        vertical-align: middle;\n",
       "    }\n",
       "\n",
       "    .dataframe tbody tr th {\n",
       "        vertical-align: top;\n",
       "    }\n",
       "\n",
       "    .dataframe thead th {\n",
       "        text-align: right;\n",
       "    }\n",
       "</style>\n",
       "<table border=\"1\" class=\"dataframe\">\n",
       "  <thead>\n",
       "    <tr style=\"text-align: right;\">\n",
       "      <th></th>\n",
       "      <th>Glucose</th>\n",
       "      <th>BloodPressure</th>\n",
       "      <th>SkinThickness</th>\n",
       "      <th>Insulin</th>\n",
       "      <th>BMI</th>\n",
       "      <th>DiabetesPedigreeFunction</th>\n",
       "      <th>Age</th>\n",
       "      <th>Outcome</th>\n",
       "    </tr>\n",
       "  </thead>\n",
       "  <tbody>\n",
       "    <tr>\n",
       "      <th>0</th>\n",
       "      <td>148</td>\n",
       "      <td>50</td>\n",
       "      <td>35</td>\n",
       "      <td>0</td>\n",
       "      <td>33.6</td>\n",
       "      <td>0.627</td>\n",
       "      <td>3.912023</td>\n",
       "      <td>1</td>\n",
       "    </tr>\n",
       "    <tr>\n",
       "      <th>1</th>\n",
       "      <td>85</td>\n",
       "      <td>66</td>\n",
       "      <td>29</td>\n",
       "      <td>0</td>\n",
       "      <td>26.6</td>\n",
       "      <td>0.351</td>\n",
       "      <td>3.433987</td>\n",
       "      <td>0</td>\n",
       "    </tr>\n",
       "    <tr>\n",
       "      <th>2</th>\n",
       "      <td>183</td>\n",
       "      <td>64</td>\n",
       "      <td>0</td>\n",
       "      <td>0</td>\n",
       "      <td>23.3</td>\n",
       "      <td>0.672</td>\n",
       "      <td>3.951244</td>\n",
       "      <td>1</td>\n",
       "    </tr>\n",
       "    <tr>\n",
       "      <th>3</th>\n",
       "      <td>150</td>\n",
       "      <td>66</td>\n",
       "      <td>23</td>\n",
       "      <td>94</td>\n",
       "      <td>28.1</td>\n",
       "      <td>0.167</td>\n",
       "      <td>3.044522</td>\n",
       "      <td>0</td>\n",
       "    </tr>\n",
       "    <tr>\n",
       "      <th>4</th>\n",
       "      <td>150</td>\n",
       "      <td>40</td>\n",
       "      <td>35</td>\n",
       "      <td>168</td>\n",
       "      <td>43.1</td>\n",
       "      <td>2.288</td>\n",
       "      <td>3.496508</td>\n",
       "      <td>1</td>\n",
       "    </tr>\n",
       "    <tr>\n",
       "      <th>...</th>\n",
       "      <td>...</td>\n",
       "      <td>...</td>\n",
       "      <td>...</td>\n",
       "      <td>...</td>\n",
       "      <td>...</td>\n",
       "      <td>...</td>\n",
       "      <td>...</td>\n",
       "      <td>...</td>\n",
       "    </tr>\n",
       "    <tr>\n",
       "      <th>763</th>\n",
       "      <td>101</td>\n",
       "      <td>76</td>\n",
       "      <td>48</td>\n",
       "      <td>180</td>\n",
       "      <td>32.9</td>\n",
       "      <td>0.171</td>\n",
       "      <td>4.143135</td>\n",
       "      <td>0</td>\n",
       "    </tr>\n",
       "    <tr>\n",
       "      <th>764</th>\n",
       "      <td>122</td>\n",
       "      <td>70</td>\n",
       "      <td>27</td>\n",
       "      <td>0</td>\n",
       "      <td>36.8</td>\n",
       "      <td>0.340</td>\n",
       "      <td>3.295837</td>\n",
       "      <td>0</td>\n",
       "    </tr>\n",
       "    <tr>\n",
       "      <th>765</th>\n",
       "      <td>121</td>\n",
       "      <td>72</td>\n",
       "      <td>23</td>\n",
       "      <td>112</td>\n",
       "      <td>26.2</td>\n",
       "      <td>0.245</td>\n",
       "      <td>3.401197</td>\n",
       "      <td>0</td>\n",
       "    </tr>\n",
       "    <tr>\n",
       "      <th>766</th>\n",
       "      <td>126</td>\n",
       "      <td>60</td>\n",
       "      <td>0</td>\n",
       "      <td>0</td>\n",
       "      <td>30.1</td>\n",
       "      <td>0.349</td>\n",
       "      <td>3.850148</td>\n",
       "      <td>1</td>\n",
       "    </tr>\n",
       "    <tr>\n",
       "      <th>767</th>\n",
       "      <td>93</td>\n",
       "      <td>70</td>\n",
       "      <td>31</td>\n",
       "      <td>0</td>\n",
       "      <td>30.4</td>\n",
       "      <td>0.315</td>\n",
       "      <td>3.135494</td>\n",
       "      <td>0</td>\n",
       "    </tr>\n",
       "  </tbody>\n",
       "</table>\n",
       "<p>768 rows × 8 columns</p>\n",
       "</div>"
      ],
      "text/plain": [
       "     Glucose  BloodPressure  SkinThickness  Insulin   BMI  \\\n",
       "0        148             50             35        0  33.6   \n",
       "1         85             66             29        0  26.6   \n",
       "2        183             64              0        0  23.3   \n",
       "3        150             66             23       94  28.1   \n",
       "4        150             40             35      168  43.1   \n",
       "..       ...            ...            ...      ...   ...   \n",
       "763      101             76             48      180  32.9   \n",
       "764      122             70             27        0  36.8   \n",
       "765      121             72             23      112  26.2   \n",
       "766      126             60              0        0  30.1   \n",
       "767       93             70             31        0  30.4   \n",
       "\n",
       "     DiabetesPedigreeFunction       Age  Outcome  \n",
       "0                       0.627  3.912023        1  \n",
       "1                       0.351  3.433987        0  \n",
       "2                       0.672  3.951244        1  \n",
       "3                       0.167  3.044522        0  \n",
       "4                       2.288  3.496508        1  \n",
       "..                        ...       ...      ...  \n",
       "763                     0.171  4.143135        0  \n",
       "764                     0.340  3.295837        0  \n",
       "765                     0.245  3.401197        0  \n",
       "766                     0.349  3.850148        1  \n",
       "767                     0.315  3.135494        0  \n",
       "\n",
       "[768 rows x 8 columns]"
      ]
     },
     "execution_count": 167,
     "metadata": {},
     "output_type": "execute_result"
    }
   ],
   "source": [
    "dib_df"
   ]
  },
  {
   "cell_type": "code",
   "execution_count": 1,
   "id": "fcdf2875",
   "metadata": {},
   "outputs": [
    {
     "name": "stdout",
     "output_type": "stream",
     "text": [
      "     Original Data  Log Transformed Data\n",
      "0        55.349433              4.013666\n",
      "1        44.767600              3.801485\n",
      "2        41.376978              3.722725\n",
      "3        48.456456              3.880666\n",
      "4        59.673427              4.088887\n",
      "..             ...                   ...\n",
      "105     154.267567              4.390359\n",
      "106      69.699054              4.244187\n",
      "107     184.727144              4.390359\n",
      "108     165.337475              4.390359\n",
      "109     191.099271              4.390359\n",
      "\n",
      "[110 rows x 2 columns]\n"
     ]
    }
   ],
   "source": [
    "import numpy as np\n",
    "import pandas as pd\n",
    "\n",
    "# Generate some example data with outliers\n",
    "data = np.random.normal(loc=50, scale=10, size=100)  # Normal data\n",
    "outliers = np.random.normal(loc=150, scale=30, size=10)  # Outliers\n",
    "data_with_outliers = np.concatenate((data, outliers))\n",
    "\n",
    "# Log transformation function\n",
    "def log_transform_with_outliers(data):\n",
    "    # Identify outliers using Interquartile Range (IQR) method\n",
    "    q1 = np.percentile(data, 25)\n",
    "    q3 = np.percentile(data, 75)\n",
    "    iqr = q3 - q1\n",
    "    lower_bound = q1 - 1.5 * iqr\n",
    "    upper_bound = q3 + 1.5 * iqr\n",
    "\n",
    "    # Handle outliers by capping them at the upper bound\n",
    "    data_no_outliers = np.clip(data, None, upper_bound)\n",
    "\n",
    "    # Apply log transformation to the data without outliers\n",
    "    data_log_transformed = np.log(data_no_outliers)\n",
    "\n",
    "    return data_log_transformed\n",
    "\n",
    "# Apply log transformation to the data with outliers\n",
    "data_log_transformed = log_transform_with_outliers(data_with_outliers)\n",
    "\n",
    "# Create a pandas DataFrame for easy visualization\n",
    "df = pd.DataFrame({'Original Data': data_with_outliers, 'Log Transformed Data': data_log_transformed})\n",
    "\n",
    "# Print the DataFrame\n",
    "print(df)\n"
   ]
  },
  {
   "cell_type": "code",
   "execution_count": null,
   "id": "19454af0",
   "metadata": {},
   "outputs": [],
   "source": []
  }
 ],
 "metadata": {
  "kernelspec": {
   "display_name": "Python 3 (ipykernel)",
   "language": "python",
   "name": "python3"
  },
  "language_info": {
   "codemirror_mode": {
    "name": "ipython",
    "version": 3
   },
   "file_extension": ".py",
   "mimetype": "text/x-python",
   "name": "python",
   "nbconvert_exporter": "python",
   "pygments_lexer": "ipython3",
   "version": "3.9.12"
  }
 },
 "nbformat": 4,
 "nbformat_minor": 5
}
