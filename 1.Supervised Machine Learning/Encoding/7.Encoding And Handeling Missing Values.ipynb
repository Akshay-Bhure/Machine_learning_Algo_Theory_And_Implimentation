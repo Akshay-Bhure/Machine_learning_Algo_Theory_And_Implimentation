{
 "cells": [
  {
   "cell_type": "markdown",
   "id": "a5a675f7",
   "metadata": {},
   "source": [
    "# Encoding"
   ]
  },
  {
   "cell_type": "code",
   "execution_count": 1,
   "id": "3421a6ab",
   "metadata": {},
   "outputs": [],
   "source": [
    "import numpy as np\n",
    "import pandas as pd"
   ]
  },
  {
   "cell_type": "raw",
   "id": "c49f0944",
   "metadata": {},
   "source": [
    "Encoding comes under a data preprocessing. and bcz of datapreprocessing we import it from sklearn.preprocessing"
   ]
  },
  {
   "cell_type": "raw",
   "id": "c0bd2863",
   "metadata": {},
   "source": [
    "We do Encoding bcz machine dont understand categorical data so with the help of encoding we do it numerical form.\n",
    "-Encoding is necessary in each and every ML projects, because ML algorithm does understand the numbers.\n",
    "-while building the model with the help of ML algorithm, data supposed to be in numerical form."
   ]
  },
  {
   "cell_type": "markdown",
   "id": "c9b017ff",
   "metadata": {},
   "source": [
    "# Types of encoding"
   ]
  },
  {
   "cell_type": "raw",
   "id": "84ed2a87",
   "metadata": {},
   "source": [
    "1.label Encoding\n",
    "2.one hot encoding"
   ]
  },
  {
   "cell_type": "raw",
   "id": "c90fef35",
   "metadata": {},
   "source": [
    "categories:\n",
    "1. If the categories are more than 5, we should prefer label encoding\n",
    "2. If categories are less in number, then we can go with label encoding/one hot encoding.and when we dont know the importance of any column then we should go with one hot encoding"
   ]
  },
  {
   "cell_type": "code",
   "execution_count": 2,
   "id": "c2e3cac3",
   "metadata": {},
   "outputs": [
    {
     "data": {
      "text/html": [
       "<div>\n",
       "<style scoped>\n",
       "    .dataframe tbody tr th:only-of-type {\n",
       "        vertical-align: middle;\n",
       "    }\n",
       "\n",
       "    .dataframe tbody tr th {\n",
       "        vertical-align: top;\n",
       "    }\n",
       "\n",
       "    .dataframe thead th {\n",
       "        text-align: right;\n",
       "    }\n",
       "</style>\n",
       "<table border=\"1\" class=\"dataframe\">\n",
       "  <thead>\n",
       "    <tr style=\"text-align: right;\">\n",
       "      <th></th>\n",
       "      <th>City</th>\n",
       "    </tr>\n",
       "  </thead>\n",
       "  <tbody>\n",
       "    <tr>\n",
       "      <th>0</th>\n",
       "      <td>pune</td>\n",
       "    </tr>\n",
       "    <tr>\n",
       "      <th>1</th>\n",
       "      <td>mumbai</td>\n",
       "    </tr>\n",
       "    <tr>\n",
       "      <th>2</th>\n",
       "      <td>delhi</td>\n",
       "    </tr>\n",
       "    <tr>\n",
       "      <th>3</th>\n",
       "      <td>latur</td>\n",
       "    </tr>\n",
       "    <tr>\n",
       "      <th>4</th>\n",
       "      <td>mumbai</td>\n",
       "    </tr>\n",
       "    <tr>\n",
       "      <th>5</th>\n",
       "      <td>pune</td>\n",
       "    </tr>\n",
       "    <tr>\n",
       "      <th>6</th>\n",
       "      <td>banglore</td>\n",
       "    </tr>\n",
       "  </tbody>\n",
       "</table>\n",
       "</div>"
      ],
      "text/plain": [
       "       City\n",
       "0      pune\n",
       "1    mumbai\n",
       "2     delhi\n",
       "3     latur\n",
       "4    mumbai\n",
       "5      pune\n",
       "6  banglore"
      ]
     },
     "execution_count": 2,
     "metadata": {},
     "output_type": "execute_result"
    }
   ],
   "source": [
    "df=pd.DataFrame({'City':['pune','mumbai','delhi','latur','mumbai','pune','banglore']})\n",
    "df"
   ]
  },
  {
   "cell_type": "markdown",
   "id": "f3194998",
   "metadata": {},
   "source": [
    "## Label Encoding"
   ]
  },
  {
   "cell_type": "code",
   "execution_count": null,
   "id": "fc290c1d",
   "metadata": {},
   "outputs": [],
   "source": [
    "'Pune':0, 'Mumbai':1,'Delhi':2,'latur':3,'banglore':4"
   ]
  },
  {
   "cell_type": "markdown",
   "id": "78d58dcf",
   "metadata": {},
   "source": [
    "## One Hot Encoding"
   ]
  },
  {
   "cell_type": "markdown",
   "id": "aa3ff006",
   "metadata": {},
   "source": [
    "### 1st method"
   ]
  },
  {
   "cell_type": "raw",
   "id": "d99388a7",
   "metadata": {},
   "source": [
    "with the help of OneHotEncoder"
   ]
  },
  {
   "cell_type": "code",
   "execution_count": null,
   "id": "152e1b3b",
   "metadata": {},
   "outputs": [],
   "source": [
    "City      Pune  Mumbai  Delhi   latur    Banglore\n",
    "Pune       1      0       0      0          0\n",
    "Mumbai     0      1       0      0          0\n",
    "Delhi      0      0       1      0          0\n",
    "latur      0      0       0      1          0\n",
    "mumbai     0      1       0      0          0\n",
    "pune       1      0       0      1          0\n",
    "banglore   0      0       0      0          1"
   ]
  },
  {
   "cell_type": "code",
   "execution_count": 3,
   "id": "3ed66bd3",
   "metadata": {},
   "outputs": [],
   "source": [
    "from sklearn.preprocessing import OneHotEncoder"
   ]
  },
  {
   "cell_type": "raw",
   "id": "8d27c192",
   "metadata": {},
   "source": [
    "1. fit() # training\n",
    "2. fit_transform() # training >>>> fit() + transform()\n",
    "3. transform() # training or testing"
   ]
  },
  {
   "cell_type": "code",
   "execution_count": 4,
   "id": "5087362a",
   "metadata": {},
   "outputs": [
    {
     "data": {
      "text/html": [
       "<div>\n",
       "<style scoped>\n",
       "    .dataframe tbody tr th:only-of-type {\n",
       "        vertical-align: middle;\n",
       "    }\n",
       "\n",
       "    .dataframe tbody tr th {\n",
       "        vertical-align: top;\n",
       "    }\n",
       "\n",
       "    .dataframe thead tr th {\n",
       "        text-align: left;\n",
       "    }\n",
       "</style>\n",
       "<table border=\"1\" class=\"dataframe\">\n",
       "  <thead>\n",
       "    <tr>\n",
       "      <th></th>\n",
       "      <th>banglore</th>\n",
       "      <th>delhi</th>\n",
       "      <th>latur</th>\n",
       "      <th>mumbai</th>\n",
       "      <th>pune</th>\n",
       "    </tr>\n",
       "  </thead>\n",
       "  <tbody>\n",
       "    <tr>\n",
       "      <th>0</th>\n",
       "      <td>0</td>\n",
       "      <td>0</td>\n",
       "      <td>0</td>\n",
       "      <td>0</td>\n",
       "      <td>1</td>\n",
       "    </tr>\n",
       "    <tr>\n",
       "      <th>1</th>\n",
       "      <td>0</td>\n",
       "      <td>0</td>\n",
       "      <td>0</td>\n",
       "      <td>1</td>\n",
       "      <td>0</td>\n",
       "    </tr>\n",
       "    <tr>\n",
       "      <th>2</th>\n",
       "      <td>0</td>\n",
       "      <td>1</td>\n",
       "      <td>0</td>\n",
       "      <td>0</td>\n",
       "      <td>0</td>\n",
       "    </tr>\n",
       "    <tr>\n",
       "      <th>3</th>\n",
       "      <td>0</td>\n",
       "      <td>0</td>\n",
       "      <td>1</td>\n",
       "      <td>0</td>\n",
       "      <td>0</td>\n",
       "    </tr>\n",
       "    <tr>\n",
       "      <th>4</th>\n",
       "      <td>0</td>\n",
       "      <td>0</td>\n",
       "      <td>0</td>\n",
       "      <td>1</td>\n",
       "      <td>0</td>\n",
       "    </tr>\n",
       "    <tr>\n",
       "      <th>5</th>\n",
       "      <td>0</td>\n",
       "      <td>0</td>\n",
       "      <td>0</td>\n",
       "      <td>0</td>\n",
       "      <td>1</td>\n",
       "    </tr>\n",
       "    <tr>\n",
       "      <th>6</th>\n",
       "      <td>1</td>\n",
       "      <td>0</td>\n",
       "      <td>0</td>\n",
       "      <td>0</td>\n",
       "      <td>0</td>\n",
       "    </tr>\n",
       "  </tbody>\n",
       "</table>\n",
       "</div>"
      ],
      "text/plain": [
       "  banglore delhi latur mumbai pune\n",
       "0        0     0     0      0    1\n",
       "1        0     0     0      1    0\n",
       "2        0     1     0      0    0\n",
       "3        0     0     1      0    0\n",
       "4        0     0     0      1    0\n",
       "5        0     0     0      0    1\n",
       "6        1     0     0      0    0"
      ]
     },
     "execution_count": 4,
     "metadata": {},
     "output_type": "execute_result"
    }
   ],
   "source": [
    "one_hot_encode=OneHotEncoder(dtype=int)\n",
    "array=one_hot_encode.fit_transform(df[['City']]).toarray() # double square bracket bcz we are converting it into array in 2D form\n",
    "df_city=pd.DataFrame(array,columns=one_hot_encode.categories_) # categories_ function gives unique values of city column\n",
    "df_city"
   ]
  },
  {
   "cell_type": "markdown",
   "id": "15ba9c2a",
   "metadata": {},
   "source": [
    "### 2nd method"
   ]
  },
  {
   "cell_type": "raw",
   "id": "13778d6d",
   "metadata": {},
   "source": [
    "with the help of get_dummies function"
   ]
  },
  {
   "cell_type": "code",
   "execution_count": 6,
   "id": "91117dea",
   "metadata": {},
   "outputs": [
    {
     "data": {
      "text/html": [
       "<div>\n",
       "<style scoped>\n",
       "    .dataframe tbody tr th:only-of-type {\n",
       "        vertical-align: middle;\n",
       "    }\n",
       "\n",
       "    .dataframe tbody tr th {\n",
       "        vertical-align: top;\n",
       "    }\n",
       "\n",
       "    .dataframe thead th {\n",
       "        text-align: right;\n",
       "    }\n",
       "</style>\n",
       "<table border=\"1\" class=\"dataframe\">\n",
       "  <thead>\n",
       "    <tr style=\"text-align: right;\">\n",
       "      <th></th>\n",
       "      <th>City_banglore</th>\n",
       "      <th>City_delhi</th>\n",
       "      <th>City_latur</th>\n",
       "      <th>City_mumbai</th>\n",
       "      <th>City_pune</th>\n",
       "    </tr>\n",
       "  </thead>\n",
       "  <tbody>\n",
       "    <tr>\n",
       "      <th>0</th>\n",
       "      <td>0</td>\n",
       "      <td>0</td>\n",
       "      <td>0</td>\n",
       "      <td>0</td>\n",
       "      <td>1</td>\n",
       "    </tr>\n",
       "    <tr>\n",
       "      <th>1</th>\n",
       "      <td>0</td>\n",
       "      <td>0</td>\n",
       "      <td>0</td>\n",
       "      <td>1</td>\n",
       "      <td>0</td>\n",
       "    </tr>\n",
       "    <tr>\n",
       "      <th>2</th>\n",
       "      <td>0</td>\n",
       "      <td>1</td>\n",
       "      <td>0</td>\n",
       "      <td>0</td>\n",
       "      <td>0</td>\n",
       "    </tr>\n",
       "    <tr>\n",
       "      <th>3</th>\n",
       "      <td>0</td>\n",
       "      <td>0</td>\n",
       "      <td>1</td>\n",
       "      <td>0</td>\n",
       "      <td>0</td>\n",
       "    </tr>\n",
       "    <tr>\n",
       "      <th>4</th>\n",
       "      <td>0</td>\n",
       "      <td>0</td>\n",
       "      <td>0</td>\n",
       "      <td>1</td>\n",
       "      <td>0</td>\n",
       "    </tr>\n",
       "    <tr>\n",
       "      <th>5</th>\n",
       "      <td>0</td>\n",
       "      <td>0</td>\n",
       "      <td>0</td>\n",
       "      <td>0</td>\n",
       "      <td>1</td>\n",
       "    </tr>\n",
       "    <tr>\n",
       "      <th>6</th>\n",
       "      <td>1</td>\n",
       "      <td>0</td>\n",
       "      <td>0</td>\n",
       "      <td>0</td>\n",
       "      <td>0</td>\n",
       "    </tr>\n",
       "  </tbody>\n",
       "</table>\n",
       "</div>"
      ],
      "text/plain": [
       "   City_banglore  City_delhi  City_latur  City_mumbai  City_pune\n",
       "0              0           0           0            0          1\n",
       "1              0           0           0            1          0\n",
       "2              0           1           0            0          0\n",
       "3              0           0           1            0          0\n",
       "4              0           0           0            1          0\n",
       "5              0           0           0            0          1\n",
       "6              1           0           0            0          0"
      ]
     },
     "execution_count": 6,
     "metadata": {},
     "output_type": "execute_result"
    }
   ],
   "source": [
    "df1=pd.get_dummies(df,columns=['City'])\n",
    "df1"
   ]
  },
  {
   "cell_type": "markdown",
   "id": "fdf31483",
   "metadata": {},
   "source": [
    "# Handeling Missing Values"
   ]
  },
  {
   "cell_type": "raw",
   "id": "fc0fe8ea",
   "metadata": {},
   "source": [
    "- In our data frame there might be missing values and we have to handle those missing values bcz if we do not handle missing       values it affects on our model and accuracy will decreses.and model predictions will be wrong.\n",
    "- there may be like those specian characteristics _ < , ! @ # $ % ^ & * / ? | \\ ` so we have handle this as well.\n",
    "- we can handle those specialcharacteristics with the help of >> dataframe_name.replace({'?':np.nan},inplace=True) like that      for every characterists we can change those characteristics into null value.\n",
    "- now we can replace missing values with mean or median or mode >>                   dataframe_name['column_name']=dataframe_name['column_name'].fillna(dataframe_name['column_name'].median()/mode())\n",
    "\n",
    "- Also when our values are all integer or float then also showing dataype as object then do >> dataframe_name[dataframe_name]=       dataframe_name[dataframe_name].astype('float')"
   ]
  }
 ],
 "metadata": {
  "kernelspec": {
   "display_name": "Python 3 (ipykernel)",
   "language": "python",
   "name": "python3"
  },
  "language_info": {
   "codemirror_mode": {
    "name": "ipython",
    "version": 3
   },
   "file_extension": ".py",
   "mimetype": "text/x-python",
   "name": "python",
   "nbconvert_exporter": "python",
   "pygments_lexer": "ipython3",
   "version": "3.9.12"
  }
 },
 "nbformat": 4,
 "nbformat_minor": 5
}
