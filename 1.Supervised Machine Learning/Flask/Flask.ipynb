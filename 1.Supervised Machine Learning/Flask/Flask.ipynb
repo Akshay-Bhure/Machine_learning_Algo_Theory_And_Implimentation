{
 "cells": [
  {
   "cell_type": "markdown",
   "id": "7d4b861c",
   "metadata": {},
   "source": [
    "# Flask"
   ]
  },
  {
   "cell_type": "markdown",
   "id": "0cf11a6b",
   "metadata": {},
   "source": [
    "## Framework"
   ]
  },
  {
   "cell_type": "raw",
   "id": "01c66b5f",
   "metadata": {},
   "source": [
    "-It is a web framework which is written in python. It also called as application framework.\n",
    "-It is open source.\n",
    "-It is widely/mostly used framework.\n",
    "-Flask is a collection of many different modules or libraries. those libraries we use while developing web applications\n",
    "-for creating APIs flask is the framework which is used\n",
    "-Need to install flask from python 2.7 onwards. It works very well with python 3 and that to with 3.3 onwards."
   ]
  },
  {
   "cell_type": "raw",
   "id": "3a4000fb",
   "metadata": {},
   "source": [
    "API >> Application Programming Interface.\n",
    "-API is nothing but it is a code which estabillished connection between request and according to that it will provide the responce.\n",
    "\n",
    "-it is a communication between front end and back end.\n",
    "\n",
    "-when we go to any website we get some kind of information and popup and every click we get new page of information and new popup,it means for every click there is written seperate APIs codes.\n",
    "\n",
    "-for creating those APIs flask is the framework which is used.beacuse flask is the framework which is written in python Language.\n",
    "\n",
    "- Flask we also called it webframework and application framework."
   ]
  },
  {
   "cell_type": "raw",
   "id": "1137bb73",
   "metadata": {},
   "source": [
    "Uses :\n",
    "    1. Developing web Application\n",
    "    2. Creating web APIs.\n",
    "    3. Creating ML application/software where one is developing end to end project."
   ]
  },
  {
   "cell_type": "raw",
   "id": "6bdf65b0",
   "metadata": {},
   "source": [
    "It is developed by Armin Ronacher.\n",
    "He is leading one international group of python enthusiasts >> pocco.\n",
    "Flask is based upon two different concepts:\n",
    "    1. WSGI\n",
    "    2. Jinja2 template."
   ]
  },
  {
   "cell_type": "markdown",
   "id": "d5fba628",
   "metadata": {},
   "source": [
    "# Web Server Gateway Interface(WSGI)"
   ]
  },
  {
   "cell_type": "raw",
   "id": "9517d9cd",
   "metadata": {},
   "source": [
    "-It is Web Server Gateway Interface.\n",
    "-It is called as setup rules or protocols or standards used for communication in between people who request web server to get    access or simply accessing the web application.\n",
    "-So people request web server to access web application."
   ]
  },
  {
   "cell_type": "markdown",
   "id": "c8d240e6",
   "metadata": {},
   "source": [
    "# Jinja2 Template"
   ]
  },
  {
   "cell_type": "raw",
   "id": "f8d1efe7",
   "metadata": {},
   "source": [
    "It is a popular template engine for python.\n",
    "It got introduced because of the requirement of dynamic data in the modern age.\n",
    "A template contains variables which are helpful for dynamicmic data as it is replaced by the value which are passed in."
   ]
  },
  {
   "cell_type": "markdown",
   "id": "76920d31",
   "metadata": {},
   "source": [
    "# Different IDE platforms\n"
   ]
  },
  {
   "cell_type": "raw",
   "id": "7c962247",
   "metadata": {},
   "source": [
    "VisualStudio code\n",
    "jupyter Notebook\n",
    "pycharm\n",
    "spider"
   ]
  },
  {
   "cell_type": "code",
   "execution_count": null,
   "id": "abeb0d3c",
   "metadata": {},
   "outputs": [],
   "source": [
    "http: Hyper text transfer protocol\n",
    "https:Hyper text transfer protocol secure \n",
    "This https are SSL ceritified >> Secured Socket Layer >> https://www.google.com/\n",
    "WWW : World Wide Web       "
   ]
  },
  {
   "cell_type": "code",
   "execution_count": null,
   "id": "70eaf3eb",
   "metadata": {},
   "outputs": [],
   "source": [
    "from flask import Flask\n",
    "app = Flask(__name__) # object of flask which is saved in variable app.\n",
    "\n",
    "@app.route('/') # it is decorator (rules, options) 1.for single forward '/' it is called as home API home api means without\n",
    "def welcome():                                                  # name api route specify url name\n",
    "    return 'Hello everyone, welcome to Flask session.'\n",
    "\n",
    "if __name__ == '__main__': # bcz of this line we can access only our main project api file or function so this line is imp.\n",
    "    app.run(debug=True) # (host, port, debug, options)                              # we cant run here connected file"
   ]
  },
  {
   "cell_type": "raw",
   "id": "c60752f3",
   "metadata": {},
   "source": [
    "rules : it is basically a string value which specify our URL that we will be accessing on web page. URL >> Uniform Resource Locator\n",
    "host : Internet Protocol address (IP address) used to identify a host in network. Port number is used to identify an                  processes/services on your system. IP address >> 120.40.2.1 >> it is local host of system\n",
    "port : number associated to a network protocol that receives or transmits communication for a specific service.\n",
    "       5000 >> if we didnt give any port number by deafault it takes 5000\n",
    "debug: True/False >>1.debug means it check the code line by line and wherever error in code it highlights that error \n",
    "                    2.when debug mode is on that time we can continus changes in file.When debug mode is True it accept the                         changes whatever we have done changes it update those changes"
   ]
  },
  {
   "cell_type": "markdown",
   "id": "97b5ff1e",
   "metadata": {},
   "source": [
    "# Building the dynamically with variable rules"
   ]
  },
  {
   "cell_type": "raw",
   "id": "1d38ea77",
   "metadata": {},
   "source": [
    "String: No need to define\n",
    "int : Need to define\n",
    "float: Need to define"
   ]
  },
  {
   "cell_type": "raw",
   "id": "83d6bd49",
   "metadata": {},
   "source": [
    "User Interface(UI) >> UI developers >> whatever UX developers decide depend upon that UI developers works.it means after searching any website how should be interface,search option, setting,what should be at home page that is user interference do.\n",
    "\n",
    "User Experience(UX) developers >> architecture/design >> they decide what should be colour of home page and its design and arctitechure also what should be font size.all this things decides UX developers.and afte that UI developers works on that"
   ]
  },
  {
   "cell_type": "raw",
   "id": "4051376a",
   "metadata": {},
   "source": [
    "http: Hyper text transfer protocol\n",
    "https: SSL ceritified >> Secured Socket Layer >> https://www.google.com/\n",
    "HTTP >> It is collection of some rules for transmission of data on www/ world wide web. Data could be image, text, vdo, sound.\n",
    "HTTP transmittion Methods : methods and options are same we mention upper in code name methods\n",
    "    GET >> It is for retreving the data\n",
    "    POST >> It is for sending the data\n",
    "    PUT\n",
    "    DELETE\n",
    "    HEAD\n",
    "    "
   ]
  },
  {
   "cell_type": "markdown",
   "id": "5c6967c1",
   "metadata": {},
   "source": [
    "# Postman"
   ]
  },
  {
   "cell_type": "raw",
   "id": "aae8d764",
   "metadata": {},
   "source": [
    "-Postman is an application or simply a software which is used for API testing.\n",
    "-Normally postman sends letters from one place to another,\n",
    "  in the same way but instead of seding letters, it sends the request from client to server.and according to request it gives responce or result\n",
    "-It is a simple Graphical User Interface (GUI), for sending or viewing HTTP requests and even responces."
   ]
  },
  {
   "cell_type": "code",
   "execution_count": null,
   "id": "40bba1d2",
   "metadata": {},
   "outputs": [],
   "source": [
    "from flask import Flask, request, jsonify, redirect, url_for\n",
    "import calculations\n",
    "app = Flask(__name__)\n",
    "\n",
    "################################# HOME API ##############################\n",
    "@app.route('/')\n",
    "def welcome():\n",
    "    return 'Hello everyone, welcome to Flask session.'\n",
    "\n",
    "################################# API WITH NAME ############################\n",
    "@app.route('/curious')\n",
    "def curious():\n",
    "    return 'I am curious to learn the things about flask.'\n",
    "\n",
    "################################ API WITH VARIABLE #########################\n",
    "@app.route('/person/<name>')\n",
    "def person(name): \n",
    "    return 'Name of the person is ' + name\n",
    "\n",
    "@app.route('/Pass/<int:numbers>')\n",
    "def Pass(numbers):\n",
    "    return 'The student has been passed in exam and marks are ' + str(numbers)\n",
    "\n",
    "@app.route('/fail/<int:numbers>')\n",
    "def fail(numbers):\n",
    "    return 'The student has been failed in exam and marks are ' + str(numbers) \n",
    "\n",
    "@app.route('/Add')\n",
    "def adds():\n",
    "    input_data = request.form\n",
    "    print('Input data is: ', input_data)\n",
    "\n",
    "    a = int(input_data['a'])\n",
    "    b = eval(input_data['b'])\n",
    "    result = calculations.addition(a,b)\n",
    "    return jsonify({'Result':f'Addition of {a} and {b} is {result}'})\n",
    "\n",
    "@app.route('/result/<int:marks>')\n",
    "def result(marks):\n",
    "    result = ''\n",
    "    if marks < 40:\n",
    "        result = 'fail'\n",
    "    else:\n",
    "        result = 'Pass'\n",
    "    return redirect(url_for(result, numbers=marks ))\n",
    "    \n",
    "    \n",
    "\n",
    "\n",
    "if __name__ == '__main__':\n",
    "    app.run(debug=True)"
   ]
  },
  {
   "cell_type": "code",
   "execution_count": null,
   "id": "53d2989b",
   "metadata": {},
   "outputs": [],
   "source": []
  }
 ],
 "metadata": {
  "kernelspec": {
   "display_name": "Python 3 (ipykernel)",
   "language": "python",
   "name": "python3"
  },
  "language_info": {
   "codemirror_mode": {
    "name": "ipython",
    "version": 3
   },
   "file_extension": ".py",
   "mimetype": "text/x-python",
   "name": "python",
   "nbconvert_exporter": "python",
   "pygments_lexer": "ipython3",
   "version": "3.9.12"
  }
 },
 "nbformat": 4,
 "nbformat_minor": 5
}
