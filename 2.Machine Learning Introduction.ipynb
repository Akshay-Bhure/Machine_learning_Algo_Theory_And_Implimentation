{
 "cells": [
  {
   "cell_type": "markdown",
   "id": "f655c7af",
   "metadata": {},
   "source": [
    "# Machine Learning"
   ]
  },
  {
   "cell_type": "raw",
   "id": "fd5f218c",
   "metadata": {},
   "source": [
    "Real World Applications:\n",
    "\n",
    "1. Stock price prediction\n",
    "2. Recommendation system\n",
    "3. Medical field(Covid, Cancer)\n",
    "4. Finance domain\n",
    "5. Insurance domain for invoice purpose\n",
    "6. Self driving car\n",
    "7. House price prediction\n",
    "8. Weather forecasting\n",
    "9. Chatbot\n",
    "10. Speech recognition"
   ]
  },
  {
   "cell_type": "markdown",
   "id": "1112b31a",
   "metadata": {},
   "source": [
    "# Types Of Machine Learning"
   ]
  },
  {
   "cell_type": "raw",
   "id": "a9a51678",
   "metadata": {},
   "source": [
    "1. Supervised ML\n",
    "2. Unsuprevised ML\n",
    "3. Reinforcement ML\n",
    "\n",
    "Types of Variables in ML:\n",
    "  1. Independent Variables(Input Variables, Predictors) or independent features >> 1 or more than 1.there always more variables\n",
    "  2. Dependent Variable(Output Variable, Target variable) or dependent feature. >> always only 1 variable"
   ]
  },
  {
   "cell_type": "markdown",
   "id": "550fcb3b",
   "metadata": {},
   "source": [
    "# 1.Supervised ML"
   ]
  },
  {
   "cell_type": "raw",
   "id": "e23b7ebb",
   "metadata": {},
   "source": [
    "in supervised machine learning data is labelled (Independent and dependent variable) is defined by its used of labelled datasets to train the algorithms that to classify the data or predict outcomes accurately."
   ]
  },
  {
   "cell_type": "raw",
   "id": "edbfe45f",
   "metadata": {},
   "source": [
    "Types of Target variable data >> \n",
    "\n",
    "Classification:(Categorial Data) >> object data/string data\n",
    "    1. Binary class classification \n",
    "       yes/No\n",
    "       spam/not spam\n",
    "       True/False\n",
    "        Good/Bad\n",
    "        Approved/Declined\n",
    "        Pass/Fail\n",
    "    \n",
    "    2. Multiclass classification\n",
    "       High/medium/low\n",
    "       yes/no/may be\n",
    "    \n",
    "Regression:(Continuous data) >> value in numbers/numerical\n",
    "    1. House price prediction\n",
    "    2. Stock price prediction\n",
    "    3. Car price prediction\n",
    "    4. Weather forecasting\n",
    "        "
   ]
  },
  {
   "cell_type": "markdown",
   "id": "db2efb0f",
   "metadata": {},
   "source": [
    "# Suupervised Machine Learning Algorithms"
   ]
  },
  {
   "cell_type": "raw",
   "id": "d7b10a40",
   "metadata": {},
   "source": [
    "-Machine Learning is nothing but combination of all algorithms.\n",
    "-algorithm is set of rules to solve the problems\n",
    "-in below example we give the data to machine at the time of training and it read the data,learn the data,and at the time of testing data it predicts the data.\n",
    "for example.\n",
    "\n",
    "colour    shape          taste     fruit\n",
    "red       bit circuler   sweet     apple\n",
    "orange    circuler       sweet     orange\n",
    "green     circular       sweet     watermelon\n",
    "green     oval           sweet     watermelon"
   ]
  },
  {
   "cell_type": "raw",
   "id": "78442103",
   "metadata": {},
   "source": [
    "1. Linear Regression                (Regression) >> Target variable in numerical form.\n",
    "2. Logistic Regression              (Classification) >> Target variable in string/object.\n",
    "3. K-Nearest Naighbour              (Regression and classification)\n",
    "   KNN Regressor\n",
    "   KNN Classifier\n",
    "\n",
    "4. Decision tree                    (Regression and classification)\n",
    "5. Random Forest                    (Regression and classification)\n",
    "6. Adaboost                         (Regression and classification)\n",
    "7. Naive Bayes                      (Classification)\n",
    "8. Support Vector Machine           (Regression and classification)"
   ]
  },
  {
   "cell_type": "markdown",
   "id": "e02a8086",
   "metadata": {},
   "source": [
    "# Unsupervised ML"
   ]
  },
  {
   "cell_type": "raw",
   "id": "8bc8245c",
   "metadata": {},
   "source": [
    "1.the data is unlabelled here.\n",
    "2.we have only independent variables.\n",
    "3.uses ML algorithms to analyze or cluster unlabelled data.\n",
    "4.these algorithms find out or discover some hidden patterns from inside data and do the grouping of data.\n",
    "1.Clustering:\n",
    "    it find outs similarities in between data points and access to that datapoints it makes cluster out of it.\n",
    "    \n",
    "2. Association:\n",
    "    It finds the relationship between data points and then it makes group out of it."
   ]
  },
  {
   "cell_type": "code",
   "execution_count": null,
   "id": "2f436d26",
   "metadata": {},
   "outputs": [],
   "source": [
    "1. K mean clustering\n",
    "2. Hirarchical clustering\n",
    "3. PCA >> Principle component analysis. >> also used for dimentionality reduction.\n",
    "   dimentionality reduction example >> 25 variables >> 11/12 variables"
   ]
  },
  {
   "cell_type": "markdown",
   "id": "25b2c139",
   "metadata": {},
   "source": [
    "# Reinforcement ML"
   ]
  },
  {
   "cell_type": "raw",
   "id": "f307816c",
   "metadata": {},
   "source": [
    "Reinforcement ML algorithm is Reward based training ML algorithm\n",
    "it get Appriciate/Punish"
   ]
  },
  {
   "cell_type": "raw",
   "id": "00006e65",
   "metadata": {},
   "source": [
    "Reinforcement ML is a type of ML, in which agent explores an environment to learn how to perform desired tasks by taking actions with good outcomes and avoiding actions with bad outcomes.\n",
    "A sequence of successful outcomes will be reinforced to develop the best recommendation or policy for a givem problem."
   ]
  },
  {
   "cell_type": "markdown",
   "id": "3643466d",
   "metadata": {},
   "source": [
    "# Steps Of Data Science Project"
   ]
  },
  {
   "cell_type": "raw",
   "id": "d62030ab",
   "metadata": {},
   "source": [
    "1. Problem Statement >> it depends upon the client's requirement\n",
    "2. Data Gathering >> Databse, CSV, Excel, Text, vdo,audio,etc.\n",
    "3. Exploratory Data Analysis\n",
    "     Libraries >> Pandas,numpy,scipy,matplotlib, seaborn\n",
    "     a) univariate analysis>> Analysing a single feature at a time.\n",
    "     b) bi variate analysis>> Analysing two features at a time to understand the relationship between them\n",
    "4. Data Pre-processing/feature engineering\n",
    "         Libraries >>Pandas,numpy,scipy,matplotlib, seaborn\n",
    "         handling >> missing values, outliers, skewness means if data is skewed we do it normaly distibuted data\n",
    "         feature scaling >> normalization and standardization. \n",
    "         Encoding >> One hot encoding, label encoding.>> we do this bcz machine dont understand categorical data so with the help of encoding we do it numerical form\n",
    "5. Feature selection >>\n",
    "   1. Statistical method\n",
    "   2. wrapper method\n",
    "   3. Embedded method\n",
    "   4. Filter method.\n",
    "6. Model training >> depend upon dataset,depend upon problem statement we use specific algorithms\n",
    "   Linear regression, Logistic Regression\n",
    "   KNN, DT.\n",
    "7. Model Evaluation\n",
    "   classification >> confusion matrix, recall, precision,Accuracy,classification report.\n",
    "   Regression >> MSE, r2_score,MAE\n",
    "   8.--Create APIs for testing the models. we make here one folder in which we save all our files like ipynb file,pickel              file,testing file.\n",
    "9. Deployment >> AWS, Azure, GCP, Heroku"
   ]
  },
  {
   "cell_type": "raw",
   "id": "bd802ac9",
   "metadata": {},
   "source": [
    "Things to focus in each and every algorithm:\n",
    "    1. Concept\n",
    "    2. Assumption\n",
    "    3. Effect of missing values and outliers \n",
    "    4. Advantages \n",
    "    5. Disadvantages\n",
    "    6. Applications"
   ]
  },
  {
   "cell_type": "code",
   "execution_count": null,
   "id": "1537fcf4",
   "metadata": {},
   "outputs": [],
   "source": []
  }
 ],
 "metadata": {
  "kernelspec": {
   "display_name": "Python 3 (ipykernel)",
   "language": "python",
   "name": "python3"
  },
  "language_info": {
   "codemirror_mode": {
    "name": "ipython",
    "version": 3
   },
   "file_extension": ".py",
   "mimetype": "text/x-python",
   "name": "python",
   "nbconvert_exporter": "python",
   "pygments_lexer": "ipython3",
   "version": "3.9.12"
  }
 },
 "nbformat": 4,
 "nbformat_minor": 5
}
