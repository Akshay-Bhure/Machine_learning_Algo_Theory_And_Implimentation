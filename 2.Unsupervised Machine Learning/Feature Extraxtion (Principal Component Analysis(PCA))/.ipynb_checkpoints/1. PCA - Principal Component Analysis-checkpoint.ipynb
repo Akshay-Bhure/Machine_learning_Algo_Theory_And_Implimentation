{
 "cells": [
  {
   "cell_type": "markdown",
   "metadata": {},
   "source": [
    "## PCA - Principal Component Analysis"
   ]
  },
  {
   "cell_type": "code",
   "execution_count": null,
   "metadata": {},
   "outputs": [],
   "source": [
    "- It is unsupervised ML Algorithm.\n",
    "- It is very Complex Techniques.\n",
    "- It is a dimentionality reduction technique.\n",
    "- Why do we use dimentionality reduction technique?\n",
    "  To avoid the overfitting issue. And definately to get the good performance.\n",
    "    "
   ]
  },
  {
   "cell_type": "code",
   "execution_count": null,
   "metadata": {},
   "outputs": [],
   "source": [
    "Purpose for feature selection and feature extraction is same. But the working is different."
   ]
  },
  {
   "cell_type": "code",
   "execution_count": null,
   "metadata": {},
   "outputs": [],
   "source": [
    "Feature selection >>>\n",
    "x1, x2, x3, x4, x5 >>>> 5D  >> 2D(x1,x4)/3D(x1,x2,x4)\n",
    "\n",
    "Feature Extraction >>>\n",
    "x1, x2, x3, x4, x5 >>>> 5D\n",
    "\n",
    "2D >> x1(10%), x2(50%), x3(15%), x4(18%), x5(12%) "
   ]
  },
  {
   "cell_type": "code",
   "execution_count": null,
   "metadata": {},
   "outputs": [],
   "source": [
    "Feature Selection:\n",
    "1. Filter Method - B4 model training\n",
    "2. wrapper Method - While model training\n",
    "3. Embedded Method - After model training\n",
    "\n",
    "e. g 20 features, but then out of 20 features suppose we are selecting the best one e.g. 1,2,4,7,6,10,12,15,18"
   ]
  },
  {
   "cell_type": "code",
   "execution_count": null,
   "metadata": {},
   "outputs": [],
   "source": [
    "Feature Extraction:\n",
    "1. Principal component Analysis\n",
    "2. LDA - Linear Discrimative Analysis"
   ]
  },
  {
   "cell_type": "code",
   "execution_count": null,
   "metadata": {},
   "outputs": [],
   "source": [
    "PCA does depends on few mathematical terms like:\n",
    "    1. co- varience, varience\n",
    "    2. Ei-gen values, Ei-gen vectors"
   ]
  },
  {
   "cell_type": "code",
   "execution_count": null,
   "metadata": {},
   "outputs": [],
   "source": [
    "It does create the vectors and we do call it principal component.\n",
    "No. of PC will be eqaul or less than the no. of features in dataset. "
   ]
  },
  {
   "cell_type": "code",
   "execution_count": null,
   "metadata": {},
   "outputs": [],
   "source": [
    "Benefits:\n",
    "    it improves performance, \n",
    "    dimention is less, execution time will be less, it will be faster.\n",
    "    "
   ]
  },
  {
   "cell_type": "code",
   "execution_count": null,
   "metadata": {},
   "outputs": [],
   "source": [
    "varience = sum(x-x^)^2 / n\n",
    "b4 calculating varience, The scaling of features is must. "
   ]
  },
  {
   "cell_type": "code",
   "execution_count": null,
   "metadata": {},
   "outputs": [],
   "source": [
    "Covarience Matrix[C]:\n",
    "    \n",
    "    C = [COV(x,x)      COV(x,y)\n",
    "         COV(y,x)      COV(y,y)]\n",
    "      \n",
    "      = COV(x,y) = sum((x-x^)(y-y^)/(n-1)\n",
    "                    \n",
    "    COV(x,y) == COV(y,x)"
   ]
  },
  {
   "cell_type": "code",
   "execution_count": null,
   "metadata": {},
   "outputs": [],
   "source": [
    "Eigen Values:\n",
    "    \n",
    "    C - Lamda*I = 0\n",
    "    C = Covarience Matrix\n",
    "    Lamda = Eigen Value\n",
    "    I = Indentity Matrix\n",
    "    "
   ]
  },
  {
   "cell_type": "code",
   "execution_count": null,
   "metadata": {},
   "outputs": [],
   "source": [
    "Eigen Vectors:\n",
    "    C*Nu = Lamda*Nu    "
   ]
  },
  {
   "cell_type": "code",
   "execution_count": null,
   "metadata": {},
   "outputs": [],
   "source": [
    "arr = [5,6,7,8,......]\n",
    "\n",
    "v1 - 15\n",
    "v2 - 18\n",
    "v3 - 20\n",
    "v4 - 25\n",
    "v5 - 17\n",
    "v6 - 16"
   ]
  },
  {
   "cell_type": "code",
   "execution_count": 1,
   "metadata": {},
   "outputs": [
    {
     "data": {
      "text/plain": [
       "(1, 4, 1)"
      ]
     },
     "execution_count": 1,
     "metadata": {},
     "output_type": "execute_result"
    }
   ],
   "source": [
    "1,4,1"
   ]
  },
  {
   "cell_type": "code",
   "execution_count": 2,
   "metadata": {},
   "outputs": [],
   "source": [
    "from numpy.polynomial import Polynomial"
   ]
  },
  {
   "cell_type": "code",
   "execution_count": 2,
   "metadata": {},
   "outputs": [
    {
     "data": {
      "text/plain": [
       "array([0.26794919, 3.73205081])"
      ]
     },
     "execution_count": 2,
     "metadata": {},
     "output_type": "execute_result"
    }
   ],
   "source": [
    "p = Polynomial([1,-4,1])\n",
    "p.roots()"
   ]
  },
  {
   "cell_type": "code",
   "execution_count": null,
   "metadata": {},
   "outputs": [],
   "source": []
  }
 ],
 "metadata": {
  "kernelspec": {
   "display_name": "Python 3 (ipykernel)",
   "language": "python",
   "name": "python3"
  },
  "language_info": {
   "codemirror_mode": {
    "name": "ipython",
    "version": 3
   },
   "file_extension": ".py",
   "mimetype": "text/x-python",
   "name": "python",
   "nbconvert_exporter": "python",
   "pygments_lexer": "ipython3",
   "version": "3.9.12"
  }
 },
 "nbformat": 4,
 "nbformat_minor": 4
}
