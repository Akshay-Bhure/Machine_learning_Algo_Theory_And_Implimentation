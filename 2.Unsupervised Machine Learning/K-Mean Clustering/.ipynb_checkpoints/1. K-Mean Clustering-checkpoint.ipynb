{
 "cells": [
  {
   "cell_type": "markdown",
   "metadata": {},
   "source": [
    "## KMean Clustering"
   ]
  },
  {
   "cell_type": "code",
   "execution_count": null,
   "metadata": {},
   "outputs": [],
   "source": [
    "-It is unsupervised ML algorithm.\n",
    "-It creates clusters on the basis of certain similarities in datapoints.\n",
    "-it Creates homogeneous groups >> clusters\n",
    "- Distance based algorithm.\n",
    "- Centroid based algorithm.\n",
    "- Feature Scaling Required."
   ]
  },
  {
   "cell_type": "markdown",
   "metadata": {},
   "source": [
    "## Working"
   ]
  },
  {
   "cell_type": "code",
   "execution_count": null,
   "metadata": {},
   "outputs": [],
   "source": [
    "cluster 2\n",
    "K = 2\n",
    "      C1       C2     Result\n",
    "    \n",
    "d1    10       12       Cluster1 \n",
    "d2    14       9        Cluster2\n",
    "d3    11       12       Cluster1\n",
    "d4    9        10       Cluster1\n",
    "d5    12       11       Cluster2\n",
    "\n",
    "cluster1 >> d1, d3,d4 >> centroid\n",
    "cluster2 >> d2, d5 >> centroid\n",
    "\n",
    "\n",
    "1. Select the value of K( number of clusters) k = 2\n",
    "2. Select random centroid(It can be datapoints)\n",
    "3. Calculate distance between each centroid and all datapoints.\n",
    "4. Assign each data point to closet cluster.(centroid)\n",
    "5. Update the value of centroid by using mean of cluster's datapoints.\n",
    "6. Keep iterating until there is no change in centroid or no movements in datapoints.\n"
   ]
  },
  {
   "cell_type": "markdown",
   "metadata": {},
   "source": [
    "## Elbow Method"
   ]
  },
  {
   "cell_type": "code",
   "execution_count": null,
   "metadata": {},
   "outputs": [],
   "source": [
    "It is used to find the best value of k.\n",
    "WCSS >> Within cluster sum of square\n",
    "\n",
    "WCSS = Sum[(x1-x2)^2 + (y1-y2)^2]"
   ]
  }
 ],
 "metadata": {
  "kernelspec": {
   "display_name": "Python 3 (ipykernel)",
   "language": "python",
   "name": "python3"
  },
  "language_info": {
   "codemirror_mode": {
    "name": "ipython",
    "version": 3
   },
   "file_extension": ".py",
   "mimetype": "text/x-python",
   "name": "python",
   "nbconvert_exporter": "python",
   "pygments_lexer": "ipython3",
   "version": "3.9.12"
  }
 },
 "nbformat": 4,
 "nbformat_minor": 4
}
