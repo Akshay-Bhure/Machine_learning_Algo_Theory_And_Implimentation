{
 "cells": [
  {
   "cell_type": "markdown",
   "metadata": {},
   "source": [
    "## Naive Baye's Algorithm"
   ]
  },
  {
   "cell_type": "code",
   "execution_count": null,
   "metadata": {},
   "outputs": [],
   "source": [
    "It is used for classification.\n",
    "It is based on Bayes theorm.\n",
    "Bayes >> Bayes therom is involved\n",
    "Naive >> strongly independent\n",
    "It represent one assumption:\n",
    "    Independent variables should be independent with each other.\n",
    "    \n",
    "It is probabilistic algorithm."
   ]
  },
  {
   "cell_type": "code",
   "execution_count": null,
   "metadata": {},
   "outputs": [],
   "source": [
    "Text Processing\n",
    "Document classification\n",
    "Sentiment Analysis"
   ]
  },
  {
   "cell_type": "markdown",
   "metadata": {},
   "source": [
    "## Baye's Theorm"
   ]
  },
  {
   "cell_type": "code",
   "execution_count": null,
   "metadata": {},
   "outputs": [],
   "source": [
    " ******** P(A/B) = [P(B/A)*P(A)]/ P(B) ********\n",
    "\n",
    "Conditional Probability:\n",
    "P(A/B) >> Prob. A for given B\n",
    "P(B/A) >> Prob. B for given A"
   ]
  },
  {
   "cell_type": "code",
   "execution_count": null,
   "metadata": {},
   "outputs": [],
   "source": [
    "LHS >> Posterior prob (new prob. w. r. t. the new evidence)\n",
    "RHS >> [Likelihood probability*Prior Prob.]/Marginal Prob."
   ]
  },
  {
   "cell_type": "code",
   "execution_count": null,
   "metadata": {},
   "outputs": [],
   "source": [
    "Y - A (dependent)\n",
    "X - B (independent)"
   ]
  },
  {
   "cell_type": "code",
   "execution_count": null,
   "metadata": {},
   "outputs": [],
   "source": [
    "P(Y|X) = [P(X|Y)*P(Y)]/P(X)"
   ]
  },
  {
   "cell_type": "code",
   "execution_count": null,
   "metadata": {},
   "outputs": [],
   "source": [
    "E.g we have few independent variables such as x1,x2,x3,......, xn\n",
    "and we have target variable i.e. Y."
   ]
  },
  {
   "cell_type": "code",
   "execution_count": null,
   "metadata": {},
   "outputs": [],
   "source": [
    "P(Y|X,,X2,X3,....,Xn) =   [(P(X1|Y)*P(X2|Y)*P(X3|Y)*.......*P(Xn|Y))*P(Y)]\n",
    "                        ------------------------------------------------------\n",
    "                             P(X1)*P(X2)*P(X3)*.....*P(Xn)  "
   ]
  },
  {
   "cell_type": "code",
   "execution_count": null,
   "metadata": {},
   "outputs": [],
   "source": [
    "overcast\thot\thigh\tFALSE\tyes\n"
   ]
  },
  {
   "cell_type": "code",
   "execution_count": null,
   "metadata": {},
   "outputs": [],
   "source": [
    "P(Play|(outlook, temperature,windy,humidity)) =\n",
    "\n",
    "    [(P(outlook|Play)*P(temperature|Play)*P(windy|Play)*P(humidity|Play))*P(Play)]\n",
    "-------------------------------------------------------------------------------------\n",
    "             P(outlook)*P(temperature)*P(windy)*P(humidity)"
   ]
  },
  {
   "cell_type": "markdown",
   "metadata": {},
   "source": [
    "## Outlook"
   ]
  },
  {
   "cell_type": "code",
   "execution_count": null,
   "metadata": {},
   "outputs": [],
   "source": [
    "            p(Yes)    P(No)    P(x1|Yes)     P(x1|No)\n",
    "    \n",
    "overcast      4         0        4/9             0\n",
    "rainy         3         2        3/9            2/5\n",
    "sunny         2         3        2/9            3/5"
   ]
  },
  {
   "cell_type": "markdown",
   "metadata": {},
   "source": [
    "## Temperature"
   ]
  },
  {
   "cell_type": "code",
   "execution_count": null,
   "metadata": {},
   "outputs": [],
   "source": [
    "            p(Yes)    P(No)    P(x1|Yes)     P(x1|No)\n",
    "    \n",
    "Hot           2        2          2/9           2/5\n",
    "Mild          4        2          4/9           2/5\n",
    "Cool          3        1          3/9           1/5"
   ]
  },
  {
   "cell_type": "markdown",
   "metadata": {},
   "source": [
    "## Humidity"
   ]
  },
  {
   "cell_type": "code",
   "execution_count": null,
   "metadata": {},
   "outputs": [],
   "source": [
    "            p(Yes)    P(No)    P(x1|Yes)     P(x1|No)\n",
    "\n",
    "High         3         4          3/9           4/5\n",
    "Normal       6         1          6/9           1/5"
   ]
  },
  {
   "cell_type": "markdown",
   "metadata": {},
   "source": [
    "## Windy"
   ]
  },
  {
   "cell_type": "code",
   "execution_count": null,
   "metadata": {},
   "outputs": [],
   "source": [
    "            p(Yes)    P(No)    P(x1|Yes)     P(x1|No)\n",
    "     \n",
    "True          3         3          3/9           3/5\n",
    "False         6         2          6/9           2/5"
   ]
  },
  {
   "cell_type": "code",
   "execution_count": null,
   "metadata": {},
   "outputs": [],
   "source": [
    "P(Play|(outlook, temperature,windy,humidity)) =\n",
    "\n",
    "    [(P(outlook|Play)*P(temperature|Play)*P(windy|Play)*P(humidity|Play))*P(Play)]\n",
    "-------------------------------------------------------------------------------------\n",
    "             P(outlook)*P(temperature)*P(windy)*P(humidity)"
   ]
  },
  {
   "cell_type": "code",
   "execution_count": null,
   "metadata": {},
   "outputs": [],
   "source": [
    "overcast\thot\thigh\tFALSE\tyes\n"
   ]
  },
  {
   "cell_type": "code",
   "execution_count": null,
   "metadata": {},
   "outputs": [],
   "source": [
    "P(Y=Yes|{outlook= overcast, temperature= hot, humidity = high, windy = False})*P(Play) =\n",
    "[(4/9)*(2/9)*(3/9)*(6/9)*(9/14)]"
   ]
  },
  {
   "cell_type": "code",
   "execution_count": 1,
   "metadata": {},
   "outputs": [
    {
     "data": {
      "text/plain": [
       "0.014109347442680773"
      ]
     },
     "execution_count": 1,
     "metadata": {},
     "output_type": "execute_result"
    }
   ],
   "source": [
    "(4/9)*(2/9)*(3/9)*(6/9)*(9/14)"
   ]
  },
  {
   "cell_type": "code",
   "execution_count": null,
   "metadata": {},
   "outputs": [],
   "source": [
    "P(Y=No|{outlook= overcast, temperature= hot, humidity = high, windy = False})*P(Play) =\n",
    "[(0/5)*(2/5)*(4/5)*(2/5)*(5/14)] = 0"
   ]
  },
  {
   "cell_type": "raw",
   "metadata": {},
   "source": [
    "Zero Frequency Problem:\n",
    "    One of the disadvantages of Naïve-Bayes is that if you have no occurrences of a class label and a certain attribute value together then the frequency-based probability estimate will be zero. And this will get a zero when all the probabilities are multiplied."
   ]
  },
  {
   "cell_type": "markdown",
   "metadata": {},
   "source": [
    "## Varients of Naive Bayes"
   ]
  },
  {
   "cell_type": "code",
   "execution_count": null,
   "metadata": {},
   "outputs": [],
   "source": [
    "1. Gaussian NB >> Continuous variables\n",
    "2. Multinominal NB >> Categorical Variable/Discrete Variable\n",
    "3. Bernoulli NB >> Binary Variable"
   ]
  },
  {
   "cell_type": "markdown",
   "metadata": {},
   "source": [
    "## Advantages"
   ]
  },
  {
   "cell_type": "code",
   "execution_count": null,
   "metadata": {},
   "outputs": [],
   "source": [
    "1. Handle high dimentional data\n",
    "2. Perform well on small datasets\n",
    "3. It is faster to predict classes than other classification algorithm"
   ]
  },
  {
   "cell_type": "markdown",
   "metadata": {},
   "source": [
    "## Disadvantages"
   ]
  },
  {
   "cell_type": "code",
   "execution_count": null,
   "metadata": {},
   "outputs": [],
   "source": [
    "1. Zero frequency\n",
    "2. Assumption of independence\n",
    "3. It may not perform well on large dataset."
   ]
  },
  {
   "cell_type": "markdown",
   "metadata": {},
   "source": [
    "## Applications"
   ]
  },
  {
   "cell_type": "code",
   "execution_count": null,
   "metadata": {},
   "outputs": [],
   "source": [
    "1. Text Processing\n",
    "2. Document classification\n",
    "3. Sentiment analysis\n",
    "4. Fake news Classification\n",
    "5. Recommendation system"
   ]
  },
  {
   "cell_type": "code",
   "execution_count": null,
   "metadata": {},
   "outputs": [],
   "source": [
    "We can not directly pass the text data as it is to the algorithm.\n",
    "It supposed to go through some steps:\n",
    "1. clear or purify the data >> removing stop words and punctuations\n",
    "1.1 convert everything in lower case\n",
    "2. stemming/Lemmetization\n",
    "3. Create corpuses >> unigram >> Data, Science, very, good, field\n",
    "                      bi-gram >> Data Science , very good\n",
    "                      tri-gram >> Data Science very\n",
    "        \n",
    "4. should convert to numerical data/form.\n",
    "       TF/IDF >> Term Frequency- Inverse Document Frequency\n",
    "       BOW  >> Bag Of Words\n",
    "       W2V >> Word to Vector"
   ]
  },
  {
   "cell_type": "code",
   "execution_count": null,
   "metadata": {},
   "outputs": [],
   "source": [
    "classify, classification, classifying >> \n",
    "stemming  >> classif\n",
    "Lemmetization >> it takes a root word of features >> classify"
   ]
  },
  {
   "cell_type": "code",
   "execution_count": null,
   "metadata": {},
   "outputs": [],
   "source": [
    "1. Data Science is a very good field"
   ]
  }
 ],
 "metadata": {
  "kernelspec": {
   "display_name": "Python 3 (ipykernel)",
   "language": "python",
   "name": "python3"
  },
  "language_info": {
   "codemirror_mode": {
    "name": "ipython",
    "version": 3
   },
   "file_extension": ".py",
   "mimetype": "text/x-python",
   "name": "python",
   "nbconvert_exporter": "python",
   "pygments_lexer": "ipython3",
   "version": "3.9.12"
  }
 },
 "nbformat": 4,
 "nbformat_minor": 4
}
