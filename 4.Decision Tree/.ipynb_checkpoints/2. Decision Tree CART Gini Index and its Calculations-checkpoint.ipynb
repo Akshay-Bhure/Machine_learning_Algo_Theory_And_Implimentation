{
 "cells": [
  {
   "cell_type": "code",
   "execution_count": null,
   "metadata": {},
   "outputs": [],
   "source": [
    "temperature\thumidity\twindy\tplay\n",
    "mild\thigh\tFALSE\tyes\n",
    "cool\tnormal\tFALSE\tyes\n",
    "cool\tnormal\tTRUE\tno\n",
    "mild\tnormal\tFALSE\tyes\n",
    "mild\thigh\tTRUE\tno\n"
   ]
  },
  {
   "cell_type": "markdown",
   "metadata": {},
   "source": [
    "## Temperature"
   ]
  },
  {
   "cell_type": "code",
   "execution_count": null,
   "metadata": {},
   "outputs": [],
   "source": [
    "H(temperature = mild) >> 2y/1n >> 0.91\n",
    "H(temperature = cool) >> 1y/1n >> 1\n"
   ]
  },
  {
   "cell_type": "markdown",
   "metadata": {},
   "source": [
    "## Humidity"
   ]
  },
  {
   "cell_type": "code",
   "execution_count": null,
   "metadata": {},
   "outputs": [],
   "source": [
    "H(humidity=high) >> 1y/1n >> 1\n",
    "H(humidity=normal) >> 2y/1n >> 0.91"
   ]
  },
  {
   "cell_type": "markdown",
   "metadata": {},
   "source": [
    "## windy"
   ]
  },
  {
   "cell_type": "code",
   "execution_count": null,
   "metadata": {},
   "outputs": [],
   "source": [
    "H(windy=False) >>3y/0n >> 0\n",
    "H(windy = true)>> 0y/2n >> 0"
   ]
  },
  {
   "cell_type": "code",
   "execution_count": null,
   "metadata": {},
   "outputs": [],
   "source": [
    "Overall entropy >> 0.97"
   ]
  },
  {
   "cell_type": "markdown",
   "metadata": {},
   "source": [
    "## Information gain"
   ]
  },
  {
   "cell_type": "code",
   "execution_count": null,
   "metadata": {},
   "outputs": [],
   "source": [
    "IG(temperature) >> 0.97 - (0.91*0.6 + 0.4) >> 0.03\n",
    "IG(Humidity) >> 0.97 -(1*0.4 + 0.91*0.6) >> 0.03\n",
    "IG(windy) >> 0.97- (0) >> 0.97"
   ]
  },
  {
   "cell_type": "code",
   "execution_count": 1,
   "metadata": {},
   "outputs": [
    {
     "data": {
      "text/plain": [
       "0.9460000000000001"
      ]
     },
     "execution_count": 1,
     "metadata": {},
     "output_type": "execute_result"
    }
   ],
   "source": [
    "1*0.4 + 0.91*0.6"
   ]
  },
  {
   "cell_type": "markdown",
   "metadata": {},
   "source": [
    "## CART"
   ]
  },
  {
   "cell_type": "code",
   "execution_count": null,
   "metadata": {},
   "outputs": [],
   "source": [
    "it does have one term that is gini index\n",
    "Gini Index range >> 0 - 0.5\n",
    "\n",
    "GI = 1 - [P(Y)^2 + P(N)^2]\n",
    "\n",
    "By default sklearn provide gini index.\n",
    "\n",
    "Advantages of Gini Index:\n",
    "    1. Complexity is less.\n",
    "    2. It does not use log.\n",
    "    3. Less time consuming.\n",
    "    \n",
    "The variable for which we get the lowest gini index will be our root node."
   ]
  },
  {
   "cell_type": "code",
   "execution_count": null,
   "metadata": {},
   "outputs": [],
   "source": [
    "GI(Outlook = Overcast) >> 1-[1+0] >> 0\n",
    "GI(Outlook = Rainy)    >> 1-[(3/5)^2 + (2/5)^2] >> 0.48\n",
    "GI(Outlook = Sunny)    >> 0.48"
   ]
  },
  {
   "cell_type": "code",
   "execution_count": null,
   "metadata": {},
   "outputs": [],
   "source": [
    "GI(temperature =hot) >> 1 - [(2/4)^2 + (2/4)^2] >> 0.5\n",
    "GI(temperature =cool)>> 1 - [(3/4)^2 + (1/4)^2] >> 0.37\n",
    "GI(temperature =mild)>> 1 - [(4/6)^2 + (2/6)^2] >> 0.44"
   ]
  },
  {
   "cell_type": "code",
   "execution_count": null,
   "metadata": {},
   "outputs": [],
   "source": [
    "GI(Humidity = High) >> 1 - [(3/7)^2 + (4/7)^2]  >> 0.48\n",
    "GI(Humidity = Normal)>> 1 - [(6/7)^2 + (1/7)^2] >> 0.24"
   ]
  },
  {
   "cell_type": "code",
   "execution_count": null,
   "metadata": {},
   "outputs": [],
   "source": [
    "GI(Windy = True) >> 1 -[(3/6)^2 + (3/6)^2] >> 0.5\n",
    "GI(Windy = False) >> 1 - [(6/8)^2 + (2/8)^2] >> 0.37"
   ]
  },
  {
   "cell_type": "code",
   "execution_count": null,
   "metadata": {},
   "outputs": [],
   "source": [
    "GI(outlook)     >> (4/14)*0 + (5/14)*0.48 + (5/14)*0.48   >> 0.34 >> Root note\n",
    "GI(temperature) >> (4/14)*0.5 + (4/14)*0.37 + (6/14)*0.44 >> 0.44\n",
    "GI(Humidity)    >> (7/14)*0.48 + (7/14)*0.24              >> 0.36\n",
    "GI(Windy)       >> (6/14)*0.5 + (8/14)*0.37               >> 0.42"
   ]
  },
  {
   "cell_type": "code",
   "execution_count": 2,
   "metadata": {},
   "outputs": [
    {
     "data": {
      "text/plain": [
       "0.34285714285714286"
      ]
     },
     "execution_count": 2,
     "metadata": {},
     "output_type": "execute_result"
    }
   ],
   "source": [
    "(5/14)*0.48 + (5/14)*0.48"
   ]
  },
  {
   "cell_type": "code",
   "execution_count": 3,
   "metadata": {},
   "outputs": [
    {
     "data": {
      "text/plain": [
       "0.4257142857142857"
      ]
     },
     "execution_count": 3,
     "metadata": {},
     "output_type": "execute_result"
    }
   ],
   "source": [
    "(6/14)*0.5 + (8/14)*0.37"
   ]
  },
  {
   "cell_type": "code",
   "execution_count": null,
   "metadata": {},
   "outputs": [],
   "source": []
  }
 ],
 "metadata": {
  "kernelspec": {
   "display_name": "Python 3 (ipykernel)",
   "language": "python",
   "name": "python3"
  },
  "language_info": {
   "codemirror_mode": {
    "name": "ipython",
    "version": 3
   },
   "file_extension": ".py",
   "mimetype": "text/x-python",
   "name": "python",
   "nbconvert_exporter": "python",
   "pygments_lexer": "ipython3",
   "version": "3.9.12"
  }
 },
 "nbformat": 4,
 "nbformat_minor": 4
}
