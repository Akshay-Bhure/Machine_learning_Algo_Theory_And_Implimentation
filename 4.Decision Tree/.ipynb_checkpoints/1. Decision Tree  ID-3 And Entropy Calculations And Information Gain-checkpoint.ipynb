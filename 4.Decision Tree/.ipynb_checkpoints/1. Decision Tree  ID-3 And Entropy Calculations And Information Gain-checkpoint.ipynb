{
 "cells": [
  {
   "cell_type": "markdown",
   "metadata": {},
   "source": [
    "# Decision Tree"
   ]
  },
  {
   "cell_type": "raw",
   "metadata": {},
   "source": [
    "- it is Supervised ML algorithm.\n",
    "- it is also Called as tree structured classifier.\n",
    "- DT is used for both classification and regression, preferably it is used for classification.\n",
    "- Non-parametric algorithm.\n",
    "\n",
    "To build Decision Tree, there are 2 different algorithms.\n",
    "1. ID3 -  Iterative Dichotomiser 3\n",
    "2. CART - Classification and regression tree.\n",
    "\n",
    "\n",
    "Root Node - Decision Node\n",
    "Branch Node - Decision Node\n",
    "Leaf Node - Terminal Node."
   ]
  },
  {
   "cell_type": "markdown",
   "metadata": {},
   "source": [
    "## ID3"
   ]
  },
  {
   "cell_type": "code",
   "execution_count": null,
   "metadata": {},
   "outputs": [],
   "source": [
    "It does have two different terms:\n",
    "    1. entropy \n",
    "    2. Information gain.\n",
    "    \n",
    "Entropy :\n",
    "    it is a metric to measure the impurity in given variable.\n",
    "    Entropy(s) = summation(-P(Y)log2P(Y) - P(N)log2P(N))\n",
    "    \n",
    "    Y = Yes = Positive = Approved\n",
    "    N = No  = Negative = Declined"
   ]
  },
  {
   "cell_type": "markdown",
   "metadata": {},
   "source": [
    "## Outlook"
   ]
  },
  {
   "cell_type": "code",
   "execution_count": null,
   "metadata": {},
   "outputs": [],
   "source": [
    "H(outlook = overcast) = 0\n",
    "H(outlook = rainy)    = 0.97\n",
    "H(outlook = Sunny)    = 0.97"
   ]
  },
  {
   "cell_type": "code",
   "execution_count": null,
   "metadata": {},
   "outputs": [],
   "source": [
    "H(outlook = overcast) = -4/4log2(4/4) - 0   # 4Y/0N \n",
    "H(outlook = rainy) = -(3/5)*np.log2(3/5) - (2/5)*np.log2(2/5)\n",
    "3y/2n\n",
    "H(outlook = Sunny) =  -(2/5)*np.log2(2/5) - (3/5)*np.log2(3/5)\n",
    "2y/3n"
   ]
  },
  {
   "cell_type": "code",
   "execution_count": 1,
   "metadata": {},
   "outputs": [],
   "source": [
    "import numpy as np"
   ]
  },
  {
   "cell_type": "code",
   "execution_count": 4,
   "metadata": {},
   "outputs": [
    {
     "data": {
      "text/plain": [
       "0.9709505944546686"
      ]
     },
     "execution_count": 4,
     "metadata": {},
     "output_type": "execute_result"
    }
   ],
   "source": [
    "-(2/5)*np.log2(2/5) - (3/5)*np.log2(3/5)"
   ]
  },
  {
   "cell_type": "markdown",
   "metadata": {},
   "source": [
    "## Temperature"
   ]
  },
  {
   "cell_type": "code",
   "execution_count": null,
   "metadata": {},
   "outputs": [],
   "source": [
    "H(temperature = Hot)  =   2y and 2n  >> 1\n",
    "H(temperature = Cool) =   3Y and 1N  >> 0.81\n",
    "\n",
    "H(temperature = Mild) =   4Y and 2N  >> 0.91\n"
   ]
  },
  {
   "cell_type": "code",
   "execution_count": null,
   "metadata": {},
   "outputs": [],
   "source": [
    "temperature\thumidity\twindy\tplay\n",
    "hot\t        high\tFALSE\t yes\n",
    "cool\t    normal\tTRUE\t yes\n",
    "mild\t    high\tTRUE\t yes\n",
    "hot\t        normal\tFALSE\t yes\n",
    "mild\t    high\tFALSE\tyes\n",
    "cool\t    normal\tFALSE\tyes\n",
    "cool\t    normal\tTRUE\tno\n",
    "mild\t    normal\tFALSE\tyes\n",
    "mild\t    high\tTRUE\tno\n",
    "hot\t        high\tFALSE\tno\n",
    "hot\t        high\tTRUE\tno\n",
    "mild\t    high\tFALSE\tno\n",
    "cool\t    normal\tFALSE\tyes\n",
    "mild\t    normal\tTRUE\tyes\n"
   ]
  },
  {
   "cell_type": "markdown",
   "metadata": {},
   "source": [
    "## Humidity"
   ]
  },
  {
   "cell_type": "code",
   "execution_count": null,
   "metadata": {},
   "outputs": [],
   "source": [
    "H(Humidity = High) >> 3y and 4 n >> 0.98\n",
    "H(Humidity = Normal) >> 6y and 1 n >> 0.59"
   ]
  },
  {
   "cell_type": "markdown",
   "metadata": {},
   "source": [
    "## Windy"
   ]
  },
  {
   "cell_type": "code",
   "execution_count": null,
   "metadata": {},
   "outputs": [],
   "source": [
    "H(Windy = True)  >> 3y and 3n >> 1\n",
    "H(Windy = False) >> 6y and 2n >> 0.81"
   ]
  },
  {
   "cell_type": "markdown",
   "metadata": {},
   "source": [
    "## Information Gain"
   ]
  },
  {
   "cell_type": "code",
   "execution_count": null,
   "metadata": {},
   "outputs": [],
   "source": [
    "I.G = Overall entropy -(weighted avg.*Entropy of each feature)"
   ]
  },
  {
   "cell_type": "code",
   "execution_count": null,
   "metadata": {},
   "outputs": [],
   "source": [
    "9Y n 5N >> 0.94"
   ]
  },
  {
   "cell_type": "code",
   "execution_count": null,
   "metadata": {},
   "outputs": [],
   "source": [
    "IG(outlook) = 0.94 -[(4/14)*0 + (5/14)*0.97 + (5/14)*0.97] >> 0.25"
   ]
  },
  {
   "cell_type": "code",
   "execution_count": 5,
   "metadata": {},
   "outputs": [
    {
     "data": {
      "text/plain": [
       "0.6928571428571428"
      ]
     },
     "execution_count": 5,
     "metadata": {},
     "output_type": "execute_result"
    }
   ],
   "source": [
    "(5/14)*0.97 + (5/14)*0.97"
   ]
  },
  {
   "cell_type": "code",
   "execution_count": 6,
   "metadata": {},
   "outputs": [
    {
     "data": {
      "text/plain": [
       "0.25"
      ]
     },
     "execution_count": 6,
     "metadata": {},
     "output_type": "execute_result"
    }
   ],
   "source": [
    "0.94- 0.69"
   ]
  },
  {
   "cell_type": "code",
   "execution_count": null,
   "metadata": {},
   "outputs": [],
   "source": [
    "IG(temperature) = 0.94 -[(4/14)*1 + (6/14)*0.91 + (4/14)*0.81] >> 0.039"
   ]
  },
  {
   "cell_type": "code",
   "execution_count": 7,
   "metadata": {},
   "outputs": [
    {
     "data": {
      "text/plain": [
       "0.9071428571428571"
      ]
     },
     "execution_count": 7,
     "metadata": {},
     "output_type": "execute_result"
    }
   ],
   "source": [
    "(4/14)*1 + (6/14)*0.91 + (4/14)*0.81"
   ]
  },
  {
   "cell_type": "code",
   "execution_count": 8,
   "metadata": {},
   "outputs": [
    {
     "data": {
      "text/plain": [
       "0.039999999999999925"
      ]
     },
     "execution_count": 8,
     "metadata": {},
     "output_type": "execute_result"
    }
   ],
   "source": [
    "0.94-0.9"
   ]
  },
  {
   "cell_type": "code",
   "execution_count": null,
   "metadata": {},
   "outputs": [],
   "source": [
    "IG(Humidity) = 0.94 -[(7/14)*0.98 + (7/14)*0.59] >> 0.15"
   ]
  },
  {
   "cell_type": "code",
   "execution_count": 9,
   "metadata": {},
   "outputs": [
    {
     "data": {
      "text/plain": [
       "0.7849999999999999"
      ]
     },
     "execution_count": 9,
     "metadata": {},
     "output_type": "execute_result"
    }
   ],
   "source": [
    "(7/14)*0.98 + (7/14)*0.59"
   ]
  },
  {
   "cell_type": "code",
   "execution_count": 10,
   "metadata": {},
   "outputs": [
    {
     "data": {
      "text/plain": [
       "0.15999999999999992"
      ]
     },
     "execution_count": 10,
     "metadata": {},
     "output_type": "execute_result"
    }
   ],
   "source": [
    "0.94-0.78"
   ]
  },
  {
   "cell_type": "code",
   "execution_count": null,
   "metadata": {},
   "outputs": [],
   "source": [
    "IG(Windy) = 0.94 -[(6/14) + (8/14)*0.81] >>0.049"
   ]
  },
  {
   "cell_type": "code",
   "execution_count": 11,
   "metadata": {},
   "outputs": [
    {
     "data": {
      "text/plain": [
       "0.8914285714285715"
      ]
     },
     "execution_count": 11,
     "metadata": {},
     "output_type": "execute_result"
    }
   ],
   "source": [
    "(6/14) + (8/14)*0.81"
   ]
  },
  {
   "cell_type": "code",
   "execution_count": 12,
   "metadata": {},
   "outputs": [
    {
     "data": {
      "text/plain": [
       "0.04999999999999993"
      ]
     },
     "execution_count": 12,
     "metadata": {},
     "output_type": "execute_result"
    }
   ],
   "source": [
    "0.94-0.89"
   ]
  },
  {
   "cell_type": "code",
   "execution_count": null,
   "metadata": {},
   "outputs": [],
   "source": [
    "IG(outlook)     = 0.25  >>>>> This will be our root note. \n",
    "IG(temperature) = 0.039\n",
    "IG(Humidity)    = 0.15\n",
    "IG(Windy)       = 0.049"
   ]
  },
  {
   "cell_type": "markdown",
   "metadata": {},
   "source": [
    "# Advantages"
   ]
  },
  {
   "cell_type": "raw",
   "metadata": {},
   "source": [
    "1. it can be used for classification n regression too.\n",
    "2. it is Non-parametric algorithm\n",
    "3. Robust to outliers\n",
    "4. feature scaling not required much\n",
    "5. Very good and it takes decisions as per humans takes decisions."
   ]
  },
  {
   "cell_type": "markdown",
   "metadata": {},
   "source": [
    "# Disadvantages"
   ]
  },
  {
   "cell_type": "raw",
   "metadata": {},
   "source": [
    "1. get highly overfit\n",
    "2. complex calculations\n",
    "3. Must need hyperparameter tunning\n",
    "4. More time complexity\n",
    "5. Less effective for regression problems.\n",
    "6. Tree is unstable."
   ]
  },
  {
   "cell_type": "code",
   "execution_count": null,
   "metadata": {},
   "outputs": [],
   "source": []
  }
 ],
 "metadata": {
  "kernelspec": {
   "display_name": "Python 3 (ipykernel)",
   "language": "python",
   "name": "python3"
  },
  "language_info": {
   "codemirror_mode": {
    "name": "ipython",
    "version": 3
   },
   "file_extension": ".py",
   "mimetype": "text/x-python",
   "name": "python",
   "nbconvert_exporter": "python",
   "pygments_lexer": "ipython3",
   "version": "3.9.12"
  }
 },
 "nbformat": 4,
 "nbformat_minor": 4
}
