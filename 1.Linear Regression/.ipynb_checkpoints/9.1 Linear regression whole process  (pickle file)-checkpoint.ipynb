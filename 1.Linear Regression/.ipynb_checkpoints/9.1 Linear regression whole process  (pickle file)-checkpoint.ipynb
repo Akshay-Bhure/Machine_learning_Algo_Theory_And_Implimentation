{
 "cells": [
  {
   "cell_type": "code",
   "execution_count": 2,
   "id": "18d3a196",
   "metadata": {},
   "outputs": [],
   "source": [
    "import pickle\n",
    "import numpy as np"
   ]
  },
  {
   "cell_type": "code",
   "execution_count": 3,
   "id": "8d9e99a2",
   "metadata": {},
   "outputs": [],
   "source": [
    "with open('Linear_model.pkl','rb') as f:\n",
    "    model=pickle.load(f)"
   ]
  },
  {
   "cell_type": "code",
   "execution_count": 4,
   "id": "2accb6cf",
   "metadata": {},
   "outputs": [
    {
     "name": "stdout",
     "output_type": "stream",
     "text": [
      "our predicted price is:32.66\n"
     ]
    },
    {
     "name": "stderr",
     "output_type": "stream",
     "text": [
      "C:\\Users\\Admin\\AKSHAY\\lib\\site-packages\\sklearn\\base.py:450: UserWarning: X does not have valid feature names, but LinearRegression was fitted with feature names\n",
      "  warnings.warn(\n"
     ]
    }
   ],
   "source": [
    "CRIM =0.04932 # we can change these values\n",
    "ZN = 33.0\n",
    "INDUS = 2.18\n",
    "CHAS = 0.0\n",
    "NOX = 0.472\n",
    "RM = 6.849\n",
    "AGE = 70.3\n",
    "DIS = 3.1827\n",
    "RAD = 7.0\n",
    "TAX = 222.0\n",
    "PTRATIO = 18.4\n",
    "B = 396.9\n",
    "LSTAT = 7.53\n",
    "\n",
    "test_array=np.array([CRIM, ZN, INDUS, CHAS, NOX, RM, AGE, DIS, RAD,TAX,\n",
    "       PTRATIO, B, LSTAT],ndmin=2)\n",
    "\n",
    "def predicted_price(test_array):\n",
    "    price=model.predict(test_array)[0]\n",
    "    price=np.around(price,2)\n",
    "    \n",
    "    return price\n",
    "\n",
    "price=predicted_price(test_array)\n",
    "print(f'our predicted price is:{price}')"
   ]
  },
  {
   "cell_type": "code",
   "execution_count": null,
   "id": "d7460f81",
   "metadata": {},
   "outputs": [],
   "source": []
  }
 ],
 "metadata": {
  "kernelspec": {
   "display_name": "Python 3 (ipykernel)",
   "language": "python",
   "name": "python3"
  },
  "language_info": {
   "codemirror_mode": {
    "name": "ipython",
    "version": 3
   },
   "file_extension": ".py",
   "mimetype": "text/x-python",
   "name": "python",
   "nbconvert_exporter": "python",
   "pygments_lexer": "ipython3",
   "version": "3.9.12"
  }
 },
 "nbformat": 4,
 "nbformat_minor": 5
}
