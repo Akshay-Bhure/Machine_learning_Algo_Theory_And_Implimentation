{
 "cells": [
  {
   "cell_type": "markdown",
   "id": "ab205254",
   "metadata": {},
   "source": [
    "## 4.simple linear regration"
   ]
  },
  {
   "cell_type": "raw",
   "id": "1fa22f0a",
   "metadata": {},
   "source": [
    "Exp Salary\n",
    "1     3\n",
    "2     4\n",
    "3     6\n",
    "4     7\n",
    "5     11\n",
    "6     18\n",
    "7     19\n",
    "8     21\n",
    "9     24\n",
    "10    27\n",
    "\n",
    "Simple Linear Regression"
   ]
  },
  {
   "cell_type": "raw",
   "id": "e003112f",
   "metadata": {},
   "source": [
    "X, Y\n",
    "X -- Independent Variable\n",
    "Y -- Dependent variable\n",
    "While training we split the data\n",
    "Training >> 80% >> x_train, y_train\n",
    "Testing  >> 20% >> x_test\n",
    "\n",
    "x_train, x_test, y_train, y_test\n",
    "X\n",
    "Y"
   ]
  },
  {
   "cell_type": "code",
   "execution_count": null,
   "id": "a3e63ffb",
   "metadata": {},
   "outputs": [],
   "source": []
  }
 ],
 "metadata": {
  "kernelspec": {
   "display_name": "Python 3 (ipykernel)",
   "language": "python",
   "name": "python3"
  },
  "language_info": {
   "codemirror_mode": {
    "name": "ipython",
    "version": 3
   },
   "file_extension": ".py",
   "mimetype": "text/x-python",
   "name": "python",
   "nbconvert_exporter": "python",
   "pygments_lexer": "ipython3",
   "version": "3.9.12"
  }
 },
 "nbformat": 4,
 "nbformat_minor": 5
}
