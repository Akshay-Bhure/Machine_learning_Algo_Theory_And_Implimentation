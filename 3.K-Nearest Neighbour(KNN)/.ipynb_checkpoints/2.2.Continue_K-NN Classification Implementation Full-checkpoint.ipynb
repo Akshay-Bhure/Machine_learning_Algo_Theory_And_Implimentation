{
 "cells": [
  {
   "cell_type": "code",
   "execution_count": 56,
   "id": "8770021a",
   "metadata": {},
   "outputs": [],
   "source": [
    "import numpy as np\n",
    "import pandas as pd\n",
    "import matplotlib.pyplot as plt\n",
    "import seaborn as sns\n",
    "\n",
    "import plotly.express as px\n",
    "from scipy.stats import zscore\n",
    "from scipy.stats import boxcox\n",
    "\n",
    "from sklearn.linear_model import LinearRegression,LogisticRegression,Ridge,Lasso\n",
    "from sklearn.neighbors import KNeighborsClassifier,KNeighborsRegressor\n",
    "from sklearn.model_selection import train_test_split,GridSearchCV,RandomizedSearchCV\n",
    "from sklearn.metrics import precision_score,recall_score,accuracy_score,f1_score,classification_report,confusion_matrix,multilabel_confusion_matrix\n",
    "from sklearn.metrics import mean_squared_error,r2_score,mean_absolute_error\n",
    "\n",
    "from sklearn.preprocessing import StandardScaler,MinMaxScaler\n",
    "from statsmodels.stats.outliers_influence import variance_inflation_factor\n",
    "\n",
    "\n",
    "from sklearn.datasets import load_boston\n",
    "import warnings\n",
    "warnings.filterwarnings('ignore')\n",
    "import pickle"
   ]
  },
  {
   "cell_type": "code",
   "execution_count": 57,
   "id": "2091e72a",
   "metadata": {},
   "outputs": [
    {
     "data": {
      "text/html": [
       "<div>\n",
       "<style scoped>\n",
       "    .dataframe tbody tr th:only-of-type {\n",
       "        vertical-align: middle;\n",
       "    }\n",
       "\n",
       "    .dataframe tbody tr th {\n",
       "        vertical-align: top;\n",
       "    }\n",
       "\n",
       "    .dataframe thead th {\n",
       "        text-align: right;\n",
       "    }\n",
       "</style>\n",
       "<table border=\"1\" class=\"dataframe\">\n",
       "  <thead>\n",
       "    <tr style=\"text-align: right;\">\n",
       "      <th></th>\n",
       "      <th>Pregnancies</th>\n",
       "      <th>Glucose</th>\n",
       "      <th>BloodPressure</th>\n",
       "      <th>SkinThickness</th>\n",
       "      <th>Insulin</th>\n",
       "      <th>BMI</th>\n",
       "      <th>DiabetesPedigreeFunction</th>\n",
       "      <th>Age</th>\n",
       "      <th>Outcome</th>\n",
       "    </tr>\n",
       "  </thead>\n",
       "  <tbody>\n",
       "    <tr>\n",
       "      <th>0</th>\n",
       "      <td>6</td>\n",
       "      <td>148</td>\n",
       "      <td>72</td>\n",
       "      <td>35</td>\n",
       "      <td>0</td>\n",
       "      <td>33.6</td>\n",
       "      <td>0.627</td>\n",
       "      <td>50</td>\n",
       "      <td>1</td>\n",
       "    </tr>\n",
       "    <tr>\n",
       "      <th>1</th>\n",
       "      <td>1</td>\n",
       "      <td>85</td>\n",
       "      <td>66</td>\n",
       "      <td>29</td>\n",
       "      <td>0</td>\n",
       "      <td>26.6</td>\n",
       "      <td>0.351</td>\n",
       "      <td>31</td>\n",
       "      <td>0</td>\n",
       "    </tr>\n",
       "    <tr>\n",
       "      <th>2</th>\n",
       "      <td>8</td>\n",
       "      <td>183</td>\n",
       "      <td>64</td>\n",
       "      <td>0</td>\n",
       "      <td>0</td>\n",
       "      <td>23.3</td>\n",
       "      <td>0.672</td>\n",
       "      <td>32</td>\n",
       "      <td>1</td>\n",
       "    </tr>\n",
       "    <tr>\n",
       "      <th>3</th>\n",
       "      <td>1</td>\n",
       "      <td>89</td>\n",
       "      <td>66</td>\n",
       "      <td>23</td>\n",
       "      <td>94</td>\n",
       "      <td>28.1</td>\n",
       "      <td>0.167</td>\n",
       "      <td>21</td>\n",
       "      <td>0</td>\n",
       "    </tr>\n",
       "    <tr>\n",
       "      <th>4</th>\n",
       "      <td>0</td>\n",
       "      <td>137</td>\n",
       "      <td>40</td>\n",
       "      <td>35</td>\n",
       "      <td>168</td>\n",
       "      <td>43.1</td>\n",
       "      <td>2.288</td>\n",
       "      <td>33</td>\n",
       "      <td>1</td>\n",
       "    </tr>\n",
       "  </tbody>\n",
       "</table>\n",
       "</div>"
      ],
      "text/plain": [
       "   Pregnancies  Glucose  BloodPressure  SkinThickness  Insulin   BMI  \\\n",
       "0            6      148             72             35        0  33.6   \n",
       "1            1       85             66             29        0  26.6   \n",
       "2            8      183             64              0        0  23.3   \n",
       "3            1       89             66             23       94  28.1   \n",
       "4            0      137             40             35      168  43.1   \n",
       "\n",
       "   DiabetesPedigreeFunction  Age  Outcome  \n",
       "0                     0.627   50        1  \n",
       "1                     0.351   31        0  \n",
       "2                     0.672   32        1  \n",
       "3                     0.167   21        0  \n",
       "4                     2.288   33        1  "
      ]
     },
     "execution_count": 57,
     "metadata": {},
     "output_type": "execute_result"
    }
   ],
   "source": [
    "df = pd.read_csv('diabetes.csv')\n",
    "df.head()"
   ]
  },
  {
   "cell_type": "code",
   "execution_count": 58,
   "id": "a91e6e76",
   "metadata": {},
   "outputs": [
    {
     "data": {
      "text/plain": [
       "0    500\n",
       "1    268\n",
       "Name: Outcome, dtype: int64"
      ]
     },
     "execution_count": 58,
     "metadata": {},
     "output_type": "execute_result"
    }
   ],
   "source": [
    "df['Outcome'].value_counts()   #binary classification"
   ]
  },
  {
   "cell_type": "code",
   "execution_count": 59,
   "id": "f0797ceb",
   "metadata": {},
   "outputs": [
    {
     "data": {
      "text/html": [
       "<div>\n",
       "<style scoped>\n",
       "    .dataframe tbody tr th:only-of-type {\n",
       "        vertical-align: middle;\n",
       "    }\n",
       "\n",
       "    .dataframe tbody tr th {\n",
       "        vertical-align: top;\n",
       "    }\n",
       "\n",
       "    .dataframe thead th {\n",
       "        text-align: right;\n",
       "    }\n",
       "</style>\n",
       "<table border=\"1\" class=\"dataframe\">\n",
       "  <thead>\n",
       "    <tr style=\"text-align: right;\">\n",
       "      <th></th>\n",
       "      <th>Pregnancies</th>\n",
       "      <th>Glucose</th>\n",
       "      <th>BloodPressure</th>\n",
       "      <th>SkinThickness</th>\n",
       "      <th>Insulin</th>\n",
       "      <th>BMI</th>\n",
       "      <th>DiabetesPedigreeFunction</th>\n",
       "      <th>Age</th>\n",
       "      <th>Outcome</th>\n",
       "    </tr>\n",
       "  </thead>\n",
       "  <tbody>\n",
       "    <tr>\n",
       "      <th>count</th>\n",
       "      <td>768.000000</td>\n",
       "      <td>768.000000</td>\n",
       "      <td>768.000000</td>\n",
       "      <td>768.000000</td>\n",
       "      <td>768.000000</td>\n",
       "      <td>768.000000</td>\n",
       "      <td>768.000000</td>\n",
       "      <td>768.000000</td>\n",
       "      <td>768.000000</td>\n",
       "    </tr>\n",
       "    <tr>\n",
       "      <th>mean</th>\n",
       "      <td>3.845052</td>\n",
       "      <td>120.894531</td>\n",
       "      <td>69.105469</td>\n",
       "      <td>20.536458</td>\n",
       "      <td>79.799479</td>\n",
       "      <td>31.992578</td>\n",
       "      <td>0.471876</td>\n",
       "      <td>33.240885</td>\n",
       "      <td>0.348958</td>\n",
       "    </tr>\n",
       "    <tr>\n",
       "      <th>std</th>\n",
       "      <td>3.369578</td>\n",
       "      <td>31.972618</td>\n",
       "      <td>19.355807</td>\n",
       "      <td>15.952218</td>\n",
       "      <td>115.244002</td>\n",
       "      <td>7.884160</td>\n",
       "      <td>0.331329</td>\n",
       "      <td>11.760232</td>\n",
       "      <td>0.476951</td>\n",
       "    </tr>\n",
       "    <tr>\n",
       "      <th>min</th>\n",
       "      <td>0.000000</td>\n",
       "      <td>0.000000</td>\n",
       "      <td>0.000000</td>\n",
       "      <td>0.000000</td>\n",
       "      <td>0.000000</td>\n",
       "      <td>0.000000</td>\n",
       "      <td>0.078000</td>\n",
       "      <td>21.000000</td>\n",
       "      <td>0.000000</td>\n",
       "    </tr>\n",
       "    <tr>\n",
       "      <th>25%</th>\n",
       "      <td>1.000000</td>\n",
       "      <td>99.000000</td>\n",
       "      <td>62.000000</td>\n",
       "      <td>0.000000</td>\n",
       "      <td>0.000000</td>\n",
       "      <td>27.300000</td>\n",
       "      <td>0.243750</td>\n",
       "      <td>24.000000</td>\n",
       "      <td>0.000000</td>\n",
       "    </tr>\n",
       "    <tr>\n",
       "      <th>50%</th>\n",
       "      <td>3.000000</td>\n",
       "      <td>117.000000</td>\n",
       "      <td>72.000000</td>\n",
       "      <td>23.000000</td>\n",
       "      <td>30.500000</td>\n",
       "      <td>32.000000</td>\n",
       "      <td>0.372500</td>\n",
       "      <td>29.000000</td>\n",
       "      <td>0.000000</td>\n",
       "    </tr>\n",
       "    <tr>\n",
       "      <th>75%</th>\n",
       "      <td>6.000000</td>\n",
       "      <td>140.250000</td>\n",
       "      <td>80.000000</td>\n",
       "      <td>32.000000</td>\n",
       "      <td>127.250000</td>\n",
       "      <td>36.600000</td>\n",
       "      <td>0.626250</td>\n",
       "      <td>41.000000</td>\n",
       "      <td>1.000000</td>\n",
       "    </tr>\n",
       "    <tr>\n",
       "      <th>max</th>\n",
       "      <td>17.000000</td>\n",
       "      <td>199.000000</td>\n",
       "      <td>122.000000</td>\n",
       "      <td>99.000000</td>\n",
       "      <td>846.000000</td>\n",
       "      <td>67.100000</td>\n",
       "      <td>2.420000</td>\n",
       "      <td>81.000000</td>\n",
       "      <td>1.000000</td>\n",
       "    </tr>\n",
       "  </tbody>\n",
       "</table>\n",
       "</div>"
      ],
      "text/plain": [
       "       Pregnancies     Glucose  BloodPressure  SkinThickness     Insulin  \\\n",
       "count   768.000000  768.000000     768.000000     768.000000  768.000000   \n",
       "mean      3.845052  120.894531      69.105469      20.536458   79.799479   \n",
       "std       3.369578   31.972618      19.355807      15.952218  115.244002   \n",
       "min       0.000000    0.000000       0.000000       0.000000    0.000000   \n",
       "25%       1.000000   99.000000      62.000000       0.000000    0.000000   \n",
       "50%       3.000000  117.000000      72.000000      23.000000   30.500000   \n",
       "75%       6.000000  140.250000      80.000000      32.000000  127.250000   \n",
       "max      17.000000  199.000000     122.000000      99.000000  846.000000   \n",
       "\n",
       "              BMI  DiabetesPedigreeFunction         Age     Outcome  \n",
       "count  768.000000                768.000000  768.000000  768.000000  \n",
       "mean    31.992578                  0.471876   33.240885    0.348958  \n",
       "std      7.884160                  0.331329   11.760232    0.476951  \n",
       "min      0.000000                  0.078000   21.000000    0.000000  \n",
       "25%     27.300000                  0.243750   24.000000    0.000000  \n",
       "50%     32.000000                  0.372500   29.000000    0.000000  \n",
       "75%     36.600000                  0.626250   41.000000    1.000000  \n",
       "max     67.100000                  2.420000   81.000000    1.000000  "
      ]
     },
     "execution_count": 59,
     "metadata": {},
     "output_type": "execute_result"
    }
   ],
   "source": [
    "df.describe()"
   ]
  },
  {
   "cell_type": "code",
   "execution_count": 60,
   "id": "317f55d4",
   "metadata": {},
   "outputs": [
    {
     "data": {
      "text/plain": [
       "{'whiskers': [<matplotlib.lines.Line2D at 0x1902895fdf0>,\n",
       "  <matplotlib.lines.Line2D at 0x1902895fe50>],\n",
       " 'caps': [<matplotlib.lines.Line2D at 0x19026da9d30>,\n",
       "  <matplotlib.lines.Line2D at 0x1902647e220>],\n",
       " 'boxes': [<matplotlib.lines.Line2D at 0x19026ed8760>],\n",
       " 'medians': [<matplotlib.lines.Line2D at 0x190264804f0>],\n",
       " 'fliers': [<matplotlib.lines.Line2D at 0x190274779d0>],\n",
       " 'means': []}"
      ]
     },
     "execution_count": 60,
     "metadata": {},
     "output_type": "execute_result"
    },
    {
     "data": {
      "image/png": "[encoded data removed]",
      "text/plain": [
       "<Figure size 432x288 with 1 Axes>"
      ]
     },
     "metadata": {
      "needs_background": "light"
     },
     "output_type": "display_data"
    }
   ],
   "source": [
    "plt.boxplot(df['Insulin'])"
   ]
  },
  {
   "cell_type": "markdown",
   "id": "32d4a094",
   "metadata": {},
   "source": [
    "# Feature scaling"
   ]
  },
  {
   "cell_type": "code",
   "execution_count": 61,
   "id": "cec7da56",
   "metadata": {},
   "outputs": [],
   "source": [
    "x_df = df.drop('Outcome', axis=1)"
   ]
  },
  {
   "cell_type": "code",
   "execution_count": 62,
   "id": "d37b065d",
   "metadata": {},
   "outputs": [
    {
     "data": {
      "text/html": [
       "<div>\n",
       "<style scoped>\n",
       "    .dataframe tbody tr th:only-of-type {\n",
       "        vertical-align: middle;\n",
       "    }\n",
       "\n",
       "    .dataframe tbody tr th {\n",
       "        vertical-align: top;\n",
       "    }\n",
       "\n",
       "    .dataframe thead th {\n",
       "        text-align: right;\n",
       "    }\n",
       "</style>\n",
       "<table border=\"1\" class=\"dataframe\">\n",
       "  <thead>\n",
       "    <tr style=\"text-align: right;\">\n",
       "      <th></th>\n",
       "      <th>Pregnancies</th>\n",
       "      <th>Glucose</th>\n",
       "      <th>BloodPressure</th>\n",
       "      <th>SkinThickness</th>\n",
       "      <th>Insulin</th>\n",
       "      <th>BMI</th>\n",
       "      <th>DiabetesPedigreeFunction</th>\n",
       "      <th>Age</th>\n",
       "    </tr>\n",
       "  </thead>\n",
       "  <tbody>\n",
       "    <tr>\n",
       "      <th>0</th>\n",
       "      <td>6</td>\n",
       "      <td>148</td>\n",
       "      <td>72</td>\n",
       "      <td>35</td>\n",
       "      <td>0</td>\n",
       "      <td>33.6</td>\n",
       "      <td>0.627</td>\n",
       "      <td>50</td>\n",
       "    </tr>\n",
       "    <tr>\n",
       "      <th>1</th>\n",
       "      <td>1</td>\n",
       "      <td>85</td>\n",
       "      <td>66</td>\n",
       "      <td>29</td>\n",
       "      <td>0</td>\n",
       "      <td>26.6</td>\n",
       "      <td>0.351</td>\n",
       "      <td>31</td>\n",
       "    </tr>\n",
       "    <tr>\n",
       "      <th>2</th>\n",
       "      <td>8</td>\n",
       "      <td>183</td>\n",
       "      <td>64</td>\n",
       "      <td>0</td>\n",
       "      <td>0</td>\n",
       "      <td>23.3</td>\n",
       "      <td>0.672</td>\n",
       "      <td>32</td>\n",
       "    </tr>\n",
       "    <tr>\n",
       "      <th>3</th>\n",
       "      <td>1</td>\n",
       "      <td>89</td>\n",
       "      <td>66</td>\n",
       "      <td>23</td>\n",
       "      <td>94</td>\n",
       "      <td>28.1</td>\n",
       "      <td>0.167</td>\n",
       "      <td>21</td>\n",
       "    </tr>\n",
       "    <tr>\n",
       "      <th>4</th>\n",
       "      <td>0</td>\n",
       "      <td>137</td>\n",
       "      <td>40</td>\n",
       "      <td>35</td>\n",
       "      <td>168</td>\n",
       "      <td>43.1</td>\n",
       "      <td>2.288</td>\n",
       "      <td>33</td>\n",
       "    </tr>\n",
       "  </tbody>\n",
       "</table>\n",
       "</div>"
      ],
      "text/plain": [
       "   Pregnancies  Glucose  BloodPressure  SkinThickness  Insulin   BMI  \\\n",
       "0            6      148             72             35        0  33.6   \n",
       "1            1       85             66             29        0  26.6   \n",
       "2            8      183             64              0        0  23.3   \n",
       "3            1       89             66             23       94  28.1   \n",
       "4            0      137             40             35      168  43.1   \n",
       "\n",
       "   DiabetesPedigreeFunction  Age  \n",
       "0                     0.627   50  \n",
       "1                     0.351   31  \n",
       "2                     0.672   32  \n",
       "3                     0.167   21  \n",
       "4                     2.288   33  "
      ]
     },
     "execution_count": 62,
     "metadata": {},
     "output_type": "execute_result"
    }
   ],
   "source": [
    "x_df.head()"
   ]
  },
  {
   "cell_type": "code",
   "execution_count": 63,
   "id": "76b95295",
   "metadata": {},
   "outputs": [
    {
     "data": {
      "text/html": [
       "<div>\n",
       "<style scoped>\n",
       "    .dataframe tbody tr th:only-of-type {\n",
       "        vertical-align: middle;\n",
       "    }\n",
       "\n",
       "    .dataframe tbody tr th {\n",
       "        vertical-align: top;\n",
       "    }\n",
       "\n",
       "    .dataframe thead th {\n",
       "        text-align: right;\n",
       "    }\n",
       "</style>\n",
       "<table border=\"1\" class=\"dataframe\">\n",
       "  <thead>\n",
       "    <tr style=\"text-align: right;\">\n",
       "      <th></th>\n",
       "      <th>Pregnancies</th>\n",
       "      <th>Glucose</th>\n",
       "      <th>BloodPressure</th>\n",
       "      <th>SkinThickness</th>\n",
       "      <th>Insulin</th>\n",
       "      <th>BMI</th>\n",
       "      <th>DiabetesPedigreeFunction</th>\n",
       "      <th>Age</th>\n",
       "    </tr>\n",
       "  </thead>\n",
       "  <tbody>\n",
       "    <tr>\n",
       "      <th>0</th>\n",
       "      <td>0.352941</td>\n",
       "      <td>0.743719</td>\n",
       "      <td>0.590164</td>\n",
       "      <td>0.353535</td>\n",
       "      <td>0.000000</td>\n",
       "      <td>0.500745</td>\n",
       "      <td>0.234415</td>\n",
       "      <td>0.483333</td>\n",
       "    </tr>\n",
       "    <tr>\n",
       "      <th>1</th>\n",
       "      <td>0.058824</td>\n",
       "      <td>0.427136</td>\n",
       "      <td>0.540984</td>\n",
       "      <td>0.292929</td>\n",
       "      <td>0.000000</td>\n",
       "      <td>0.396423</td>\n",
       "      <td>0.116567</td>\n",
       "      <td>0.166667</td>\n",
       "    </tr>\n",
       "    <tr>\n",
       "      <th>2</th>\n",
       "      <td>0.470588</td>\n",
       "      <td>0.919598</td>\n",
       "      <td>0.524590</td>\n",
       "      <td>0.000000</td>\n",
       "      <td>0.000000</td>\n",
       "      <td>0.347243</td>\n",
       "      <td>0.253629</td>\n",
       "      <td>0.183333</td>\n",
       "    </tr>\n",
       "    <tr>\n",
       "      <th>3</th>\n",
       "      <td>0.058824</td>\n",
       "      <td>0.447236</td>\n",
       "      <td>0.540984</td>\n",
       "      <td>0.232323</td>\n",
       "      <td>0.111111</td>\n",
       "      <td>0.418778</td>\n",
       "      <td>0.038002</td>\n",
       "      <td>0.000000</td>\n",
       "    </tr>\n",
       "    <tr>\n",
       "      <th>4</th>\n",
       "      <td>0.000000</td>\n",
       "      <td>0.688442</td>\n",
       "      <td>0.327869</td>\n",
       "      <td>0.353535</td>\n",
       "      <td>0.198582</td>\n",
       "      <td>0.642325</td>\n",
       "      <td>0.943638</td>\n",
       "      <td>0.200000</td>\n",
       "    </tr>\n",
       "  </tbody>\n",
       "</table>\n",
       "</div>"
      ],
      "text/plain": [
       "   Pregnancies   Glucose  BloodPressure  SkinThickness   Insulin       BMI  \\\n",
       "0     0.352941  0.743719       0.590164       0.353535  0.000000  0.500745   \n",
       "1     0.058824  0.427136       0.540984       0.292929  0.000000  0.396423   \n",
       "2     0.470588  0.919598       0.524590       0.000000  0.000000  0.347243   \n",
       "3     0.058824  0.447236       0.540984       0.232323  0.111111  0.418778   \n",
       "4     0.000000  0.688442       0.327869       0.353535  0.198582  0.642325   \n",
       "\n",
       "   DiabetesPedigreeFunction       Age  \n",
       "0                  0.234415  0.483333  \n",
       "1                  0.116567  0.166667  \n",
       "2                  0.253629  0.183333  \n",
       "3                  0.038002  0.000000  \n",
       "4                  0.943638  0.200000  "
      ]
     },
     "execution_count": 63,
     "metadata": {},
     "output_type": "execute_result"
    }
   ],
   "source": [
    "normal_scaler = MinMaxScaler()\n",
    "\n",
    "arr = normal_scaler.fit_transform(x_df)\n",
    "\n",
    "x_norm_df = pd.DataFrame(arr , columns=x_df.columns)\n",
    "\n",
    "x_norm_df.head()"
   ]
  },
  {
   "cell_type": "code",
   "execution_count": 64,
   "id": "2af3f0a9",
   "metadata": {},
   "outputs": [
    {
     "data": {
      "text/html": [
       "<div>\n",
       "<style scoped>\n",
       "    .dataframe tbody tr th:only-of-type {\n",
       "        vertical-align: middle;\n",
       "    }\n",
       "\n",
       "    .dataframe tbody tr th {\n",
       "        vertical-align: top;\n",
       "    }\n",
       "\n",
       "    .dataframe thead th {\n",
       "        text-align: right;\n",
       "    }\n",
       "</style>\n",
       "<table border=\"1\" class=\"dataframe\">\n",
       "  <thead>\n",
       "    <tr style=\"text-align: right;\">\n",
       "      <th></th>\n",
       "      <th>Pregnancies</th>\n",
       "      <th>Glucose</th>\n",
       "      <th>BloodPressure</th>\n",
       "      <th>SkinThickness</th>\n",
       "      <th>Insulin</th>\n",
       "      <th>BMI</th>\n",
       "      <th>DiabetesPedigreeFunction</th>\n",
       "      <th>Age</th>\n",
       "    </tr>\n",
       "  </thead>\n",
       "  <tbody>\n",
       "    <tr>\n",
       "      <th>0</th>\n",
       "      <td>0.639947</td>\n",
       "      <td>0.848324</td>\n",
       "      <td>0.149641</td>\n",
       "      <td>0.907270</td>\n",
       "      <td>-0.692891</td>\n",
       "      <td>0.204013</td>\n",
       "      <td>0.468492</td>\n",
       "      <td>1.425995</td>\n",
       "    </tr>\n",
       "    <tr>\n",
       "      <th>1</th>\n",
       "      <td>-0.844885</td>\n",
       "      <td>-1.123396</td>\n",
       "      <td>-0.160546</td>\n",
       "      <td>0.530902</td>\n",
       "      <td>-0.692891</td>\n",
       "      <td>-0.684422</td>\n",
       "      <td>-0.365061</td>\n",
       "      <td>-0.190672</td>\n",
       "    </tr>\n",
       "    <tr>\n",
       "      <th>2</th>\n",
       "      <td>1.233880</td>\n",
       "      <td>1.943724</td>\n",
       "      <td>-0.263941</td>\n",
       "      <td>-1.288212</td>\n",
       "      <td>-0.692891</td>\n",
       "      <td>-1.103255</td>\n",
       "      <td>0.604397</td>\n",
       "      <td>-0.105584</td>\n",
       "    </tr>\n",
       "    <tr>\n",
       "      <th>3</th>\n",
       "      <td>-0.844885</td>\n",
       "      <td>-0.998208</td>\n",
       "      <td>-0.160546</td>\n",
       "      <td>0.154533</td>\n",
       "      <td>0.123302</td>\n",
       "      <td>-0.494043</td>\n",
       "      <td>-0.920763</td>\n",
       "      <td>-1.041549</td>\n",
       "    </tr>\n",
       "    <tr>\n",
       "      <th>4</th>\n",
       "      <td>-1.141852</td>\n",
       "      <td>0.504055</td>\n",
       "      <td>-1.504687</td>\n",
       "      <td>0.907270</td>\n",
       "      <td>0.765836</td>\n",
       "      <td>1.409746</td>\n",
       "      <td>5.484909</td>\n",
       "      <td>-0.020496</td>\n",
       "    </tr>\n",
       "  </tbody>\n",
       "</table>\n",
       "</div>"
      ],
      "text/plain": [
       "   Pregnancies   Glucose  BloodPressure  SkinThickness   Insulin       BMI  \\\n",
       "0     0.639947  0.848324       0.149641       0.907270 -0.692891  0.204013   \n",
       "1    -0.844885 -1.123396      -0.160546       0.530902 -0.692891 -0.684422   \n",
       "2     1.233880  1.943724      -0.263941      -1.288212 -0.692891 -1.103255   \n",
       "3    -0.844885 -0.998208      -0.160546       0.154533  0.123302 -0.494043   \n",
       "4    -1.141852  0.504055      -1.504687       0.907270  0.765836  1.409746   \n",
       "\n",
       "   DiabetesPedigreeFunction       Age  \n",
       "0                  0.468492  1.425995  \n",
       "1                 -0.365061 -0.190672  \n",
       "2                  0.604397 -0.105584  \n",
       "3                 -0.920763 -1.041549  \n",
       "4                  5.484909 -0.020496  "
      ]
     },
     "execution_count": 64,
     "metadata": {},
     "output_type": "execute_result"
    }
   ],
   "source": [
    "std_scaler = StandardScaler()\n",
    "\n",
    "arr = std_scaler.fit_transform(x_df)\n",
    "\n",
    "x_std_df = pd.DataFrame(arr , columns=x_df.columns)\n",
    "\n",
    "x_std_df.head()"
   ]
  },
  {
   "cell_type": "markdown",
   "id": "28a9d499",
   "metadata": {},
   "source": [
    "# Train Test Split"
   ]
  },
  {
   "cell_type": "code",
   "execution_count": 65,
   "id": "02b8e1fe",
   "metadata": {},
   "outputs": [],
   "source": [
    "x =df.drop('Outcome' , axis=1)\n",
    "y = df['Outcome']"
   ]
  },
  {
   "cell_type": "code",
   "execution_count": 66,
   "id": "339a7dc2",
   "metadata": {},
   "outputs": [],
   "source": [
    "x_train , x_test , y_train , y_test = train_test_split(x,y,test_size=0.2,random_state=11,stratify=y)"
   ]
  },
  {
   "cell_type": "code",
   "execution_count": 67,
   "id": "54fefe45",
   "metadata": {},
   "outputs": [],
   "source": [
    "#normalization\n",
    "x = x_norm_df.copy()\n",
    "y = df['Outcome']\n",
    "\n",
    "x_train , x_test , y_train , y_test = train_test_split(x,y,test_size=0.2,random_state=11,stratify=y)"
   ]
  },
  {
   "cell_type": "code",
   "execution_count": 68,
   "id": "2c3ed01b",
   "metadata": {},
   "outputs": [],
   "source": [
    "#stadaedization\n",
    "\n",
    "x = x_std_df.copy()\n",
    "y = df['Outcome']\n",
    "\n",
    "x_train , x_test , y_train , y_test = train_test_split(x,y,test_size=0.2,random_state=11,stratify=y)"
   ]
  },
  {
   "cell_type": "markdown",
   "id": "65f39d59",
   "metadata": {},
   "source": [
    "# Model Training"
   ]
  },
  {
   "cell_type": "code",
   "execution_count": 69,
   "id": "d190a360",
   "metadata": {},
   "outputs": [
    {
     "data": {
      "text/plain": [
       "KNeighborsClassifier()"
      ]
     },
     "execution_count": 69,
     "metadata": {},
     "output_type": "execute_result"
    }
   ],
   "source": [
    "knn_clf = KNeighborsClassifier()\n",
    "\n",
    "knn_clf.fit(x_train, y_train)"
   ]
  },
  {
   "cell_type": "markdown",
   "id": "0405c053",
   "metadata": {},
   "source": [
    "# Evalution without scaling data"
   ]
  },
  {
   "cell_type": "code",
   "execution_count": 70,
   "id": "5aa8e1a0",
   "metadata": {},
   "outputs": [
    {
     "name": "stdout",
     "output_type": "stream",
     "text": [
      "\n",
      "Confusion mtx is :-   \n",
      " [[82 18]\n",
      " [23 31]]\n",
      "\n",
      "Acc is :-  0.7337662337662337\n",
      "clss report is :-                precision    recall  f1-score   support\n",
      "\n",
      "           0       0.78      0.82      0.80       100\n",
      "           1       0.63      0.57      0.60        54\n",
      "\n",
      "    accuracy                           0.73       154\n",
      "   macro avg       0.71      0.70      0.70       154\n",
      "weighted avg       0.73      0.73      0.73       154\n",
      "\n"
     ]
    }
   ],
   "source": [
    "#testing data evalution\n",
    "\n",
    "\n",
    "y_pred = knn_clf.predict(x_test)\n",
    "\n",
    "\n",
    "cnf_mtx = confusion_matrix(y_test, y_pred)\n",
    "print()\n",
    "print('Confusion mtx is :-   \\n', cnf_mtx)\n",
    "print()\n",
    "acc = accuracy_score(y_test, y_pred)\n",
    "print('Acc is :- ', acc)\n",
    "\n",
    "\n",
    "clf_report = classification_report(y_test, y_pred)\n",
    "\n",
    "print('clss report is :- ' , clf_report)\n",
    "\n",
    "\n"
   ]
  },
  {
   "cell_type": "code",
   "execution_count": 71,
   "id": "7401183a",
   "metadata": {},
   "outputs": [
    {
     "name": "stdout",
     "output_type": "stream",
     "text": [
      "\n",
      "Confusion mtx is :-   \n",
      " [[360  40]\n",
      " [ 75 139]]\n",
      "\n",
      "Acc is :-  0.8127035830618893\n",
      "clss report is :-                precision    recall  f1-score   support\n",
      "\n",
      "           0       0.83      0.90      0.86       400\n",
      "           1       0.78      0.65      0.71       214\n",
      "\n",
      "    accuracy                           0.81       614\n",
      "   macro avg       0.80      0.77      0.78       614\n",
      "weighted avg       0.81      0.81      0.81       614\n",
      "\n"
     ]
    }
   ],
   "source": [
    "#training data evalution\n",
    "\n",
    "\n",
    "y_pred_train = knn_clf.predict(x_train)\n",
    "\n",
    "\n",
    "cnf_mtx = confusion_matrix(y_train, y_pred_train)\n",
    "print()\n",
    "print('Confusion mtx is :-   \\n', cnf_mtx)\n",
    "print()\n",
    "acc = accuracy_score(y_train, y_pred_train)\n",
    "print('Acc is :- ', acc)\n",
    "\n",
    "\n",
    "clf_report = classification_report(y_train, y_pred_train)\n",
    "\n",
    "print('clss report is :- ' , clf_report)\n",
    "\n",
    "\n"
   ]
  },
  {
   "cell_type": "markdown",
   "id": "ce30522f",
   "metadata": {},
   "source": [
    "# Hyper parameter tuning"
   ]
  },
  {
   "cell_type": "code",
   "execution_count": 72,
   "id": "f76045cd",
   "metadata": {},
   "outputs": [
    {
     "data": {
      "text/plain": [
       "KNeighborsClassifier(n_neighbors=15)"
      ]
     },
     "execution_count": 72,
     "metadata": {},
     "output_type": "execute_result"
    }
   ],
   "source": [
    "knn_clf  = KNeighborsClassifier()\n",
    "\n",
    "hyp ={'n_neighbors':np.arange(4,35),\n",
    "     'p':[1,2]}\n",
    "\n",
    "gscv_knn =GridSearchCV(knn_clf,hyp, cv=5)\n",
    "\n",
    "gscv_knn.fit(x_train,y_train)\n",
    "gscv_knn.best_estimator_"
   ]
  },
  {
   "cell_type": "code",
   "execution_count": 73,
   "id": "85150822",
   "metadata": {},
   "outputs": [
    {
     "data": {
      "text/plain": [
       "KNeighborsClassifier(n_neighbors=15)"
      ]
     },
     "execution_count": 73,
     "metadata": {},
     "output_type": "execute_result"
    }
   ],
   "source": [
    "knn_clf = KNeighborsClassifier(n_neighbors=15)\n",
    "\n",
    "knn_clf.fit(x_train, y_train)"
   ]
  },
  {
   "cell_type": "code",
   "execution_count": 74,
   "id": "e6eccc36",
   "metadata": {},
   "outputs": [
    {
     "name": "stdout",
     "output_type": "stream",
     "text": [
      "\n",
      "Confusion mtx is :-   \n",
      " [[89 11]\n",
      " [26 28]]\n",
      "\n",
      "Acc is :-  0.7597402597402597\n",
      "clss report is :-                precision    recall  f1-score   support\n",
      "\n",
      "           0       0.77      0.89      0.83       100\n",
      "           1       0.72      0.52      0.60        54\n",
      "\n",
      "    accuracy                           0.76       154\n",
      "   macro avg       0.75      0.70      0.72       154\n",
      "weighted avg       0.75      0.76      0.75       154\n",
      "\n"
     ]
    }
   ],
   "source": [
    "#testing data evalution\n",
    "\n",
    "\n",
    "y_pred = knn_clf.predict(x_test)\n",
    "\n",
    "\n",
    "cnf_mtx = confusion_matrix(y_test, y_pred)\n",
    "print()\n",
    "print('Confusion mtx is :-   \\n', cnf_mtx)\n",
    "print()\n",
    "acc = accuracy_score(y_test, y_pred)\n",
    "print('Acc is :- ', acc)\n",
    "\n",
    "\n",
    "clf_report = classification_report(y_test, y_pred)\n",
    "\n",
    "print('clss report is :- ' , clf_report)\n",
    "\n",
    "\n"
   ]
  },
  {
   "cell_type": "code",
   "execution_count": 75,
   "id": "e5029c2f",
   "metadata": {},
   "outputs": [
    {
     "name": "stdout",
     "output_type": "stream",
     "text": [
      "\n",
      "Confusion mtx is :-   \n",
      " [[362  38]\n",
      " [ 97 117]]\n",
      "\n",
      "Acc is :-  0.7801302931596091\n",
      "clss report is :-                precision    recall  f1-score   support\n",
      "\n",
      "           0       0.79      0.91      0.84       400\n",
      "           1       0.75      0.55      0.63       214\n",
      "\n",
      "    accuracy                           0.78       614\n",
      "   macro avg       0.77      0.73      0.74       614\n",
      "weighted avg       0.78      0.78      0.77       614\n",
      "\n"
     ]
    }
   ],
   "source": [
    "#train data evalution\n",
    "\n",
    "\n",
    "y_pred_train = knn_clf.predict(x_train)\n",
    "\n",
    "\n",
    "cnf_mtx = confusion_matrix(y_train, y_pred_train)\n",
    "print()\n",
    "print('Confusion mtx is :-   \\n', cnf_mtx)\n",
    "print()\n",
    "acc = accuracy_score(y_train, y_pred_train)\n",
    "print('Acc is :- ', acc)\n",
    "\n",
    "\n",
    "clf_report = classification_report(y_train, y_pred_train)\n",
    "\n",
    "print('clss report is :- ' , clf_report)\n",
    "\n",
    "\n"
   ]
  },
  {
   "cell_type": "markdown",
   "id": "c99be679",
   "metadata": {},
   "source": [
    "# accuracy normalization data"
   ]
  },
  {
   "cell_type": "code",
   "execution_count": 76,
   "id": "09aa035f",
   "metadata": {},
   "outputs": [],
   "source": [
    "#normalization\n",
    "x = x_norm_df.copy()\n",
    "y = df['Outcome']\n",
    "\n",
    "x_train , x_test , y_train , y_test = train_test_split(x,y,test_size=0.2,random_state=11,stratify=y)"
   ]
  },
  {
   "cell_type": "code",
   "execution_count": 77,
   "id": "90e281bf",
   "metadata": {},
   "outputs": [
    {
     "data": {
      "text/plain": [
       "KNeighborsClassifier()"
      ]
     },
     "execution_count": 77,
     "metadata": {},
     "output_type": "execute_result"
    }
   ],
   "source": [
    "#model \n",
    "\n",
    "knn_clf_norm = KNeighborsClassifier()\n",
    "knn_clf_norm.fit(x_train,y_train)"
   ]
  },
  {
   "cell_type": "code",
   "execution_count": 78,
   "id": "2a9ac73e",
   "metadata": {},
   "outputs": [
    {
     "name": "stdout",
     "output_type": "stream",
     "text": [
      "\n",
      "Confusion mtx is :-   \n",
      " [[362  38]\n",
      " [ 97 117]]\n",
      "\n",
      "Acc is :-  0.7801302931596091\n",
      "clss report is :-                precision    recall  f1-score   support\n",
      "\n",
      "           0       0.79      0.91      0.84       400\n",
      "           1       0.75      0.55      0.63       214\n",
      "\n",
      "    accuracy                           0.78       614\n",
      "   macro avg       0.77      0.73      0.74       614\n",
      "weighted avg       0.78      0.78      0.77       614\n",
      "\n"
     ]
    }
   ],
   "source": [
    "#testing data evalution for normalize data\n",
    "\n",
    "\n",
    "y_pred = knn_clf_norm.predict(x_test)\n",
    "\n",
    "\n",
    "cnf_mtx_norm = confusion_matrix(y_test, y_pred)\n",
    "print()\n",
    "print('Confusion mtx is :-   \\n', cnf_mtx)\n",
    "print()\n",
    "acc_norm = accuracy_score(y_test, y_pred)\n",
    "print('Acc is :- ', acc)\n",
    "\n",
    "\n",
    "clf_report_norm = classification_report(y_test, y_pred)\n",
    "\n",
    "print('clss report is :- ' , clf_report)\n",
    "\n",
    "\n"
   ]
  },
  {
   "cell_type": "code",
   "execution_count": 79,
   "id": "8ec65a0b",
   "metadata": {},
   "outputs": [
    {
     "name": "stdout",
     "output_type": "stream",
     "text": [
      "\n",
      "Confusion mtx is :-   \n",
      " [[359  41]\n",
      " [ 76 138]]\n",
      "\n",
      "Acc is :-  0.8094462540716613\n",
      "clss report is :-                precision    recall  f1-score   support\n",
      "\n",
      "           0       0.83      0.90      0.86       400\n",
      "           1       0.77      0.64      0.70       214\n",
      "\n",
      "    accuracy                           0.81       614\n",
      "   macro avg       0.80      0.77      0.78       614\n",
      "weighted avg       0.81      0.81      0.80       614\n",
      "\n"
     ]
    }
   ],
   "source": [
    "#train data evalution for normalize data\n",
    "\n",
    "\n",
    "y_pred_train = knn_clf_norm.predict(x_train)\n",
    "\n",
    "\n",
    "cnf_mtx = confusion_matrix(y_train, y_pred_train)\n",
    "print()\n",
    "print('Confusion mtx is :-   \\n', cnf_mtx)\n",
    "print()\n",
    "acc = accuracy_score(y_train, y_pred_train)\n",
    "print('Acc is :- ', acc)\n",
    "\n",
    "\n",
    "clf_report = classification_report(y_train, y_pred_train)\n",
    "\n",
    "print('clss report is :- ' , clf_report)\n",
    "\n",
    "\n"
   ]
  },
  {
   "cell_type": "markdown",
   "id": "4d6865b4",
   "metadata": {},
   "source": [
    "# hyperprameter tuning for norm data"
   ]
  },
  {
   "cell_type": "code",
   "execution_count": 80,
   "id": "6a3c849b",
   "metadata": {},
   "outputs": [
    {
     "data": {
      "text/plain": [
       "KNeighborsClassifier(n_neighbors=33)"
      ]
     },
     "execution_count": 80,
     "metadata": {},
     "output_type": "execute_result"
    }
   ],
   "source": [
    "knn_clf_norm  = KNeighborsClassifier()\n",
    "\n",
    "hyp ={'n_neighbors':np.arange(4,40),\n",
    "     'p':[1,2]}\n",
    "\n",
    "gscv_knn_norm =GridSearchCV(knn_clf_norm,hyp, cv=5)\n",
    "\n",
    "gscv_knn_norm.fit(x_train,y_train)\n",
    "gscv_knn_norm.best_estimator_"
   ]
  },
  {
   "cell_type": "code",
   "execution_count": 81,
   "id": "7343a053",
   "metadata": {},
   "outputs": [
    {
     "data": {
      "text/plain": [
       "KNeighborsClassifier(n_neighbors=33)"
      ]
     },
     "execution_count": 81,
     "metadata": {},
     "output_type": "execute_result"
    }
   ],
   "source": [
    "#model \n",
    "\n",
    "knn_clf_norm = KNeighborsClassifier(n_neighbors=33)\n",
    "knn_clf_norm.fit(x_train,y_train)"
   ]
  },
  {
   "cell_type": "code",
   "execution_count": 82,
   "id": "7c89de85",
   "metadata": {},
   "outputs": [
    {
     "name": "stdout",
     "output_type": "stream",
     "text": [
      "\n",
      "Confusion mtx is :-   \n",
      " [[92  8]\n",
      " [29 25]]\n",
      "\n",
      "Acc is :-  0.7597402597402597\n",
      "clss report is :-                precision    recall  f1-score   support\n",
      "\n",
      "           0       0.76      0.92      0.83       100\n",
      "           1       0.76      0.46      0.57        54\n",
      "\n",
      "    accuracy                           0.76       154\n",
      "   macro avg       0.76      0.69      0.70       154\n",
      "weighted avg       0.76      0.76      0.74       154\n",
      "\n"
     ]
    }
   ],
   "source": [
    "#testing data evalution for normalize data hyp\n",
    "\n",
    "\n",
    "y_pred = knn_clf_norm.predict(x_test)\n",
    "\n",
    "\n",
    "cnf_mtx_norm = confusion_matrix(y_test, y_pred)\n",
    "print()\n",
    "print('Confusion mtx is :-   \\n', cnf_mtx_norm)\n",
    "print()\n",
    "acc_norm = accuracy_score(y_test, y_pred)\n",
    "print('Acc is :- ', acc_norm)\n",
    "\n",
    "\n",
    "clf_report_norm = classification_report(y_test, y_pred)\n",
    "\n",
    "print('clss report is :- ' , clf_report_norm)\n",
    "\n",
    "\n"
   ]
  },
  {
   "cell_type": "code",
   "execution_count": 83,
   "id": "e9b12002",
   "metadata": {},
   "outputs": [
    {
     "name": "stdout",
     "output_type": "stream",
     "text": [
      "\n",
      "Confusion mtx is :-   \n",
      " [[369  31]\n",
      " [117  97]]\n",
      "\n",
      "Acc is :-  0.758957654723127\n",
      "clss report is :-                precision    recall  f1-score   support\n",
      "\n",
      "           0       0.76      0.92      0.83       100\n",
      "           1       0.76      0.46      0.57        54\n",
      "\n",
      "    accuracy                           0.76       154\n",
      "   macro avg       0.76      0.69      0.70       154\n",
      "weighted avg       0.76      0.76      0.74       154\n",
      "\n"
     ]
    }
   ],
   "source": [
    "#train data evalution for normalize data hyp\n",
    "\n",
    "\n",
    "y_pred_train = knn_clf_norm.predict(x_train)\n",
    "\n",
    "\n",
    "cnf_mtx_norm = confusion_matrix(y_train, y_pred_train)\n",
    "print()\n",
    "print('Confusion mtx is :-   \\n', cnf_mtx_norm)\n",
    "print()\n",
    "acc_norm = accuracy_score(y_train, y_pred_train)\n",
    "print('Acc is :- ', acc_norm)\n",
    "\n",
    "\n",
    "clf_report = classification_report(y_train, y_pred_train)\n",
    "\n",
    "print('clss report is :- ' , clf_report_norm)\n",
    "\n",
    "\n"
   ]
  },
  {
   "cell_type": "code",
   "execution_count": null,
   "id": "d998d438",
   "metadata": {},
   "outputs": [],
   "source": []
  },
  {
   "cell_type": "code",
   "execution_count": null,
   "id": "b8441ece",
   "metadata": {},
   "outputs": [],
   "source": []
  },
  {
   "cell_type": "markdown",
   "id": "25600f96",
   "metadata": {},
   "source": [
    "# accuracy for standization"
   ]
  },
  {
   "cell_type": "code",
   "execution_count": 84,
   "id": "fba2c5ab",
   "metadata": {},
   "outputs": [],
   "source": [
    "#stadaedization\n",
    "\n",
    "x = x_std_df.copy()\n",
    "y = df['Outcome']\n",
    "\n",
    "x_train , x_test , y_train , y_test = train_test_split(x,y,test_size=0.2,random_state=11,stratify=y)"
   ]
  },
  {
   "cell_type": "code",
   "execution_count": 85,
   "id": "9fa37a85",
   "metadata": {},
   "outputs": [
    {
     "data": {
      "text/plain": [
       "KNeighborsClassifier()"
      ]
     },
     "execution_count": 85,
     "metadata": {},
     "output_type": "execute_result"
    }
   ],
   "source": [
    "#model \n",
    "\n",
    "knn_clf_std = KNeighborsClassifier()\n",
    "knn_clf_std.fit(x_train,y_train)"
   ]
  },
  {
   "cell_type": "code",
   "execution_count": 86,
   "id": "0e9dd44e",
   "metadata": {},
   "outputs": [
    {
     "name": "stdout",
     "output_type": "stream",
     "text": [
      "\n",
      "Confusion mtx is :-   \n",
      " [[82 18]\n",
      " [23 31]]\n",
      "\n",
      "Acc is :-  0.7337662337662337\n",
      "clss report is :-                precision    recall  f1-score   support\n",
      "\n",
      "           0       0.78      0.82      0.80       100\n",
      "           1       0.63      0.57      0.60        54\n",
      "\n",
      "    accuracy                           0.73       154\n",
      "   macro avg       0.71      0.70      0.70       154\n",
      "weighted avg       0.73      0.73      0.73       154\n",
      "\n"
     ]
    }
   ],
   "source": [
    "#testing data evalution for std data\n",
    "\n",
    "\n",
    "y_pred = knn_clf_std.predict(x_test)\n",
    "\n",
    "\n",
    "cnf_mtx_std = confusion_matrix(y_test, y_pred)\n",
    "print()\n",
    "print('Confusion mtx is :-   \\n', cnf_mtx_std)\n",
    "print()\n",
    "acc_std = accuracy_score(y_test, y_pred)\n",
    "print('Acc is :- ', acc_std)\n",
    "\n",
    "\n",
    "clf_report_std = classification_report(y_test, y_pred)\n",
    "\n",
    "print('clss report is :- ' , clf_report_std)\n",
    "\n",
    "\n"
   ]
  },
  {
   "cell_type": "code",
   "execution_count": 87,
   "id": "aeb2ca83",
   "metadata": {},
   "outputs": [
    {
     "name": "stdout",
     "output_type": "stream",
     "text": [
      "\n",
      "Confusion mtx is :-   \n",
      " [[360  40]\n",
      " [ 75 139]]\n",
      "\n",
      "Acc is :-  0.8127035830618893\n",
      "clss report is :-                precision    recall  f1-score   support\n",
      "\n",
      "           0       0.83      0.90      0.86       400\n",
      "           1       0.78      0.65      0.71       214\n",
      "\n",
      "    accuracy                           0.81       614\n",
      "   macro avg       0.80      0.77      0.78       614\n",
      "weighted avg       0.81      0.81      0.81       614\n",
      "\n"
     ]
    }
   ],
   "source": [
    "#train data evalution for std data\n",
    "\n",
    "\n",
    "y_pred_train = knn_clf_std.predict(x_train)\n",
    "\n",
    "\n",
    "cnf_mtx_std = confusion_matrix(y_train, y_pred_train)\n",
    "print()\n",
    "print('Confusion mtx is :-   \\n', cnf_mtx_std)\n",
    "print()\n",
    "acc_std = accuracy_score(y_train, y_pred_train)\n",
    "print('Acc is :- ', acc_std)\n",
    "\n",
    "\n",
    "clf_report_std = classification_report(y_train, y_pred_train)\n",
    "\n",
    "print('clss report is :- ' , clf_report_std)\n",
    "\n",
    "\n"
   ]
  },
  {
   "cell_type": "markdown",
   "id": "792b12b7",
   "metadata": {},
   "source": [
    "# Hyperparameter tuning for std data"
   ]
  },
  {
   "cell_type": "code",
   "execution_count": 88,
   "id": "619df0d5",
   "metadata": {},
   "outputs": [
    {
     "data": {
      "text/plain": [
       "KNeighborsClassifier(n_neighbors=15)"
      ]
     },
     "execution_count": 88,
     "metadata": {},
     "output_type": "execute_result"
    }
   ],
   "source": [
    "knn_clf_std  = KNeighborsClassifier()\n",
    "\n",
    "hyp ={'n_neighbors':np.arange(4,40),\n",
    "     'p':[1,2]}\n",
    "\n",
    "gscv_knn =GridSearchCV(knn_clf_std,hyp, cv=5)\n",
    "\n",
    "gscv_knn.fit(x_train,y_train)\n",
    "gscv_knn.best_estimator_"
   ]
  },
  {
   "cell_type": "code",
   "execution_count": 89,
   "id": "7401a5c0",
   "metadata": {},
   "outputs": [
    {
     "data": {
      "text/plain": [
       "KNeighborsClassifier(n_neighbors=15)"
      ]
     },
     "execution_count": 89,
     "metadata": {},
     "output_type": "execute_result"
    }
   ],
   "source": [
    "#model \n",
    "\n",
    "knn_clf_std = KNeighborsClassifier(n_neighbors=15)\n",
    "knn_clf_std.fit(x_train,y_train)"
   ]
  },
  {
   "cell_type": "code",
   "execution_count": 90,
   "id": "b6181242",
   "metadata": {},
   "outputs": [
    {
     "name": "stdout",
     "output_type": "stream",
     "text": [
      "\n",
      "Confusion mtx is :-   \n",
      " [[89 11]\n",
      " [26 28]]\n",
      "\n",
      "Acc is :-  0.7597402597402597\n",
      "clss report is :-                precision    recall  f1-score   support\n",
      "\n",
      "           0       0.77      0.89      0.83       100\n",
      "           1       0.72      0.52      0.60        54\n",
      "\n",
      "    accuracy                           0.76       154\n",
      "   macro avg       0.75      0.70      0.72       154\n",
      "weighted avg       0.75      0.76      0.75       154\n",
      "\n"
     ]
    }
   ],
   "source": [
    "#testing data evalution for std data\n",
    "\n",
    "\n",
    "y_pred = knn_clf_std.predict(x_test)\n",
    "\n",
    "\n",
    "cnf_mtx_std = confusion_matrix(y_test, y_pred)\n",
    "print()\n",
    "print('Confusion mtx is :-   \\n', cnf_mtx_std)\n",
    "print()\n",
    "acc_std = accuracy_score(y_test, y_pred)\n",
    "print('Acc is :- ', acc_std)\n",
    "\n",
    "\n",
    "clf_report_std = classification_report(y_test, y_pred)\n",
    "\n",
    "print('clss report is :- ' , clf_report_std)\n",
    "\n",
    "\n"
   ]
  },
  {
   "cell_type": "code",
   "execution_count": 91,
   "id": "7b7f8db0",
   "metadata": {},
   "outputs": [
    {
     "name": "stdout",
     "output_type": "stream",
     "text": [
      "\n",
      "Confusion mtx is :-   \n",
      " [[362  38]\n",
      " [ 97 117]]\n",
      "\n",
      "Acc is :-  0.7801302931596091\n",
      "clss report is :-                precision    recall  f1-score   support\n",
      "\n",
      "           0       0.79      0.91      0.84       400\n",
      "           1       0.75      0.55      0.63       214\n",
      "\n",
      "    accuracy                           0.78       614\n",
      "   macro avg       0.77      0.73      0.74       614\n",
      "weighted avg       0.78      0.78      0.77       614\n",
      "\n"
     ]
    }
   ],
   "source": [
    "#train data evalution for std data\n",
    "\n",
    "\n",
    "y_pred_train = knn_clf_std.predict(x_train)\n",
    "\n",
    "\n",
    "cnf_mtx_std = confusion_matrix(y_train, y_pred_train)\n",
    "print()\n",
    "print('Confusion mtx is :-   \\n', cnf_mtx_std)\n",
    "print()\n",
    "acc_std = accuracy_score(y_train, y_pred_train)\n",
    "print('Acc is :- ', acc_std)\n",
    "\n",
    "\n",
    "clf_report_std = classification_report(y_train, y_pred_train)\n",
    "\n",
    "print('clss report is :- ' , clf_report_std)\n",
    "\n",
    "\n"
   ]
  },
  {
   "cell_type": "code",
   "execution_count": null,
   "id": "25e31329",
   "metadata": {},
   "outputs": [],
   "source": []
  }
 ],
 "metadata": {
  "kernelspec": {
   "display_name": "Python 3 (ipykernel)",
   "language": "python",
   "name": "python3"
  },
  "language_info": {
   "codemirror_mode": {
    "name": "ipython",
    "version": 3
   },
   "file_extension": ".py",
   "mimetype": "text/x-python",
   "name": "python",
   "nbconvert_exporter": "python",
   "pygments_lexer": "ipython3",
   "version": "3.9.12"
  }
 },
 "nbformat": 4,
 "nbformat_minor": 5
}
