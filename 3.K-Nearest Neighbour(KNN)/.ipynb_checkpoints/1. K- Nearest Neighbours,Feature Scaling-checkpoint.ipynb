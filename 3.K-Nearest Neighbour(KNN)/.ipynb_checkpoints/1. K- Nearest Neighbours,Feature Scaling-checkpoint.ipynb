{
 "cells": [
  {
   "cell_type": "markdown",
   "metadata": {},
   "source": [
    "## K- nearest Neighbours"
   ]
  },
  {
   "cell_type": "code",
   "execution_count": null,
   "metadata": {},
   "outputs": [],
   "source": [
    "-It is Supervised Machine Learning algorithm.\n",
    "-It is a distance based algorithm.\n",
    "-Very simplest algorithm.\n",
    "-Used for both classification and regression problems.\n",
    "-It is also called as voting classifier just because of its way of working."
   ]
  },
  {
   "cell_type": "raw",
   "metadata": {},
   "source": [
    "KNN is also called as a lazy learner algorithm.\n",
    "reason>> it does not learn immediately from the training dataset, instead it stores all the data and while classification, it performs action on the dataset.\n",
    "KNN is Non parametric algorithm. beacuse it does not make any assumptions on underlying data. underlying means using data."
   ]
  },
  {
   "cell_type": "raw",
   "metadata": {},
   "source": [
    "Value of k should not be very low. >> bcz of low value it might not give good result. high value is good but not so that much high preffered value is moderate k=5"
   ]
  },
  {
   "cell_type": "markdown",
   "metadata": {},
   "source": [
    "# Steps fo classification KNN"
   ]
  },
  {
   "cell_type": "raw",
   "metadata": {},
   "source": [
    "1. We have a data\n",
    "2. Select number of K neighbours.\n",
    "3. Calculate distance between test data point from other data points. \n",
    "4. Take the K - nearest neighbours as per the calculated distance.\n",
    "5. From all the K-neighbours, count the no. of data points in each category.\n",
    "6. Assign the test data point to the category which have max no. near the test data point."
   ]
  },
  {
   "cell_type": "markdown",
   "metadata": {},
   "source": [
    "# distance metrics:"
   ]
  },
  {
   "cell_type": "code",
   "execution_count": null,
   "metadata": {},
   "outputs": [],
   "source": [
    "As KNN is a distance based algorithm\n",
    "There are some distance metrics:\n",
    "    Euclidean distance\n",
    "    Manhattan distance\n",
    "    Minkwoski distance\n",
    "    Cosine distance\n",
    "    Hamming distance\n",
    "    Jaccord distance"
   ]
  },
  {
   "cell_type": "markdown",
   "metadata": {},
   "source": [
    "## 1. Euclidean Distance"
   ]
  },
  {
   "cell_type": "code",
   "execution_count": null,
   "metadata": {},
   "outputs": [],
   "source": [
    "its a by default distance metric used by sklearn.\n",
    "It is a measure of strainght line distance between two points in euclidean space."
   ]
  },
  {
   "cell_type": "markdown",
   "metadata": {},
   "source": [
    "## 2. Manhattan Distance"
   ]
  },
  {
   "cell_type": "code",
   "execution_count": null,
   "metadata": {},
   "outputs": [],
   "source": [
    "Also called as taxicab or city block distance. bcz it measures that way.\n",
    "It is a distance between two points is nothing but the sum of absolute difference of their cartesian co-ordinates."
   ]
  },
  {
   "cell_type": "markdown",
   "metadata": {},
   "source": [
    "# Feature Scaling"
   ]
  },
  {
   "cell_type": "raw",
   "metadata": {},
   "source": [
    "It does convert all the variable values in one scale.\n",
    "There are different types of feature scaling:\n",
    "    1. Standardization\n",
    "    2. Normalization"
   ]
  },
  {
   "cell_type": "raw",
   "metadata": {},
   "source": [
    "fit >> train\n",
    "transform >> train n test\n",
    "fit_transform >> train n test"
   ]
  },
  {
   "cell_type": "markdown",
   "metadata": {},
   "source": [
    "# Standardization"
   ]
  },
  {
   "cell_type": "raw",
   "metadata": {},
   "source": [
    "It is a scaling technique where all the values are centered around the mean with a unit standard deviation.\n",
    " formula =\n",
    "    X' = (X - Xmean)/std.\n",
    "    "
   ]
  },
  {
   "cell_type": "markdown",
   "metadata": {},
   "source": [
    "# Normalization"
   ]
  },
  {
   "cell_type": "raw",
   "metadata": {},
   "source": [
    "It is a scaling technique in which values are shifted or scaled in a range of 0 & 1.\n",
    "It does also called as min max scaling.\n",
    "Formula:\n",
    "    X' = (X - Xmin)/(Xmax-Xmin)"
   ]
  },
  {
   "cell_type": "markdown",
   "metadata": {},
   "source": [
    "# Benifits of Scaling"
   ]
  },
  {
   "cell_type": "raw",
   "metadata": {},
   "source": [
    "1. It reduces the time complexity\n",
    "2. It also reduces the impact of outliers."
   ]
  },
  {
   "cell_type": "markdown",
   "metadata": {},
   "source": [
    "# KNN Regression"
   ]
  },
  {
   "cell_type": "raw",
   "metadata": {},
   "source": [
    "Age     Height    Weight\n",
    "28        6         80\n",
    "25        5         70\n",
    "26        5.5        "
   ]
  },
  {
   "cell_type": "raw",
   "metadata": {},
   "source": [
    "   Our test data point = avg. of three nearest ponits to out data ponits."
   ]
  },
  {
   "cell_type": "raw",
   "metadata": {},
   "source": [
    "Distance Based algorithm:\n",
    "    1. KNN\n",
    "    2. K mean clustering\n"
   ]
  },
  {
   "cell_type": "markdown",
   "metadata": {},
   "source": [
    "# Advantages"
   ]
  },
  {
   "cell_type": "raw",
   "metadata": {},
   "source": [
    "1.simple and easy to implement.\n",
    "2.less number of statistical terms.\n",
    "3.it can be used for classification and regression problems.\n",
    "4.it does not have any assumptions for underline data.\n",
    "5.efficient method for small dataset.bcz of small datasets calculations of distance measure is less"
   ]
  },
  {
   "cell_type": "markdown",
   "metadata": {},
   "source": [
    "# Disadvantages"
   ]
  },
  {
   "cell_type": "raw",
   "metadata": {},
   "source": [
    "1.it is lazy learner algorithm.\n",
    "2.it required high memory for stoaring the data.\n",
    "3.feature scaling is needed.\n",
    "4.it will not work good on large datasets as compare to small datasets\n",
    "5.KNN is sensitive to outliers bcz it is distance based algorithm so datapoints will be far away from each other \n",
    "6.time complexity bcz of distance calculaion from each datapoints "
   ]
  },
  {
   "cell_type": "code",
   "execution_count": null,
   "metadata": {},
   "outputs": [],
   "source": []
  }
 ],
 "metadata": {
  "kernelspec": {
   "display_name": "Python 3 (ipykernel)",
   "language": "python",
   "name": "python3"
  },
  "language_info": {
   "codemirror_mode": {
    "name": "ipython",
    "version": 3
   },
   "file_extension": ".py",
   "mimetype": "text/x-python",
   "name": "python",
   "nbconvert_exporter": "python",
   "pygments_lexer": "ipython3",
   "version": "3.9.12"
  }
 },
 "nbformat": 4,
 "nbformat_minor": 4
}
