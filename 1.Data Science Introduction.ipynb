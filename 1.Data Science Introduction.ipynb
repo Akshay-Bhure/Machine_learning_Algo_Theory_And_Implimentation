{
 "cells": [
  {
   "cell_type": "markdown",
   "id": "e29ac45f",
   "metadata": {},
   "source": [
    "# Data Science"
   ]
  },
  {
   "cell_type": "raw",
   "id": "d0ab7ba5",
   "metadata": {},
   "source": [
    "1.the very first thing about the data science is that it is all about the data only.\n",
    "\n",
    "2.Data Science is the domain of study that deals with data or vast volumes of data using modern tools and techniques to find the pattern,insights,derived meaningfull information and make buisness decisions.\n",
    "\n",
    "3.Data Science uses complex machine learning algorithms to build the predictive model.\n",
    "\n",
    "for example.\n",
    "\n",
    "colour    shape          taste     fruit\n",
    "red       bit circuler   sweet     apple\n",
    "orange    circuler       sweet     orange\n",
    "green     circular       sweet     watermelon\n",
    "green     oval           sweet     watermelon\n",
    "\n",
    "4.Data Science is process of extracting knowledge and insights from the data by using scientific methods"
   ]
  },
  {
   "cell_type": "raw",
   "id": "111770b2",
   "metadata": {},
   "source": [
    "Scientific Methods:\n",
    "    1.Machine Learning:\n",
    "        Machine Learning is the branch of artificial intelligence(AI) and computer science which focuses on the use the data and algorithms to imitate the way human learn,gradually improves its accuracy.\n",
    "        it is a study of computer algorithms that improves automatically through experience and by use of data.\n",
    "        it is used for small datasets.\n",
    "        \n",
    "    2.Deep Learning:\n",
    "         Deep learning is a subset of machine learning,which is essentially a nueral network with 3 or more layers.these networks attempt to simulate the behaviour of human brain from matching its abbility allowing it to learn from the large ammount of data.\n",
    "         it uses for large datasets\n",
    "         Applications:\n",
    "         Self Driving Car\n",
    "         Digital assistant\n",
    "         face recognation\n",
    "         \n",
    "     3.Natural Language Processing:\n",
    "          Natural Language Processing(NLP) refers to a branch of computer science or we can say branch of (AI). which is concerned with giving computers to understand text and spoken words in such the same way human beings can.\n",
    "           applications:\n",
    "           chatbot\n",
    "           alexa\n",
    "           google assistance\n",
    "          \n",
    "     4.Statistics:\n",
    "          statistics is a branch of applied mathematics,that involves the collection,description,analysis and inference of conclusions from the quantitative data.\n",
    "         \n",
    "          \n",
    "     5. Data Visualization:\n",
    "          Data visualization is a graphical representation of information and data, by using visual elements like charts, graphs, maps, plots, data visualization tools provide accessible way to see and understand trends, outliers and patterns in data.\n",
    "outliers means exception values     "
   ]
  },
  {
   "cell_type": "raw",
   "id": "4129dc35",
   "metadata": {},
   "source": [
    "Types of Data:\n",
    "    1.Structured data >> Csv,Excel,\n",
    "    2.Semi-Structured data >> json,html\n",
    "    3.Unstructured data >> text,images,videos,audios."
   ]
  },
  {
   "cell_type": "code",
   "execution_count": null,
   "id": "b526823e",
   "metadata": {},
   "outputs": [],
   "source": []
  }
 ],
 "metadata": {
  "kernelspec": {
   "display_name": "Python 3 (ipykernel)",
   "language": "python",
   "name": "python3"
  },
  "language_info": {
   "codemirror_mode": {
    "name": "ipython",
    "version": 3
   },
   "file_extension": ".py",
   "mimetype": "text/x-python",
   "name": "python",
   "nbconvert_exporter": "python",
   "pygments_lexer": "ipython3",
   "version": "3.9.12"
  }
 },
 "nbformat": 4,
 "nbformat_minor": 5
}
