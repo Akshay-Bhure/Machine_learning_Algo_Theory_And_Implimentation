{
 "cells": [
  {
   "cell_type": "raw",
   "id": "347fa548",
   "metadata": {},
   "source": [
    "## Confusion matrix >>\n",
    "                   Actual values\n",
    "                  \n",
    "                   P(1)      N(0)\n",
    "\n",
    "            p(1)   TP        FP \n",
    "predicted\n",
    " values\n",
    "            N(0)   FN        TN"
   ]
  },
  {
   "cell_type": "raw",
   "id": "6fc26618",
   "metadata": {},
   "source": [
    "## Confusion matrix  in skikit learn >>\n",
    "                  predicted values\n",
    "                  \n",
    "                    N(1)       P(0)\n",
    "\n",
    "  Actual      N(1)   TN        FP \n",
    "  values\n",
    "              P(0)   FN        TP"
   ]
  },
  {
   "cell_type": "markdown",
   "id": "7274c080",
   "metadata": {},
   "source": [
    "# Logistic Regression"
   ]
  },
  {
   "cell_type": "code",
   "execution_count": 3,
   "id": "f3650bea",
   "metadata": {},
   "outputs": [],
   "source": [
    "import numpy as np\n",
    "import pandas as pd\n",
    "import matplotlib.pyplot as plt\n",
    "import seaborn as sns\n",
    "\n",
    "from sklearn.linear_model import LogisticRegression,LinearRegression,Ridge,Lasso\n",
    "from sklearn.model_selection import train_test_split ,GridSearchCV,RandomizedSearchCV\n",
    "\n",
    "\n",
    "from sklearn.metrics import mean_absolute_error,mean_squared_error,r2_score\n",
    "from statsmodels.stats.outliers_influence import variance_inflation_factor\n",
    "\n",
    "from scipy.stats import zscore\n",
    "from scipy.stats import boxcox\n",
    "\n",
    "from sklearn.metrics import accuracy_score,precision_score,recall_score,f1_score,confusion_matrix,classification_report\n",
    "from sklearn.metrics import plot_confusion_matrix,roc_curve,multilabel_confusion_matrix\n",
    "from sklearn.datasets import load_boston,load_iris\n",
    "\n",
    "import warnings\n",
    "warnings.filterwarnings('ignore')"
   ]
  },
  {
   "cell_type": "code",
   "execution_count": 4,
   "id": "23e66f38",
   "metadata": {},
   "outputs": [
    {
     "data": {
      "text/html": [
       "<div>\n",
       "<style scoped>\n",
       "    .dataframe tbody tr th:only-of-type {\n",
       "        vertical-align: middle;\n",
       "    }\n",
       "\n",
       "    .dataframe tbody tr th {\n",
       "        vertical-align: top;\n",
       "    }\n",
       "\n",
       "    .dataframe thead th {\n",
       "        text-align: right;\n",
       "    }\n",
       "</style>\n",
       "<table border=\"1\" class=\"dataframe\">\n",
       "  <thead>\n",
       "    <tr style=\"text-align: right;\">\n",
       "      <th></th>\n",
       "      <th>Glucose</th>\n",
       "      <th>BloodPressure</th>\n",
       "      <th>SkinThickness</th>\n",
       "      <th>Insulin</th>\n",
       "      <th>BMI</th>\n",
       "      <th>DiabetesPedigreeFunction</th>\n",
       "      <th>Age</th>\n",
       "      <th>Outcome</th>\n",
       "    </tr>\n",
       "  </thead>\n",
       "  <tbody>\n",
       "    <tr>\n",
       "      <th>0</th>\n",
       "      <td>148</td>\n",
       "      <td>50</td>\n",
       "      <td>35</td>\n",
       "      <td>0</td>\n",
       "      <td>33.6</td>\n",
       "      <td>0.627</td>\n",
       "      <td>50</td>\n",
       "      <td>1</td>\n",
       "    </tr>\n",
       "    <tr>\n",
       "      <th>1</th>\n",
       "      <td>85</td>\n",
       "      <td>66</td>\n",
       "      <td>29</td>\n",
       "      <td>0</td>\n",
       "      <td>26.6</td>\n",
       "      <td>0.351</td>\n",
       "      <td>31</td>\n",
       "      <td>0</td>\n",
       "    </tr>\n",
       "    <tr>\n",
       "      <th>2</th>\n",
       "      <td>183</td>\n",
       "      <td>64</td>\n",
       "      <td>0</td>\n",
       "      <td>0</td>\n",
       "      <td>23.3</td>\n",
       "      <td>0.672</td>\n",
       "      <td>52</td>\n",
       "      <td>1</td>\n",
       "    </tr>\n",
       "    <tr>\n",
       "      <th>3</th>\n",
       "      <td>150</td>\n",
       "      <td>66</td>\n",
       "      <td>23</td>\n",
       "      <td>94</td>\n",
       "      <td>28.1</td>\n",
       "      <td>0.167</td>\n",
       "      <td>21</td>\n",
       "      <td>0</td>\n",
       "    </tr>\n",
       "    <tr>\n",
       "      <th>4</th>\n",
       "      <td>150</td>\n",
       "      <td>40</td>\n",
       "      <td>35</td>\n",
       "      <td>168</td>\n",
       "      <td>43.1</td>\n",
       "      <td>2.288</td>\n",
       "      <td>33</td>\n",
       "      <td>1</td>\n",
       "    </tr>\n",
       "    <tr>\n",
       "      <th>...</th>\n",
       "      <td>...</td>\n",
       "      <td>...</td>\n",
       "      <td>...</td>\n",
       "      <td>...</td>\n",
       "      <td>...</td>\n",
       "      <td>...</td>\n",
       "      <td>...</td>\n",
       "      <td>...</td>\n",
       "    </tr>\n",
       "    <tr>\n",
       "      <th>763</th>\n",
       "      <td>101</td>\n",
       "      <td>76</td>\n",
       "      <td>48</td>\n",
       "      <td>180</td>\n",
       "      <td>32.9</td>\n",
       "      <td>0.171</td>\n",
       "      <td>63</td>\n",
       "      <td>0</td>\n",
       "    </tr>\n",
       "    <tr>\n",
       "      <th>764</th>\n",
       "      <td>122</td>\n",
       "      <td>70</td>\n",
       "      <td>27</td>\n",
       "      <td>0</td>\n",
       "      <td>36.8</td>\n",
       "      <td>0.340</td>\n",
       "      <td>27</td>\n",
       "      <td>0</td>\n",
       "    </tr>\n",
       "    <tr>\n",
       "      <th>765</th>\n",
       "      <td>121</td>\n",
       "      <td>72</td>\n",
       "      <td>23</td>\n",
       "      <td>112</td>\n",
       "      <td>26.2</td>\n",
       "      <td>0.245</td>\n",
       "      <td>30</td>\n",
       "      <td>0</td>\n",
       "    </tr>\n",
       "    <tr>\n",
       "      <th>766</th>\n",
       "      <td>126</td>\n",
       "      <td>60</td>\n",
       "      <td>0</td>\n",
       "      <td>0</td>\n",
       "      <td>30.1</td>\n",
       "      <td>0.349</td>\n",
       "      <td>47</td>\n",
       "      <td>1</td>\n",
       "    </tr>\n",
       "    <tr>\n",
       "      <th>767</th>\n",
       "      <td>93</td>\n",
       "      <td>70</td>\n",
       "      <td>31</td>\n",
       "      <td>0</td>\n",
       "      <td>30.4</td>\n",
       "      <td>0.315</td>\n",
       "      <td>23</td>\n",
       "      <td>0</td>\n",
       "    </tr>\n",
       "  </tbody>\n",
       "</table>\n",
       "<p>768 rows × 8 columns</p>\n",
       "</div>"
      ],
      "text/plain": [
       "     Glucose  BloodPressure  SkinThickness  Insulin   BMI  \\\n",
       "0        148             50             35        0  33.6   \n",
       "1         85             66             29        0  26.6   \n",
       "2        183             64              0        0  23.3   \n",
       "3        150             66             23       94  28.1   \n",
       "4        150             40             35      168  43.1   \n",
       "..       ...            ...            ...      ...   ...   \n",
       "763      101             76             48      180  32.9   \n",
       "764      122             70             27        0  36.8   \n",
       "765      121             72             23      112  26.2   \n",
       "766      126             60              0        0  30.1   \n",
       "767       93             70             31        0  30.4   \n",
       "\n",
       "     DiabetesPedigreeFunction  Age  Outcome  \n",
       "0                       0.627   50        1  \n",
       "1                       0.351   31        0  \n",
       "2                       0.672   52        1  \n",
       "3                       0.167   21        0  \n",
       "4                       2.288   33        1  \n",
       "..                        ...  ...      ...  \n",
       "763                     0.171   63        0  \n",
       "764                     0.340   27        0  \n",
       "765                     0.245   30        0  \n",
       "766                     0.349   47        1  \n",
       "767                     0.315   23        0  \n",
       "\n",
       "[768 rows x 8 columns]"
      ]
     },
     "execution_count": 4,
     "metadata": {},
     "output_type": "execute_result"
    }
   ],
   "source": [
    "df=pd.read_csv('diabetes.csv')\n",
    "df"
   ]
  },
  {
   "cell_type": "code",
   "execution_count": 5,
   "id": "ae693b7c",
   "metadata": {},
   "outputs": [
    {
     "name": "stdout",
     "output_type": "stream",
     "text": [
      "<class 'pandas.core.frame.DataFrame'>\n",
      "RangeIndex: 768 entries, 0 to 767\n",
      "Data columns (total 8 columns):\n",
      " #   Column                    Non-Null Count  Dtype  \n",
      "---  ------                    --------------  -----  \n",
      " 0   Glucose                   768 non-null    int64  \n",
      " 1   BloodPressure             768 non-null    int64  \n",
      " 2   SkinThickness             768 non-null    int64  \n",
      " 3   Insulin                   768 non-null    int64  \n",
      " 4   BMI                       768 non-null    float64\n",
      " 5   DiabetesPedigreeFunction  768 non-null    float64\n",
      " 6   Age                       768 non-null    int64  \n",
      " 7   Outcome                   768 non-null    int64  \n",
      "dtypes: float64(2), int64(6)\n",
      "memory usage: 48.1 KB\n"
     ]
    }
   ],
   "source": [
    "df.info()"
   ]
  },
  {
   "cell_type": "code",
   "execution_count": 6,
   "id": "c988972f",
   "metadata": {},
   "outputs": [
    {
     "data": {
      "text/plain": [
       "0    500\n",
       "1    268\n",
       "Name: Outcome, dtype: int64"
      ]
     },
     "execution_count": 6,
     "metadata": {},
     "output_type": "execute_result"
    }
   ],
   "source": [
    "df['Outcome'].value_counts()"
   ]
  },
  {
   "cell_type": "code",
   "execution_count": 7,
   "id": "fa11112c",
   "metadata": {},
   "outputs": [
    {
     "data": {
      "text/plain": [
       "0.6510416666666666"
      ]
     },
     "execution_count": 7,
     "metadata": {},
     "output_type": "execute_result"
    }
   ],
   "source": [
    "500/(268+500) # >> 0.65 >> if ratio is above 0.75 then it is inbalnced but its fine but data is above 0.8 ratio\n",
    "                        # then it is highly inbalance so that time we have to handle that.\n",
    "# 1-0.65=0.35\n",
    "# 0.65 >> it is ratio of class-0\n",
    "# 0.35 >> it is ratio of class-1\n",
    "# that is why we didnt balanced data here."
   ]
  },
  {
   "cell_type": "code",
   "execution_count": 8,
   "id": "823a350e",
   "metadata": {},
   "outputs": [
    {
     "data": {
      "text/plain": [
       "<AxesSubplot:xlabel='Outcome', ylabel='count'>"
      ]
     },
     "execution_count": 8,
     "metadata": {},
     "output_type": "execute_result"
    },
    {
     "data": {
      "image/png": "[encoded data removed]",
      "text/plain": [
       "<Figure size 432x288 with 1 Axes>"
      ]
     },
     "metadata": {
      "needs_background": "light"
     },
     "output_type": "display_data"
    }
   ],
   "source": [
    "sns.countplot(x=df['Outcome'])  # countplot for categorical & pairplot for numerical as well scatterplot for numerical"
   ]
  },
  {
   "cell_type": "code",
   "execution_count": 9,
   "id": "d4222b1a",
   "metadata": {},
   "outputs": [
    {
     "data": {
      "text/html": [
       "<div>\n",
       "<style scoped>\n",
       "    .dataframe tbody tr th:only-of-type {\n",
       "        vertical-align: middle;\n",
       "    }\n",
       "\n",
       "    .dataframe tbody tr th {\n",
       "        vertical-align: top;\n",
       "    }\n",
       "\n",
       "    .dataframe thead th {\n",
       "        text-align: right;\n",
       "    }\n",
       "</style>\n",
       "<table border=\"1\" class=\"dataframe\">\n",
       "  <thead>\n",
       "    <tr style=\"text-align: right;\">\n",
       "      <th></th>\n",
       "      <th>Glucose</th>\n",
       "      <th>BloodPressure</th>\n",
       "      <th>SkinThickness</th>\n",
       "      <th>Insulin</th>\n",
       "      <th>BMI</th>\n",
       "      <th>DiabetesPedigreeFunction</th>\n",
       "      <th>Age</th>\n",
       "      <th>Outcome</th>\n",
       "    </tr>\n",
       "  </thead>\n",
       "  <tbody>\n",
       "    <tr>\n",
       "      <th>0</th>\n",
       "      <td>148</td>\n",
       "      <td>50</td>\n",
       "      <td>35</td>\n",
       "      <td>0</td>\n",
       "      <td>33.6</td>\n",
       "      <td>0.627</td>\n",
       "      <td>50</td>\n",
       "      <td>1</td>\n",
       "    </tr>\n",
       "    <tr>\n",
       "      <th>1</th>\n",
       "      <td>85</td>\n",
       "      <td>66</td>\n",
       "      <td>29</td>\n",
       "      <td>0</td>\n",
       "      <td>26.6</td>\n",
       "      <td>0.351</td>\n",
       "      <td>31</td>\n",
       "      <td>0</td>\n",
       "    </tr>\n",
       "    <tr>\n",
       "      <th>2</th>\n",
       "      <td>183</td>\n",
       "      <td>64</td>\n",
       "      <td>0</td>\n",
       "      <td>0</td>\n",
       "      <td>23.3</td>\n",
       "      <td>0.672</td>\n",
       "      <td>52</td>\n",
       "      <td>1</td>\n",
       "    </tr>\n",
       "    <tr>\n",
       "      <th>3</th>\n",
       "      <td>150</td>\n",
       "      <td>66</td>\n",
       "      <td>23</td>\n",
       "      <td>94</td>\n",
       "      <td>28.1</td>\n",
       "      <td>0.167</td>\n",
       "      <td>21</td>\n",
       "      <td>0</td>\n",
       "    </tr>\n",
       "    <tr>\n",
       "      <th>4</th>\n",
       "      <td>150</td>\n",
       "      <td>40</td>\n",
       "      <td>35</td>\n",
       "      <td>168</td>\n",
       "      <td>43.1</td>\n",
       "      <td>2.288</td>\n",
       "      <td>33</td>\n",
       "      <td>1</td>\n",
       "    </tr>\n",
       "  </tbody>\n",
       "</table>\n",
       "</div>"
      ],
      "text/plain": [
       "   Glucose  BloodPressure  SkinThickness  Insulin   BMI  \\\n",
       "0      148             50             35        0  33.6   \n",
       "1       85             66             29        0  26.6   \n",
       "2      183             64              0        0  23.3   \n",
       "3      150             66             23       94  28.1   \n",
       "4      150             40             35      168  43.1   \n",
       "\n",
       "   DiabetesPedigreeFunction  Age  Outcome  \n",
       "0                     0.627   50        1  \n",
       "1                     0.351   31        0  \n",
       "2                     0.672   52        1  \n",
       "3                     0.167   21        0  \n",
       "4                     2.288   33        1  "
      ]
     },
     "execution_count": 9,
     "metadata": {},
     "output_type": "execute_result"
    }
   ],
   "source": [
    "df.head()"
   ]
  },
  {
   "cell_type": "markdown",
   "id": "508c70d2",
   "metadata": {},
   "source": [
    "# Train Test Split"
   ]
  },
  {
   "cell_type": "code",
   "execution_count": 10,
   "id": "e74d26d9",
   "metadata": {},
   "outputs": [],
   "source": [
    "x=df.drop('Outcome',axis=1)\n",
    "y=df['Outcome']"
   ]
  },
  {
   "cell_type": "code",
   "execution_count": 11,
   "id": "29aa4b66",
   "metadata": {},
   "outputs": [],
   "source": [
    "x_train,x_test,y_train,y_test=train_test_split(x,y,test_size=0.2,random_state=1) # always use this it is preferred than stratify"
   ]
  },
  {
   "cell_type": "code",
   "execution_count": 12,
   "id": "dd7a5afd",
   "metadata": {
    "scrolled": true
   },
   "outputs": [
    {
     "data": {
      "text/plain": [
       "0    401\n",
       "1    213\n",
       "Name: Outcome, dtype: int64"
      ]
     },
     "execution_count": 12,
     "metadata": {},
     "output_type": "execute_result"
    }
   ],
   "source": [
    "y_train.value_counts() # 401/(401+213) >> 0.6530"
   ]
  },
  {
   "cell_type": "code",
   "execution_count": 13,
   "id": "21c7d004",
   "metadata": {},
   "outputs": [
    {
     "data": {
      "text/plain": [
       "0    99\n",
       "1    55\n",
       "Name: Outcome, dtype: int64"
      ]
     },
     "execution_count": 13,
     "metadata": {},
     "output_type": "execute_result"
    }
   ],
   "source": [
    "y_test.value_counts() # 99/(99+55) >> 0.6428"
   ]
  },
  {
   "cell_type": "markdown",
   "id": "4b9d43c2",
   "metadata": {},
   "source": [
    "## with stratify function"
   ]
  },
  {
   "cell_type": "raw",
   "id": "a45a3877",
   "metadata": {},
   "source": [
    "when we use stratify function then the ratio between two categories in traning and testing will be same"
   ]
  },
  {
   "cell_type": "code",
   "execution_count": 41,
   "id": "9effeaf9",
   "metadata": {},
   "outputs": [],
   "source": [
    "x_train,x_test,y_train,y_test=train_test_split(x,y,test_size=0.2,random_state=1,stratify=y)"
   ]
  },
  {
   "cell_type": "code",
   "execution_count": 42,
   "id": "54777d98",
   "metadata": {},
   "outputs": [
    {
     "data": {
      "text/plain": [
       "0    400\n",
       "1    214\n",
       "Name: Outcome, dtype: int64"
      ]
     },
     "execution_count": 42,
     "metadata": {},
     "output_type": "execute_result"
    }
   ],
   "source": [
    "y_train.value_counts() # 400/(400+214) >> 0.6514"
   ]
  },
  {
   "cell_type": "code",
   "execution_count": 43,
   "id": "c0b0ce5b",
   "metadata": {},
   "outputs": [
    {
     "data": {
      "text/plain": [
       "0    100\n",
       "1     54\n",
       "Name: Outcome, dtype: int64"
      ]
     },
     "execution_count": 43,
     "metadata": {},
     "output_type": "execute_result"
    }
   ],
   "source": [
    "y_test.value_counts() # 100/(100+54) >> 0.6493"
   ]
  },
  {
   "cell_type": "markdown",
   "id": "277cc123",
   "metadata": {},
   "source": [
    "# model training"
   ]
  },
  {
   "cell_type": "code",
   "execution_count": 14,
   "id": "748857fa",
   "metadata": {},
   "outputs": [
    {
     "data": {
      "text/html": [
       "<style>#sk-container-id-1 {color: black;background-color: white;}#sk-container-id-1 pre{padding: 0;}#sk-container-id-1 div.sk-toggleable {background-color: white;}#sk-container-id-1 label.sk-toggleable__label {cursor: pointer;display: block;width: 100%;margin-bottom: 0;padding: 0.3em;box-sizing: border-box;text-align: center;}#sk-container-id-1 label.sk-toggleable__label-arrow:before {content: \"▸\";float: left;margin-right: 0.25em;color: #696969;}#sk-container-id-1 label.sk-toggleable__label-arrow:hover:before {color: black;}#sk-container-id-1 div.sk-estimator:hover label.sk-toggleable__label-arrow:before {color: black;}#sk-container-id-1 div.sk-toggleable__content {max-height: 0;max-width: 0;overflow: hidden;text-align: left;background-color: #f0f8ff;}#sk-container-id-1 div.sk-toggleable__content pre {margin: 0.2em;color: black;border-radius: 0.25em;background-color: #f0f8ff;}#sk-container-id-1 input.sk-toggleable__control:checked~div.sk-toggleable__content {max-height: 200px;max-width: 100%;overflow: auto;}#sk-container-id-1 input.sk-toggleable__control:checked~label.sk-toggleable__label-arrow:before {content: \"▾\";}#sk-container-id-1 div.sk-estimator input.sk-toggleable__control:checked~label.sk-toggleable__label {background-color: #d4ebff;}#sk-container-id-1 div.sk-label input.sk-toggleable__control:checked~label.sk-toggleable__label {background-color: #d4ebff;}#sk-container-id-1 input.sk-hidden--visually {border: 0;clip: rect(1px 1px 1px 1px);clip: rect(1px, 1px, 1px, 1px);height: 1px;margin: -1px;overflow: hidden;padding: 0;position: absolute;width: 1px;}#sk-container-id-1 div.sk-estimator {font-family: monospace;background-color: #f0f8ff;border: 1px dotted black;border-radius: 0.25em;box-sizing: border-box;margin-bottom: 0.5em;}#sk-container-id-1 div.sk-estimator:hover {background-color: #d4ebff;}#sk-container-id-1 div.sk-parallel-item::after {content: \"\";width: 100%;border-bottom: 1px solid gray;flex-grow: 1;}#sk-container-id-1 div.sk-label:hover label.sk-toggleable__label {background-color: #d4ebff;}#sk-container-id-1 div.sk-serial::before {content: \"\";position: absolute;border-left: 1px solid gray;box-sizing: border-box;top: 0;bottom: 0;left: 50%;z-index: 0;}#sk-container-id-1 div.sk-serial {display: flex;flex-direction: column;align-items: center;background-color: white;padding-right: 0.2em;padding-left: 0.2em;position: relative;}#sk-container-id-1 div.sk-item {position: relative;z-index: 1;}#sk-container-id-1 div.sk-parallel {display: flex;align-items: stretch;justify-content: center;background-color: white;position: relative;}#sk-container-id-1 div.sk-item::before, #sk-container-id-1 div.sk-parallel-item::before {content: \"\";position: absolute;border-left: 1px solid gray;box-sizing: border-box;top: 0;bottom: 0;left: 50%;z-index: -1;}#sk-container-id-1 div.sk-parallel-item {display: flex;flex-direction: column;z-index: 1;position: relative;background-color: white;}#sk-container-id-1 div.sk-parallel-item:first-child::after {align-self: flex-end;width: 50%;}#sk-container-id-1 div.sk-parallel-item:last-child::after {align-self: flex-start;width: 50%;}#sk-container-id-1 div.sk-parallel-item:only-child::after {width: 0;}#sk-container-id-1 div.sk-dashed-wrapped {border: 1px dashed gray;margin: 0 0.4em 0.5em 0.4em;box-sizing: border-box;padding-bottom: 0.4em;background-color: white;}#sk-container-id-1 div.sk-label label {font-family: monospace;font-weight: bold;display: inline-block;line-height: 1.2em;}#sk-container-id-1 div.sk-label-container {text-align: center;}#sk-container-id-1 div.sk-container {/* jupyter's `normalize.less` sets `[hidden] { display: none; }` but bootstrap.min.css set `[hidden] { display: none !important; }` so we also need the `!important` here to be able to override the default hidden behavior on the sphinx rendered scikit-learn.org. See: https://github.com/scikit-learn/scikit-learn/issues/21755 */display: inline-block !important;position: relative;}#sk-container-id-1 div.sk-text-repr-fallback {display: none;}</style><div id=\"sk-container-id-1\" class=\"sk-top-container\"><div class=\"sk-text-repr-fallback\"><pre>LogisticRegression()</pre><b>In a Jupyter environment, please rerun this cell to show the HTML representation or trust the notebook. <br />On GitHub, the HTML representation is unable to render, please try loading this page with nbviewer.org.</b></div><div class=\"sk-container\" hidden><div class=\"sk-item\"><div class=\"sk-estimator sk-toggleable\"><input class=\"sk-toggleable__control sk-hidden--visually\" id=\"sk-estimator-id-1\" type=\"checkbox\" checked><label for=\"sk-estimator-id-1\" class=\"sk-toggleable__label sk-toggleable__label-arrow\">LogisticRegression</label><div class=\"sk-toggleable__content\"><pre>LogisticRegression()</pre></div></div></div></div></div>"
      ],
      "text/plain": [
       "LogisticRegression()"
      ]
     },
     "execution_count": 14,
     "metadata": {},
     "output_type": "execute_result"
    }
   ],
   "source": [
    "lg_model=LogisticRegression()\n",
    "lg_model.fit(x_train,y_train)"
   ]
  },
  {
   "cell_type": "markdown",
   "id": "fb1179d3",
   "metadata": {},
   "source": [
    "# Evaluation for Testing"
   ]
  },
  {
   "cell_type": "code",
   "execution_count": 15,
   "id": "e5605553",
   "metadata": {},
   "outputs": [
    {
     "name": "stdout",
     "output_type": "stream",
     "text": [
      "confusion matrix is :\n",
      " [[89 10]\n",
      " [25 30]]\n",
      "****************************************************************************************************\n",
      "accuracy is : 0.7727272727272727\n",
      "****************************************************************************************************\n",
      "classification report is :\n",
      "               precision    recall  f1-score   support\n",
      "\n",
      "           0       0.78      0.90      0.84        99\n",
      "           1       0.75      0.55      0.63        55\n",
      "\n",
      "    accuracy                           0.77       154\n",
      "   macro avg       0.77      0.72      0.73       154\n",
      "weighted avg       0.77      0.77      0.76       154\n",
      "\n"
     ]
    }
   ],
   "source": [
    "y_pred=lg_model.predict(x_test)\n",
    "\n",
    "cnf_matrix=confusion_matrix(y_test,y_pred)\n",
    "print('confusion matrix is :\\n',cnf_matrix)\n",
    "\n",
    "print('*'*100)\n",
    "acc=accuracy_score(y_test,y_pred)\n",
    "print('accuracy is :',acc)\n",
    "print(\"*\"*100)\n",
    "\n",
    "clf_report=classification_report(y_test,y_pred)\n",
    "print('classification report is :\\n',clf_report)\n"
   ]
  },
  {
   "cell_type": "code",
   "execution_count": 16,
   "id": "489bba88",
   "metadata": {},
   "outputs": [
    {
     "data": {
      "text/plain": [
       "<sklearn.metrics._plot.confusion_matrix.ConfusionMatrixDisplay at 0x22f9c0f1b80>"
      ]
     },
     "execution_count": 16,
     "metadata": {},
     "output_type": "execute_result"
    },
    {
     "data": {
      "image/png": "[encoded data removed]",
      "text/plain": [
       "<Figure size 432x288 with 2 Axes>"
      ]
     },
     "metadata": {
      "needs_background": "light"
     },
     "output_type": "display_data"
    }
   ],
   "source": [
    "plot_confusion_matrix(lg_model,x_test,y_test)"
   ]
  },
  {
   "cell_type": "raw",
   "id": "dd3b9666",
   "metadata": {},
   "source": [
    "TN=89\n",
    "Tp=30\n",
    "FP=10\n",
    "FN=25\n",
    "Accuracy=TP+TN/TP+TN+FP+FN"
   ]
  },
  {
   "cell_type": "code",
   "execution_count": 17,
   "id": "1edd2bbb",
   "metadata": {
    "scrolled": true
   },
   "outputs": [
    {
     "data": {
      "text/plain": [
       "154"
      ]
     },
     "execution_count": 17,
     "metadata": {},
     "output_type": "execute_result"
    }
   ],
   "source": [
    "89+30+10+25 # Total Number of Datapoints"
   ]
  },
  {
   "cell_type": "raw",
   "id": "98dc82cb",
   "metadata": {},
   "source": [
    "Support >> How many data points we have considered with class 0 = 100 and class 1 = 54"
   ]
  },
  {
   "cell_type": "code",
   "execution_count": 18,
   "id": "b4e45c02",
   "metadata": {},
   "outputs": [
    {
     "data": {
      "text/plain": [
       "0.7727272727272727"
      ]
     },
     "execution_count": 18,
     "metadata": {},
     "output_type": "execute_result"
    }
   ],
   "source": [
    "Accuracy=(89+30)/(89+30+10+25)\n",
    "Accuracy"
   ]
  },
  {
   "cell_type": "code",
   "execution_count": 19,
   "id": "6b7fcb16",
   "metadata": {},
   "outputs": [
    {
     "data": {
      "text/plain": [
       "0.75"
      ]
     },
     "execution_count": 19,
     "metadata": {},
     "output_type": "execute_result"
    }
   ],
   "source": [
    "# class1_precision=TP/TP+FP (we consider only for class-1)\n",
    "30/(30+10)"
   ]
  },
  {
   "cell_type": "code",
   "execution_count": 20,
   "id": "7a90edf0",
   "metadata": {},
   "outputs": [
    {
     "data": {
      "text/plain": [
       "0.7807017543859649"
      ]
     },
     "execution_count": 20,
     "metadata": {},
     "output_type": "execute_result"
    }
   ],
   "source": [
    "# class0_precision=TN/TN+FN\n",
    "89/(89+25)"
   ]
  },
  {
   "cell_type": "code",
   "execution_count": 21,
   "id": "0e0b68a9",
   "metadata": {},
   "outputs": [
    {
     "data": {
      "text/plain": [
       "0.5454545454545454"
      ]
     },
     "execution_count": 21,
     "metadata": {},
     "output_type": "execute_result"
    }
   ],
   "source": [
    "# class1_recall=TP/TP+FN\n",
    "30/(30+25)"
   ]
  },
  {
   "cell_type": "code",
   "execution_count": 22,
   "id": "8c5b9095",
   "metadata": {},
   "outputs": [
    {
     "data": {
      "text/plain": [
       "0.898989898989899"
      ]
     },
     "execution_count": 22,
     "metadata": {},
     "output_type": "execute_result"
    }
   ],
   "source": [
    "# class0_recall=TN/TN+FP\n",
    "89/(89+10)"
   ]
  },
  {
   "cell_type": "code",
   "execution_count": 23,
   "id": "e2cb3a7b",
   "metadata": {},
   "outputs": [
    {
     "data": {
      "text/plain": [
       "0.8357142857142857"
      ]
     },
     "execution_count": 23,
     "metadata": {},
     "output_type": "execute_result"
    }
   ],
   "source": [
    "# class1_f1_score=2PR/P+R\n",
    "2*0.78*0.90/(0.78+0.90)"
   ]
  },
  {
   "cell_type": "code",
   "execution_count": 24,
   "id": "89e2339c",
   "metadata": {},
   "outputs": [
    {
     "data": {
      "text/plain": [
       "0.6346153846153847"
      ]
     },
     "execution_count": 24,
     "metadata": {},
     "output_type": "execute_result"
    }
   ],
   "source": [
    "# class0_f1_score=2PR/P+R\n",
    "2*0.75*0.55/(0.75+0.55)"
   ]
  },
  {
   "cell_type": "code",
   "execution_count": 25,
   "id": "1ae0d8b8",
   "metadata": {},
   "outputs": [
    {
     "data": {
      "text/plain": [
       "array([0, 0, 0, 0, 0, 0, 0, 0, 0, 0, 0, 0, 1, 1, 0, 1, 0, 0, 0, 0, 0, 0,\n",
       "       1, 0, 0, 0, 0, 1, 0, 0, 0, 0, 0, 1, 0, 1, 0, 0, 0, 0, 0, 0, 0, 0,\n",
       "       0, 0, 0, 1, 0, 0, 0, 0, 1, 0, 1, 0, 1, 0, 1, 0, 1, 0, 1, 0, 0, 0,\n",
       "       0, 1, 1, 1, 1, 1, 1, 0, 1, 0, 1, 0, 0, 1, 1, 0, 0, 0, 0, 1, 1, 0,\n",
       "       0, 0, 0, 0, 0, 0, 1, 0, 0, 0, 1, 0, 0, 0, 1, 0, 0, 0, 0, 1, 0, 0,\n",
       "       0, 0, 1, 0, 0, 0, 0, 1, 0, 0, 0, 1, 0, 0, 0, 0, 0, 0, 1, 0, 1, 0,\n",
       "       0, 0, 0, 0, 0, 1, 0, 0, 1, 0, 0, 1, 1, 0, 0, 0, 0, 0, 0, 1, 0, 0],\n",
       "      dtype=int64)"
      ]
     },
     "execution_count": 25,
     "metadata": {},
     "output_type": "execute_result"
    }
   ],
   "source": [
    "y_pred # it gives the prediction of class"
   ]
  },
  {
   "cell_type": "code",
   "execution_count": 26,
   "id": "7ee9eea9",
   "metadata": {},
   "outputs": [],
   "source": [
    "y_pred_prob=lg_model.predict_proba(x_test) #it gives the probability values for class 0 and class 1\n",
    "# check values of y_pred and y_pred_prob values of prediction and class values are same."
   ]
  },
  {
   "cell_type": "code",
   "execution_count": 27,
   "id": "ab0a4f15",
   "metadata": {},
   "outputs": [
    {
     "data": {
      "text/plain": [
       "array([[0.57575116, 0.42424884],\n",
       "       [0.64919057, 0.35080943],\n",
       "       [0.88857617, 0.11142383],\n",
       "       [0.93490024, 0.06509976],\n",
       "       [0.75902176, 0.24097824],\n",
       "       [0.68287223, 0.31712777],\n",
       "       [0.65777888, 0.34222112],\n",
       "       [0.87759428, 0.12240572],\n",
       "       [0.81143648, 0.18856352],\n",
       "       [0.76609784, 0.23390216],\n",
       "       [0.60774388, 0.39225612],\n",
       "       [0.89633567, 0.10366433],\n",
       "       [0.013846  , 0.986154  ],\n",
       "       [0.3727009 , 0.6272991 ],\n",
       "       [0.96184454, 0.03815546],\n",
       "       [0.313868  , 0.686132  ],\n",
       "       [0.7136684 , 0.2863316 ],\n",
       "       [0.68961473, 0.31038527],\n",
       "       [0.88193711, 0.11806289],\n",
       "       [0.88331158, 0.11668842],\n",
       "       [0.56475718, 0.43524282],\n",
       "       [0.88032801, 0.11967199],\n",
       "       [0.13173214, 0.86826786],\n",
       "       [0.82695226, 0.17304774],\n",
       "       [0.92065726, 0.07934274],\n",
       "       [0.57139402, 0.42860598],\n",
       "       [0.7808154 , 0.2191846 ],\n",
       "       [0.35830931, 0.64169069],\n",
       "       [0.88686723, 0.11313277],\n",
       "       [0.56118265, 0.43881735],\n",
       "       [0.58810351, 0.41189649],\n",
       "       [0.76385338, 0.23614662],\n",
       "       [0.93920069, 0.06079931],\n",
       "       [0.2255793 , 0.7744207 ],\n",
       "       [0.81840296, 0.18159704],\n",
       "       [0.24148574, 0.75851426],\n",
       "       [0.91167354, 0.08832646],\n",
       "       [0.80168346, 0.19831654],\n",
       "       [0.93565022, 0.06434978],\n",
       "       [0.55665736, 0.44334264],\n",
       "       [0.75798148, 0.24201852],\n",
       "       [0.89242825, 0.10757175],\n",
       "       [0.96171965, 0.03828035],\n",
       "       [0.62858417, 0.37141583],\n",
       "       [0.91357079, 0.08642921],\n",
       "       [0.97414899, 0.02585101],\n",
       "       [0.61909033, 0.38090967],\n",
       "       [0.17616901, 0.82383099],\n",
       "       [0.91973117, 0.08026883],\n",
       "       [0.86818636, 0.13181364],\n",
       "       [0.99174831, 0.00825169],\n",
       "       [0.8198574 , 0.1801426 ],\n",
       "       [0.20541495, 0.79458505],\n",
       "       [0.94300902, 0.05699098],\n",
       "       [0.3847294 , 0.6152706 ],\n",
       "       [0.89524279, 0.10475721],\n",
       "       [0.45802859, 0.54197141],\n",
       "       [0.70090516, 0.29909484],\n",
       "       [0.38563181, 0.61436819],\n",
       "       [0.84540312, 0.15459688],\n",
       "       [0.39111372, 0.60888628],\n",
       "       [0.98719787, 0.01280213],\n",
       "       [0.32511882, 0.67488118],\n",
       "       [0.77751616, 0.22248384],\n",
       "       [0.54847459, 0.45152541],\n",
       "       [0.87698334, 0.12301666],\n",
       "       [0.98862416, 0.01137584],\n",
       "       [0.48332345, 0.51667655],\n",
       "       [0.45624691, 0.54375309],\n",
       "       [0.42794105, 0.57205895],\n",
       "       [0.13365657, 0.86634343],\n",
       "       [0.19658134, 0.80341866],\n",
       "       [0.45289039, 0.54710961],\n",
       "       [0.98329737, 0.01670263],\n",
       "       [0.35728611, 0.64271389],\n",
       "       [0.82754214, 0.17245786],\n",
       "       [0.3498123 , 0.6501877 ],\n",
       "       [0.69966694, 0.30033306],\n",
       "       [0.86626095, 0.13373905],\n",
       "       [0.3651533 , 0.6348467 ],\n",
       "       [0.34092746, 0.65907254],\n",
       "       [0.78892471, 0.21107529],\n",
       "       [0.53611117, 0.46388883],\n",
       "       [0.70275254, 0.29724746],\n",
       "       [0.69880454, 0.30119546],\n",
       "       [0.2732298 , 0.7267702 ],\n",
       "       [0.45981629, 0.54018371],\n",
       "       [0.80991932, 0.19008068],\n",
       "       [0.6021069 , 0.3978931 ],\n",
       "       [0.72529273, 0.27470727],\n",
       "       [0.85712106, 0.14287894],\n",
       "       [0.95365481, 0.04634519],\n",
       "       [0.69029875, 0.30970125],\n",
       "       [0.87246276, 0.12753724],\n",
       "       [0.21475989, 0.78524011],\n",
       "       [0.57329593, 0.42670407],\n",
       "       [0.69043216, 0.30956784],\n",
       "       [0.79584152, 0.20415848],\n",
       "       [0.10963214, 0.89036786],\n",
       "       [0.87321696, 0.12678304],\n",
       "       [0.87707842, 0.12292158],\n",
       "       [0.70242413, 0.29757587],\n",
       "       [0.2532138 , 0.7467862 ],\n",
       "       [0.73761553, 0.26238447],\n",
       "       [0.89102701, 0.10897299],\n",
       "       [0.92421139, 0.07578861],\n",
       "       [0.56431463, 0.43568537],\n",
       "       [0.2697525 , 0.7302475 ],\n",
       "       [0.77994802, 0.22005198],\n",
       "       [0.84261129, 0.15738871],\n",
       "       [0.52274868, 0.47725132],\n",
       "       [0.67046712, 0.32953288],\n",
       "       [0.4921369 , 0.5078631 ],\n",
       "       [0.79136232, 0.20863768],\n",
       "       [0.98436458, 0.01563542],\n",
       "       [0.91819804, 0.08180196],\n",
       "       [0.89322545, 0.10677455],\n",
       "       [0.48716923, 0.51283077],\n",
       "       [0.66405429, 0.33594571],\n",
       "       [0.52135127, 0.47864873],\n",
       "       [0.78179409, 0.21820591],\n",
       "       [0.13468207, 0.86531793],\n",
       "       [0.6549981 , 0.3450019 ],\n",
       "       [0.6216731 , 0.3783269 ],\n",
       "       [0.8183335 , 0.1816665 ],\n",
       "       [0.89339291, 0.10660709],\n",
       "       [0.7418989 , 0.2581011 ],\n",
       "       [0.70986571, 0.29013429],\n",
       "       [0.35338552, 0.64661448],\n",
       "       [0.76702296, 0.23297704],\n",
       "       [0.03960045, 0.96039955],\n",
       "       [0.95685119, 0.04314881],\n",
       "       [0.59128947, 0.40871053],\n",
       "       [0.67589683, 0.32410317],\n",
       "       [0.86689318, 0.13310682],\n",
       "       [0.75325418, 0.24674582],\n",
       "       [0.92233833, 0.07766167],\n",
       "       [0.40347282, 0.59652718],\n",
       "       [0.83480278, 0.16519722],\n",
       "       [0.67839754, 0.32160246],\n",
       "       [0.05106729, 0.94893271],\n",
       "       [0.89968309, 0.10031691],\n",
       "       [0.84024663, 0.15975337],\n",
       "       [0.17217316, 0.82782684],\n",
       "       [0.24999944, 0.75000056],\n",
       "       [0.74420264, 0.25579736],\n",
       "       [0.94219655, 0.05780345],\n",
       "       [0.93011399, 0.06988601],\n",
       "       [0.74821507, 0.25178493],\n",
       "       [0.87674245, 0.12325755],\n",
       "       [0.72457247, 0.27542753],\n",
       "       [0.0517995 , 0.9482005 ],\n",
       "       [0.86898848, 0.13101152],\n",
       "       [0.78493213, 0.21506787]])"
      ]
     },
     "execution_count": 27,
     "metadata": {},
     "output_type": "execute_result"
    }
   ],
   "source": [
    "y_pred_prob # first value is for class-1,and second value is for class-0."
   ]
  },
  {
   "cell_type": "raw",
   "id": "1f67e5fa",
   "metadata": {},
   "source": [
    "       [0.88331146, 0.11668854], >> 0\n",
    "       [0.56476371, 0.43523629], >> 0\n",
    "       [0.88033225, 0.11966775], >> 0\n",
    "       [0.13173316, 0.86826684], >> 1\n",
    "       [0.82695107, 0.17304893], >> 0"
   ]
  },
  {
   "cell_type": "code",
   "execution_count": 28,
   "id": "caadbfe3",
   "metadata": {},
   "outputs": [
    {
     "data": {
      "text/plain": [
       "154"
      ]
     },
     "execution_count": 28,
     "metadata": {},
     "output_type": "execute_result"
    }
   ],
   "source": [
    "89+30+10+25"
   ]
  },
  {
   "cell_type": "code",
   "execution_count": 29,
   "id": "fbebc4cd",
   "metadata": {},
   "outputs": [
    {
     "data": {
      "text/plain": [
       "0.7727272727272727"
      ]
     },
     "execution_count": 29,
     "metadata": {},
     "output_type": "execute_result"
    }
   ],
   "source": [
    "(89+30)/(89+30+10+25)"
   ]
  },
  {
   "cell_type": "markdown",
   "id": "2df3298a",
   "metadata": {},
   "source": [
    "# Evaluation for Training"
   ]
  },
  {
   "cell_type": "code",
   "execution_count": 30,
   "id": "c035250b",
   "metadata": {},
   "outputs": [
    {
     "name": "stdout",
     "output_type": "stream",
     "text": [
      "Confusion Matrix is:\n",
      " [[352  49]\n",
      " [ 91 122]]\n",
      "******************************************************************************************\n",
      "Accuracy Score is:  0.7719869706840391\n",
      "******************************************************************************************\n",
      "\n",
      "Classification Report is :\n",
      "               precision    recall  f1-score   support\n",
      "\n",
      "           0       0.79      0.88      0.83       401\n",
      "           1       0.71      0.57      0.64       213\n",
      "\n",
      "    accuracy                           0.77       614\n",
      "   macro avg       0.75      0.73      0.73       614\n",
      "weighted avg       0.77      0.77      0.77       614\n",
      "\n"
     ]
    }
   ],
   "source": [
    "y_pred_train=lg_model.predict(x_train)\n",
    "cnf_matrix=confusion_matrix(y_train,y_pred_train)\n",
    "print('Confusion Matrix is:\\n',cnf_matrix)\n",
    "\n",
    "print('*'*90)\n",
    "acc = accuracy_score(y_train,y_pred_train)\n",
    "print('Accuracy Score is: ', acc)\n",
    "print('*'*90)\n",
    "\n",
    "clf_report = classification_report(y_train,y_pred_train)\n",
    "print('\\nClassification Report is :\\n', clf_report)"
   ]
  },
  {
   "cell_type": "code",
   "execution_count": 31,
   "id": "5f4c8b06",
   "metadata": {},
   "outputs": [
    {
     "data": {
      "text/plain": [
       "<sklearn.metrics._plot.confusion_matrix.ConfusionMatrixDisplay at 0x22f9becdf10>"
      ]
     },
     "execution_count": 31,
     "metadata": {},
     "output_type": "execute_result"
    },
    {
     "data": {
      "image/png": "[encoded data removed]",
      "text/plain": [
       "<Figure size 432x288 with 2 Axes>"
      ]
     },
     "metadata": {
      "needs_background": "light"
     },
     "output_type": "display_data"
    }
   ],
   "source": [
    "plot_confusion_matrix(lg_model,x_train,y_train)"
   ]
  },
  {
   "cell_type": "markdown",
   "id": "21e7d89c",
   "metadata": {},
   "source": [
    "## weighted avg"
   ]
  },
  {
   "cell_type": "code",
   "execution_count": null,
   "id": "ba8fb5b5",
   "metadata": {},
   "outputs": [],
   "source": []
  },
  {
   "cell_type": "markdown",
   "id": "143c76cd",
   "metadata": {},
   "source": [
    "## macro Average"
   ]
  },
  {
   "cell_type": "code",
   "execution_count": 32,
   "id": "0a1cfbd2",
   "metadata": {},
   "outputs": [
    {
     "data": {
      "text/plain": [
       "0.7549000000000001"
      ]
     },
     "execution_count": 32,
     "metadata": {},
     "output_type": "execute_result"
    }
   ],
   "source": [
    "# 401/(401+213) >> 0.65 >> Support values of class-0 >> class-0/(class-0 + class-1)\n",
    "# 213/(401+213)   >> 0.34 >> Support values of class-1 >> class-1/(class-1 + class-0)\n",
    "0.79*0.65 + 0.71*0.34 # >> precision class-0*support value class-0 + precision class-1*support value class-1\n",
    "\n",
    "# Same procedure for recall and f-1 score only while calculation consider values those"
   ]
  },
  {
   "cell_type": "code",
   "execution_count": 33,
   "id": "fd18f8f6",
   "metadata": {},
   "outputs": [],
   "source": [
    "y_pred_train_prob=lg_model.predict_proba(x_train)"
   ]
  },
  {
   "cell_type": "code",
   "execution_count": 34,
   "id": "a52eedeb",
   "metadata": {},
   "outputs": [
    {
     "data": {
      "text/plain": [
       "array([[0.3660761 , 0.6339239 ],\n",
       "       [0.39554483, 0.60445517],\n",
       "       [0.73640941, 0.26359059],\n",
       "       ...,\n",
       "       [0.39647639, 0.60352361],\n",
       "       [0.15379882, 0.84620118],\n",
       "       [0.73659926, 0.26340074]])"
      ]
     },
     "execution_count": 34,
     "metadata": {},
     "output_type": "execute_result"
    }
   ],
   "source": [
    "y_pred_train_prob"
   ]
  },
  {
   "cell_type": "code",
   "execution_count": 35,
   "id": "af8f6952",
   "metadata": {
    "scrolled": true
   },
   "outputs": [
    {
     "data": {
      "text/plain": [
       "array([0.6339239 , 0.60445517, 0.26359059, 0.35357298, 0.33430397,\n",
       "       0.01989233, 0.58264966, 0.62359398, 0.24327872, 0.04378316,\n",
       "       0.20757245, 0.26021731, 0.2877748 , 0.6758647 , 0.7925677 ,\n",
       "       0.55720486, 0.92344067, 0.74321531, 0.19517765, 0.09269685,\n",
       "       0.69678331, 0.3631836 , 0.87469975, 0.19515233, 0.13446869,\n",
       "       0.15973911, 0.31518422, 0.75010476, 0.08783956, 0.87819345,\n",
       "       0.04378208, 0.06086447, 0.04194025, 0.79138519, 0.30631886,\n",
       "       0.16804001, 0.10741868, 0.05184615, 0.09656949, 0.10571771,\n",
       "       0.77871874, 0.09258564, 0.28857477, 0.14020401, 0.23316582,\n",
       "       0.78840905, 0.89021487, 0.43031376, 0.12234219, 0.10687853,\n",
       "       0.53731944, 0.77744545, 0.0486217 , 0.09106649, 0.18199742,\n",
       "       0.69388652, 0.07899824, 0.45591665, 0.14977472, 0.49513176,\n",
       "       0.18857018, 0.40367521, 0.21917153, 0.04137003, 0.23662362,\n",
       "       0.42635355, 0.14331193, 0.1518646 , 0.05551697, 0.93737088,\n",
       "       0.29537137, 0.30304624, 0.0958706 , 0.12753665, 0.05796581,\n",
       "       0.67905314, 0.21332921, 0.53450117, 0.1861598 , 0.1249615 ,\n",
       "       0.28131342, 0.25822716, 0.60728058, 0.30373274, 0.53273366,\n",
       "       0.24047955, 0.26056934, 0.07780371, 0.09620063, 0.1408379 ,\n",
       "       0.26847142, 0.18402151, 0.32405552, 0.20241228, 0.09889069,\n",
       "       0.12425977, 0.029027  , 0.55794003, 0.14335285, 0.11014535,\n",
       "       0.20442372, 0.33445085, 0.33919761, 0.28647409, 0.36090879,\n",
       "       0.59209293, 0.50628864, 0.42128441, 0.23112308, 0.13396197,\n",
       "       0.16410058, 0.03518856, 0.02109061, 0.12749555, 0.18184662,\n",
       "       0.95649475, 0.76973315, 0.36860167, 0.13070075, 0.20343135,\n",
       "       0.27402249, 0.64878129, 0.40051736, 0.74904418, 0.0401259 ,\n",
       "       0.25144037, 0.03587995, 0.05627538, 0.18494537, 0.20249855,\n",
       "       0.10812722, 0.57715642, 0.79597807, 0.09218438, 0.03916533,\n",
       "       0.41704252, 0.8743841 , 0.59266048, 0.06939722, 0.40502342,\n",
       "       0.5082386 , 0.47957287, 0.35095667, 0.10036936, 0.34263264,\n",
       "       0.73649608, 0.15689922, 0.6552733 , 0.16902107, 0.48266159,\n",
       "       0.09451831, 0.16828781, 0.11711547, 0.49100754, 0.34617944,\n",
       "       0.31369914, 0.56520942, 0.18652917, 0.56855822, 0.92084115,\n",
       "       0.03090042, 0.10039944, 0.58534203, 0.1552364 , 0.51463227,\n",
       "       0.73349354, 0.16577711, 0.87201744, 0.29234969, 0.11736672,\n",
       "       0.38946167, 0.59000703, 0.82745828, 0.6689247 , 0.51523809,\n",
       "       0.84539779, 0.05764676, 0.04126277, 0.32686417, 0.80520189,\n",
       "       0.83283015, 0.11693873, 0.57533613, 0.16068483, 0.30857951,\n",
       "       0.1893984 , 0.82631549, 0.74448413, 0.39946222, 0.05269853,\n",
       "       0.06452515, 0.10834965, 0.18027378, 0.81185878, 0.92763115,\n",
       "       0.12240186, 0.2816302 , 0.09493377, 0.46211936, 0.2628637 ,\n",
       "       0.62337062, 0.75691943, 0.25582214, 0.09247447, 0.18994977,\n",
       "       0.15311157, 0.54605573, 0.13773731, 0.08359825, 0.17743922,\n",
       "       0.17036038, 0.06710695, 0.57595291, 0.30818319, 0.09235349,\n",
       "       0.05864106, 0.08907251, 0.20617582, 0.11546034, 0.02262444,\n",
       "       0.11195267, 0.28187297, 0.80494302, 0.22203701, 0.61131943,\n",
       "       0.32555044, 0.27737939, 0.34757506, 0.40964708, 0.29906099,\n",
       "       0.18067396, 0.18138845, 0.34829441, 0.48238693, 0.55337587,\n",
       "       0.19256711, 0.85473575, 0.18459633, 0.09875149, 0.85433269,\n",
       "       0.03516062, 0.74801745, 0.13111091, 0.05043249, 0.08591066,\n",
       "       0.20650951, 0.04558604, 0.81001712, 0.10917302, 0.80364605,\n",
       "       0.2739316 , 0.78113251, 0.50217333, 0.07634723, 0.0742969 ,\n",
       "       0.43236775, 0.22012303, 0.93991298, 0.61883943, 0.1329485 ,\n",
       "       0.31337309, 0.74568514, 0.1169497 , 0.94637274, 0.22881461,\n",
       "       0.62780488, 0.2089679 , 0.49027852, 0.32390822, 0.06878931,\n",
       "       0.41730502, 0.59504348, 0.73907251, 0.29087727, 0.78417257,\n",
       "       0.27124377, 0.18562357, 0.02918447, 0.6543593 , 0.0559597 ,\n",
       "       0.05642318, 0.01062558, 0.46449721, 0.25941055, 0.35571395,\n",
       "       0.37486108, 0.47002302, 0.35773159, 0.52898574, 0.80780261,\n",
       "       0.33552586, 0.19980325, 0.35659222, 0.07761816, 0.10943023,\n",
       "       0.32724741, 0.0894139 , 0.33083856, 0.11290294, 0.15614046,\n",
       "       0.1485231 , 0.27882323, 0.15745016, 0.35930273, 0.51094983,\n",
       "       0.66267053, 0.94181105, 0.1906808 , 0.06103193, 0.06944764,\n",
       "       0.07020655, 0.62113227, 0.27604268, 0.19314761, 0.13323862,\n",
       "       0.882707  , 0.09240893, 0.13289194, 0.70309934, 0.88377548,\n",
       "       0.46869974, 0.19364134, 0.08080958, 0.24997855, 0.22978414,\n",
       "       0.27269071, 0.0652592 , 0.82899416, 0.05810063, 0.09742221,\n",
       "       0.37644175, 0.24237556, 0.60452589, 0.3939057 , 0.06885683,\n",
       "       0.43326773, 0.62545976, 0.16095898, 0.59099823, 0.34779352,\n",
       "       0.06642867, 0.27042212, 0.70840301, 0.85318359, 0.20697343,\n",
       "       0.84145791, 0.53274018, 0.18601791, 0.77852063, 0.78369347,\n",
       "       0.22108724, 0.17801422, 0.20897863, 0.0538778 , 0.73309085,\n",
       "       0.71103068, 0.03241112, 0.09423037, 0.39462748, 0.08429826,\n",
       "       0.0173592 , 0.80105474, 0.26655921, 0.64200464, 0.10957265,\n",
       "       0.82213822, 0.47901024, 0.16765684, 0.06394454, 0.47662964,\n",
       "       0.07087177, 0.09001993, 0.49145486, 0.3329053 , 0.10577033,\n",
       "       0.25082672, 0.53728078, 0.0040461 , 0.22316202, 0.00243749,\n",
       "       0.86911245, 0.31275961, 0.0691517 , 0.6243503 , 0.36475691,\n",
       "       0.74246368, 0.13671742, 0.10601012, 0.30297113, 0.01024253,\n",
       "       0.94306936, 0.08947189, 0.14684086, 0.18258925, 0.26669114,\n",
       "       0.17081145, 0.11204203, 0.40160165, 0.4035124 , 0.36165963,\n",
       "       0.33667622, 0.84541276, 0.0679708 , 0.23180152, 0.34217835,\n",
       "       0.82115571, 0.83198482, 0.16887456, 0.42792853, 0.20939656,\n",
       "       0.57456771, 0.4491371 , 0.0830821 , 0.58624572, 0.08243128,\n",
       "       0.57744771, 0.59549234, 0.13029303, 0.71568428, 0.02223916,\n",
       "       0.05064732, 0.12504267, 0.11704264, 0.32992325, 0.36348996,\n",
       "       0.39297454, 0.47845966, 0.02899865, 0.1479247 , 0.14437924,\n",
       "       0.27116659, 0.32644814, 0.78908075, 0.12095485, 0.30534916,\n",
       "       0.31344031, 0.24177765, 0.13928251, 0.84493756, 0.23966953,\n",
       "       0.2967508 , 0.11366173, 0.04200267, 0.2720094 , 0.12238547,\n",
       "       0.72790685, 0.52522927, 0.51674365, 0.33614521, 0.38799303,\n",
       "       0.85542756, 0.31537577, 0.26963315, 0.40596971, 0.32502858,\n",
       "       0.40310186, 0.03122096, 0.08716598, 0.16985461, 0.84520493,\n",
       "       0.59262019, 0.14491717, 0.04751461, 0.08019134, 0.13746186,\n",
       "       0.65839412, 0.51061903, 0.54571886, 0.72752643, 0.04289118,\n",
       "       0.48008756, 0.05398052, 0.08508115, 0.14551426, 0.49748886,\n",
       "       0.31291637, 0.23799476, 0.37021999, 0.14103209, 0.43017719,\n",
       "       0.17279208, 0.17859647, 0.11758738, 0.81356687, 0.26495688,\n",
       "       0.61899548, 0.81281268, 0.75134595, 0.09834557, 0.14754109,\n",
       "       0.65453397, 0.60984453, 0.1384517 , 0.90511457, 0.15970842,\n",
       "       0.85039787, 0.93022624, 0.26701318, 0.11627048, 0.17497904,\n",
       "       0.7252856 , 0.24804642, 0.53756921, 0.58114748, 0.09194201,\n",
       "       0.05517576, 0.21012053, 0.29187241, 0.7204914 , 0.24075357,\n",
       "       0.23009822, 0.75398358, 0.96370721, 0.00253145, 0.1712779 ,\n",
       "       0.64133656, 0.05257339, 0.33676565, 0.07817511, 0.23687647,\n",
       "       0.75821969, 0.11302651, 0.0275742 , 0.10520204, 0.34380296,\n",
       "       0.15808274, 0.15120348, 0.08101966, 0.08307653, 0.57867806,\n",
       "       0.06037116, 0.33763709, 0.20238952, 0.59670685, 0.30676457,\n",
       "       0.03347596, 0.05738001, 0.31697918, 0.43341152, 0.74028858,\n",
       "       0.27976293, 0.81689971, 0.41560343, 0.05382236, 0.11749773,\n",
       "       0.45621307, 0.92285788, 0.13779195, 0.16494595, 0.32926623,\n",
       "       0.32560273, 0.05298541, 0.31541799, 0.08380368, 0.31539239,\n",
       "       0.30608088, 0.0439139 , 0.2034534 , 0.11803689, 0.67696164,\n",
       "       0.69935842, 0.86790755, 0.89642964, 0.06424123, 0.56699543,\n",
       "       0.16356109, 0.91435109, 0.22540122, 0.3435057 , 0.31300417,\n",
       "       0.27148438, 0.61929935, 0.14246887, 0.11903266, 0.2899874 ,\n",
       "       0.22198035, 0.42272265, 0.33022107, 0.83897788, 0.04568954,\n",
       "       0.07919921, 0.22087609, 0.12251893, 0.82683057, 0.7483164 ,\n",
       "       0.1425841 , 0.29480919, 0.29258626, 0.21214119, 0.22076009,\n",
       "       0.75684203, 0.5807119 , 0.12519865, 0.03279829, 0.23175752,\n",
       "       0.12381269, 0.04165199, 0.47316505, 0.8015371 , 0.15929655,\n",
       "       0.12622808, 0.77370097, 0.41704579, 0.19500611, 0.10449394,\n",
       "       0.61291268, 0.27964209, 0.30347926, 0.45879757, 0.59323657,\n",
       "       0.86581917, 0.60352361, 0.84620118, 0.26340074])"
      ]
     },
     "execution_count": 35,
     "metadata": {},
     "output_type": "execute_result"
    }
   ],
   "source": [
    "y_pred_train_prob[:,1]"
   ]
  },
  {
   "cell_type": "code",
   "execution_count": 36,
   "id": "2d612e9f",
   "metadata": {},
   "outputs": [
    {
     "data": {
      "text/plain": [
       "(614,)"
      ]
     },
     "execution_count": 36,
     "metadata": {},
     "output_type": "execute_result"
    }
   ],
   "source": [
    "y_pred_train_prob[:,1].shape"
   ]
  },
  {
   "cell_type": "code",
   "execution_count": 37,
   "id": "a004dcfd",
   "metadata": {
    "scrolled": true
   },
   "outputs": [],
   "source": [
    "fpr,tpr,thresh=roc_curve(y_train,y_pred_train_prob[:,1])"
   ]
  },
  {
   "cell_type": "code",
   "execution_count": 39,
   "id": "aef20e6f",
   "metadata": {},
   "outputs": [
    {
     "data": {
      "text/plain": [
       "array([1.96370721, 0.96370721, 0.95649475, 0.94306936, 0.93991298,\n",
       "       0.91435109, 0.90511457, 0.85473575, 0.85433269, 0.84539779,\n",
       "       0.84520493, 0.81689971, 0.81356687, 0.80780261, 0.80520189,\n",
       "       0.79597807, 0.79138519, 0.77871874, 0.77852063, 0.77744545,\n",
       "       0.75821969, 0.75134595, 0.74801745, 0.74028858, 0.73907251,\n",
       "       0.73349354, 0.73309085, 0.7252856 , 0.7204914 , 0.71103068,\n",
       "       0.70840301, 0.67905314, 0.67696164, 0.6689247 , 0.66267053,\n",
       "       0.6543593 , 0.64133656, 0.62337062, 0.61899548, 0.60984453,\n",
       "       0.60452589, 0.59670685, 0.59549234, 0.59504348, 0.59323657,\n",
       "       0.59209293, 0.59099823, 0.59000703, 0.58624572, 0.57595291,\n",
       "       0.57456771, 0.56699543, 0.56520942, 0.55794003, 0.55337587,\n",
       "       0.54605573, 0.53756921, 0.53273366, 0.52898574, 0.51674365,\n",
       "       0.51523809, 0.51463227, 0.51061903, 0.5082386 , 0.50217333,\n",
       "       0.49513176, 0.49100754, 0.49027852, 0.48266159, 0.48238693,\n",
       "       0.47957287, 0.47316505, 0.43341152, 0.43326773, 0.43017719,\n",
       "       0.42635355, 0.42128441, 0.41730502, 0.41704252, 0.40964708,\n",
       "       0.40596971, 0.40367521, 0.4035124 , 0.40160165, 0.40051736,\n",
       "       0.39946222, 0.38946167, 0.37644175, 0.36860167, 0.36475691,\n",
       "       0.36165963, 0.35930273, 0.35095667, 0.34829441, 0.34757506,\n",
       "       0.3435057 , 0.33919761, 0.33763709, 0.33667622, 0.33614521,\n",
       "       0.33083856, 0.33022107, 0.32926623, 0.32686417, 0.32502858,\n",
       "       0.32405552, 0.32390822, 0.31518422, 0.31344031, 0.31337309,\n",
       "       0.31291637, 0.31275961, 0.30676457, 0.30608088, 0.30373274,\n",
       "       0.30347926, 0.29906099, 0.29537137, 0.29258626, 0.29087727,\n",
       "       0.28857477, 0.2877748 , 0.28647409, 0.28187297, 0.28131342,\n",
       "       0.27976293, 0.27964209, 0.27882323, 0.2720094 , 0.27116659,\n",
       "       0.26669114, 0.26495688, 0.26359059, 0.26340074, 0.2628637 ,\n",
       "       0.26056934, 0.25582214, 0.25144037, 0.24047955, 0.23799476,\n",
       "       0.23662362, 0.23180152, 0.22978414, 0.22881461, 0.22012303,\n",
       "       0.21332921, 0.2089679 , 0.20757245, 0.20697343, 0.20617582,\n",
       "       0.20343135, 0.20249855, 0.19364134, 0.19314761, 0.18857018,\n",
       "       0.18652917, 0.17743922, 0.17279208, 0.16887456, 0.16828781,\n",
       "       0.16494595, 0.16410058, 0.15970842, 0.15808274, 0.15120348,\n",
       "       0.14977472, 0.14754109, 0.14684086, 0.14246887, 0.1408379 ,\n",
       "       0.12749555, 0.12622808, 0.12519865, 0.12504267, 0.11736672,\n",
       "       0.11711547, 0.11195267, 0.11014535, 0.10039944, 0.10036936,\n",
       "       0.09235349, 0.09218438, 0.0486217 , 0.04751461, 0.00243749])"
      ]
     },
     "execution_count": 39,
     "metadata": {},
     "output_type": "execute_result"
    }
   ],
   "source": [
    "thresh"
   ]
  },
  {
   "cell_type": "code",
   "execution_count": 40,
   "id": "ee057799",
   "metadata": {},
   "outputs": [
    {
     "data": {
      "text/plain": [
       "(185,)"
      ]
     },
     "execution_count": 40,
     "metadata": {},
     "output_type": "execute_result"
    }
   ],
   "source": [
    "thresh.shape"
   ]
  },
  {
   "cell_type": "code",
   "execution_count": 41,
   "id": "e9318b1a",
   "metadata": {},
   "outputs": [
    {
     "data": {
      "text/plain": [
       "[<matplotlib.lines.Line2D at 0x22f9e063670>]"
      ]
     },
     "execution_count": 41,
     "metadata": {},
     "output_type": "execute_result"
    },
    {
     "data": {
      "image/png": "[encoded data removed]",
      "text/plain": [
       "<Figure size 432x288 with 1 Axes>"
      ]
     },
     "metadata": {
      "needs_background": "light"
     },
     "output_type": "display_data"
    }
   ],
   "source": [
    "plt.plot(fpr,tpr)"
   ]
  },
  {
   "cell_type": "code",
   "execution_count": 42,
   "id": "20445cb7",
   "metadata": {},
   "outputs": [
    {
     "data": {
      "text/plain": [
       "Text(0.5, 1.0, 'Reciever Operating Charaxteristic Curve')"
      ]
     },
     "execution_count": 42,
     "metadata": {},
     "output_type": "execute_result"
    },
    {
     "data": {
      "image/png": "[encoded data removed]",
      "text/plain": [
       "<Figure size 432x288 with 1 Axes>"
      ]
     },
     "metadata": {
      "needs_background": "light"
     },
     "output_type": "display_data"
    }
   ],
   "source": [
    "plt.plot(fpr,tpr)\n",
    "plt.xlabel('False Positive Rate')\n",
    "plt.ylabel('True Positive Rate')\n",
    "plt.title('Reciever Operating Charaxteristic Curve')"
   ]
  },
  {
   "cell_type": "markdown",
   "id": "315cf37d",
   "metadata": {},
   "source": [
    "###### now do same steps for testing dataset for getting roc curve "
   ]
  },
  {
   "cell_type": "code",
   "execution_count": 43,
   "id": "fd5f85d1",
   "metadata": {},
   "outputs": [
    {
     "data": {
      "text/plain": [
       "array([0.42424884, 0.35080943, 0.11142383, 0.06509976, 0.24097824,\n",
       "       0.31712777, 0.34222112, 0.12240572, 0.18856352, 0.23390216,\n",
       "       0.39225612, 0.10366433, 0.986154  , 0.6272991 , 0.03815546,\n",
       "       0.686132  , 0.2863316 , 0.31038527, 0.11806289, 0.11668842,\n",
       "       0.43524282, 0.11967199, 0.86826786, 0.17304774, 0.07934274,\n",
       "       0.42860598, 0.2191846 , 0.64169069, 0.11313277, 0.43881735,\n",
       "       0.41189649, 0.23614662, 0.06079931, 0.7744207 , 0.18159704,\n",
       "       0.75851426, 0.08832646, 0.19831654, 0.06434978, 0.44334264,\n",
       "       0.24201852, 0.10757175, 0.03828035, 0.37141583, 0.08642921,\n",
       "       0.02585101, 0.38090967, 0.82383099, 0.08026883, 0.13181364,\n",
       "       0.00825169, 0.1801426 , 0.79458505, 0.05699098, 0.6152706 ,\n",
       "       0.10475721, 0.54197141, 0.29909484, 0.61436819, 0.15459688,\n",
       "       0.60888628, 0.01280213, 0.67488118, 0.22248384, 0.45152541,\n",
       "       0.12301666, 0.01137584, 0.51667655, 0.54375309, 0.57205895,\n",
       "       0.86634343, 0.80341866, 0.54710961, 0.01670263, 0.64271389,\n",
       "       0.17245786, 0.6501877 , 0.30033306, 0.13373905, 0.6348467 ,\n",
       "       0.65907254, 0.21107529, 0.46388883, 0.29724746, 0.30119546,\n",
       "       0.7267702 , 0.54018371, 0.19008068, 0.3978931 , 0.27470727,\n",
       "       0.14287894, 0.04634519, 0.30970125, 0.12753724, 0.78524011,\n",
       "       0.42670407, 0.30956784, 0.20415848, 0.89036786, 0.12678304,\n",
       "       0.12292158, 0.29757587, 0.7467862 , 0.26238447, 0.10897299,\n",
       "       0.07578861, 0.43568537, 0.7302475 , 0.22005198, 0.15738871,\n",
       "       0.47725132, 0.32953288, 0.5078631 , 0.20863768, 0.01563542,\n",
       "       0.08180196, 0.10677455, 0.51283077, 0.33594571, 0.47864873,\n",
       "       0.21820591, 0.86531793, 0.3450019 , 0.3783269 , 0.1816665 ,\n",
       "       0.10660709, 0.2581011 , 0.29013429, 0.64661448, 0.23297704,\n",
       "       0.96039955, 0.04314881, 0.40871053, 0.32410317, 0.13310682,\n",
       "       0.24674582, 0.07766167, 0.59652718, 0.16519722, 0.32160246,\n",
       "       0.94893271, 0.10031691, 0.15975337, 0.82782684, 0.75000056,\n",
       "       0.25579736, 0.05780345, 0.06988601, 0.25178493, 0.12325755,\n",
       "       0.27542753, 0.9482005 , 0.13101152, 0.21506787])"
      ]
     },
     "execution_count": 43,
     "metadata": {},
     "output_type": "execute_result"
    }
   ],
   "source": [
    "y_pred_prob[:,1] # for Testing ploting graph and fpr values counting so consider this values"
   ]
  },
  {
   "cell_type": "markdown",
   "id": "21148789",
   "metadata": {},
   "source": [
    "###### we are checking values respectly training like fpr tpr"
   ]
  },
  {
   "cell_type": "code",
   "execution_count": 44,
   "id": "7a58225e",
   "metadata": {},
   "outputs": [
    {
     "data": {
      "text/plain": [
       "array([0.        , 0.00469484, 0.00469484, 0.01408451, 0.01408451,\n",
       "       0.04694836, 0.04694836, 0.10798122, 0.10798122, 0.1314554 ,\n",
       "       0.1314554 , 0.18779343, 0.18779343, 0.20657277, 0.20657277,\n",
       "       0.23004695, 0.23004695, 0.25821596, 0.25821596, 0.2629108 ,\n",
       "       0.2629108 , 0.28169014, 0.28169014, 0.30516432, 0.30516432,\n",
       "       0.31455399, 0.31455399, 0.3286385 , 0.3286385 , 0.33802817,\n",
       "       0.33802817, 0.36150235, 0.36150235, 0.37089202, 0.37089202,\n",
       "       0.38967136, 0.38967136, 0.41784038, 0.41784038, 0.43661972,\n",
       "       0.43661972, 0.45070423, 0.45070423, 0.45539906, 0.45539906,\n",
       "       0.46948357, 0.46948357, 0.4741784 , 0.4741784 , 0.51173709,\n",
       "       0.51173709, 0.52112676, 0.52112676, 0.5258216 , 0.5258216 ,\n",
       "       0.53051643, 0.53051643, 0.55399061, 0.55399061, 0.56338028,\n",
       "       0.56338028, 0.56807512, 0.56807512, 0.57276995, 0.57276995,\n",
       "       0.58215962, 0.58215962, 0.58685446, 0.58685446, 0.5915493 ,\n",
       "       0.5915493 , 0.61032864, 0.61032864, 0.61502347, 0.61502347,\n",
       "       0.62441315, 0.62441315, 0.62910798, 0.62910798, 0.63849765,\n",
       "       0.63849765, 0.64788732, 0.64788732, 0.657277  , 0.657277  ,\n",
       "       0.66197183, 0.66197183, 0.6713615 , 0.6713615 , 0.67605634,\n",
       "       0.67605634, 0.68544601, 0.68544601, 0.69014085, 0.69014085,\n",
       "       0.70422535, 0.70422535, 0.70892019, 0.70892019, 0.71361502,\n",
       "       0.71361502, 0.71830986, 0.71830986, 0.72769953, 0.72769953,\n",
       "       0.73239437, 0.73239437, 0.75586854, 0.75586854, 0.76056338,\n",
       "       0.76056338, 0.76525822, 0.76525822, 0.77464789, 0.77464789,\n",
       "       0.77934272, 0.77934272, 0.78873239, 0.78873239, 0.8028169 ,\n",
       "       0.8028169 , 0.80751174, 0.80751174, 0.81220657, 0.81220657,\n",
       "       0.81690141, 0.81690141, 0.82159624, 0.82159624, 0.83568075,\n",
       "       0.83568075, 0.84507042, 0.84507042, 0.84976526, 0.84976526,\n",
       "       0.85446009, 0.85446009, 0.85915493, 0.85915493, 0.8685446 ,\n",
       "       0.8685446 , 0.87793427, 0.87793427, 0.88262911, 0.88262911,\n",
       "       0.89201878, 0.89201878, 0.89671362, 0.89671362, 0.90610329,\n",
       "       0.90610329, 0.91079812, 0.91079812, 0.91549296, 0.91549296,\n",
       "       0.92018779, 0.92018779, 0.92957746, 0.92957746, 0.9342723 ,\n",
       "       0.9342723 , 0.93896714, 0.93896714, 0.94835681, 0.94835681,\n",
       "       0.95305164, 0.95305164, 0.95774648, 0.95774648, 0.96713615,\n",
       "       0.96713615, 0.97183099, 0.97183099, 0.97652582, 0.97652582,\n",
       "       0.98122066, 0.98122066, 0.98591549, 0.98591549, 0.99061033,\n",
       "       0.99061033, 0.99530516, 0.99530516, 1.        , 1.        ])"
      ]
     },
     "execution_count": 44,
     "metadata": {},
     "output_type": "execute_result"
    }
   ],
   "source": [
    "tpr"
   ]
  },
  {
   "cell_type": "code",
   "execution_count": 45,
   "id": "9bdbdf9c",
   "metadata": {
    "scrolled": false
   },
   "outputs": [
    {
     "data": {
      "text/plain": [
       "array([0.        , 0.        , 0.00249377, 0.00249377, 0.0074813 ,\n",
       "       0.0074813 , 0.00997506, 0.00997506, 0.01246883, 0.01246883,\n",
       "       0.01496259, 0.01496259, 0.01745636, 0.01745636, 0.01995012,\n",
       "       0.01995012, 0.02493766, 0.02493766, 0.02743142, 0.02743142,\n",
       "       0.03491272, 0.03491272, 0.04488778, 0.04488778, 0.04738155,\n",
       "       0.04738155, 0.04987531, 0.04987531, 0.05236908, 0.05236908,\n",
       "       0.05486284, 0.05486284, 0.05735661, 0.05735661, 0.05985037,\n",
       "       0.05985037, 0.06733167, 0.06733167, 0.07481297, 0.07481297,\n",
       "       0.0798005 , 0.0798005 , 0.08229426, 0.08229426, 0.08478803,\n",
       "       0.08478803, 0.0872818 , 0.0872818 , 0.08977556, 0.08977556,\n",
       "       0.09476309, 0.09476309, 0.09725686, 0.09725686, 0.10224439,\n",
       "       0.10224439, 0.10723192, 0.10723192, 0.10972569, 0.10972569,\n",
       "       0.11221945, 0.11221945, 0.11720698, 0.11720698, 0.12219451,\n",
       "       0.12219451, 0.12718204, 0.12718204, 0.12967581, 0.12967581,\n",
       "       0.13466334, 0.13466334, 0.15710723, 0.15710723, 0.16458853,\n",
       "       0.16458853, 0.16957606, 0.16957606, 0.17456359, 0.17456359,\n",
       "       0.17705736, 0.17705736, 0.17955112, 0.17955112, 0.18204489,\n",
       "       0.18204489, 0.19201995, 0.19201995, 0.19950125, 0.19950125,\n",
       "       0.20698254, 0.20698254, 0.21945137, 0.21945137, 0.2244389 ,\n",
       "       0.2244389 , 0.2319202 , 0.2319202 , 0.23690773, 0.23690773,\n",
       "       0.24937656, 0.24937656, 0.25436409, 0.25436409, 0.26433915,\n",
       "       0.26433915, 0.26683292, 0.26683292, 0.27182045, 0.27182045,\n",
       "       0.27680798, 0.27680798, 0.28428928, 0.28428928, 0.28927681,\n",
       "       0.28927681, 0.2967581 , 0.2967581 , 0.30174564, 0.30174564,\n",
       "       0.30673317, 0.30673317, 0.30922693, 0.30922693, 0.31421446,\n",
       "       0.31421446, 0.31670823, 0.31670823, 0.33167082, 0.33167082,\n",
       "       0.34413965, 0.34413965, 0.34663342, 0.34663342, 0.34912718,\n",
       "       0.34912718, 0.35910224, 0.35910224, 0.37905237, 0.37905237,\n",
       "       0.3840399 , 0.3840399 , 0.39401496, 0.39401496, 0.41396509,\n",
       "       0.41396509, 0.42643392, 0.42643392, 0.42892768, 0.42892768,\n",
       "       0.43640898, 0.43640898, 0.45386534, 0.45386534, 0.46633416,\n",
       "       0.46633416, 0.50374065, 0.50374065, 0.51870324, 0.51870324,\n",
       "       0.5286783 , 0.5286783 , 0.54114713, 0.54114713, 0.55860349,\n",
       "       0.55860349, 0.56608479, 0.56608479, 0.58354115, 0.58354115,\n",
       "       0.62593516, 0.62593516, 0.62842893, 0.62842893, 0.66084788,\n",
       "       0.66084788, 0.68578554, 0.68578554, 0.71820449, 0.71820449,\n",
       "       0.75561097, 0.75561097, 0.9127182 , 0.9127182 , 1.        ])"
      ]
     },
     "execution_count": 45,
     "metadata": {},
     "output_type": "execute_result"
    }
   ],
   "source": [
    "fpr"
   ]
  },
  {
   "cell_type": "code",
   "execution_count": 46,
   "id": "25041bae",
   "metadata": {},
   "outputs": [
    {
     "data": {
      "text/plain": [
       "array([1.96370721, 0.96370721, 0.95649475, 0.94306936, 0.93991298,\n",
       "       0.91435109, 0.90511457, 0.85473575, 0.85433269, 0.84539779,\n",
       "       0.84520493, 0.81689971, 0.81356687, 0.80780261, 0.80520189,\n",
       "       0.79597807, 0.79138519, 0.77871874, 0.77852063, 0.77744545,\n",
       "       0.75821969, 0.75134595, 0.74801745, 0.74028858, 0.73907251,\n",
       "       0.73349354, 0.73309085, 0.7252856 , 0.7204914 , 0.71103068,\n",
       "       0.70840301, 0.67905314, 0.67696164, 0.6689247 , 0.66267053,\n",
       "       0.6543593 , 0.64133656, 0.62337062, 0.61899548, 0.60984453,\n",
       "       0.60452589, 0.59670685, 0.59549234, 0.59504348, 0.59323657,\n",
       "       0.59209293, 0.59099823, 0.59000703, 0.58624572, 0.57595291,\n",
       "       0.57456771, 0.56699543, 0.56520942, 0.55794003, 0.55337587,\n",
       "       0.54605573, 0.53756921, 0.53273366, 0.52898574, 0.51674365,\n",
       "       0.51523809, 0.51463227, 0.51061903, 0.5082386 , 0.50217333,\n",
       "       0.49513176, 0.49100754, 0.49027852, 0.48266159, 0.48238693,\n",
       "       0.47957287, 0.47316505, 0.43341152, 0.43326773, 0.43017719,\n",
       "       0.42635355, 0.42128441, 0.41730502, 0.41704252, 0.40964708,\n",
       "       0.40596971, 0.40367521, 0.4035124 , 0.40160165, 0.40051736,\n",
       "       0.39946222, 0.38946167, 0.37644175, 0.36860167, 0.36475691,\n",
       "       0.36165963, 0.35930273, 0.35095667, 0.34829441, 0.34757506,\n",
       "       0.3435057 , 0.33919761, 0.33763709, 0.33667622, 0.33614521,\n",
       "       0.33083856, 0.33022107, 0.32926623, 0.32686417, 0.32502858,\n",
       "       0.32405552, 0.32390822, 0.31518422, 0.31344031, 0.31337309,\n",
       "       0.31291637, 0.31275961, 0.30676457, 0.30608088, 0.30373274,\n",
       "       0.30347926, 0.29906099, 0.29537137, 0.29258626, 0.29087727,\n",
       "       0.28857477, 0.2877748 , 0.28647409, 0.28187297, 0.28131342,\n",
       "       0.27976293, 0.27964209, 0.27882323, 0.2720094 , 0.27116659,\n",
       "       0.26669114, 0.26495688, 0.26359059, 0.26340074, 0.2628637 ,\n",
       "       0.26056934, 0.25582214, 0.25144037, 0.24047955, 0.23799476,\n",
       "       0.23662362, 0.23180152, 0.22978414, 0.22881461, 0.22012303,\n",
       "       0.21332921, 0.2089679 , 0.20757245, 0.20697343, 0.20617582,\n",
       "       0.20343135, 0.20249855, 0.19364134, 0.19314761, 0.18857018,\n",
       "       0.18652917, 0.17743922, 0.17279208, 0.16887456, 0.16828781,\n",
       "       0.16494595, 0.16410058, 0.15970842, 0.15808274, 0.15120348,\n",
       "       0.14977472, 0.14754109, 0.14684086, 0.14246887, 0.1408379 ,\n",
       "       0.12749555, 0.12622808, 0.12519865, 0.12504267, 0.11736672,\n",
       "       0.11711547, 0.11195267, 0.11014535, 0.10039944, 0.10036936,\n",
       "       0.09235349, 0.09218438, 0.0486217 , 0.04751461, 0.00243749])"
      ]
     },
     "execution_count": 46,
     "metadata": {},
     "output_type": "execute_result"
    }
   ],
   "source": [
    "thresh"
   ]
  },
  {
   "cell_type": "code",
   "execution_count": 47,
   "id": "ae033001",
   "metadata": {},
   "outputs": [
    {
     "name": "stdout",
     "output_type": "stream",
     "text": [
      "Best Threshold =  0.2605693426817198\n"
     ]
    }
   ],
   "source": [
    "# best threshold\n",
    "sub=tpr-fpr\n",
    "ab = np.argmax(sub)\n",
    "best_thresh = thresh[ab]\n",
    "print('Best Threshold = ',(best_thresh))"
   ]
  },
  {
   "cell_type": "code",
   "execution_count": 42,
   "id": "c7f754ae",
   "metadata": {},
   "outputs": [
    {
     "data": {
      "text/plain": [
       "(array([ 0,  1,  2,  3,  4,  5,  6,  7,  8,  9, 10, 11, 12, 13, 14, 15, 16,\n",
       "        17, 18, 19, 20, 21, 22, 23, 24, 25, 26, 27, 28, 29, 30, 31, 32, 33,\n",
       "        34, 35, 36, 37, 38, 39, 40, 41, 42, 43, 44, 45, 46, 47, 48, 49, 50,\n",
       "        51, 52, 53, 54, 55, 56, 57, 58, 59, 60, 61, 62, 63, 64],\n",
       "       dtype=int64),)"
      ]
     },
     "execution_count": 42,
     "metadata": {},
     "output_type": "execute_result"
    }
   ],
   "source": [
    "thresh # 0.50217155\n",
    "np.where(thresh>=0.5) # in output indexes numbers has been came which index value is greater than or equal to 0.5 \n",
    "                      # we finding index bcz we want get fpr and tpr values for than index"
   ]
  },
  {
   "cell_type": "code",
   "execution_count": 43,
   "id": "47ecbfb3",
   "metadata": {},
   "outputs": [
    {
     "data": {
      "text/plain": [
       "0.5021712578414997"
      ]
     },
     "execution_count": 43,
     "metadata": {},
     "output_type": "execute_result"
    }
   ],
   "source": [
    "thresh[64]"
   ]
  },
  {
   "cell_type": "code",
   "execution_count": 44,
   "id": "a42ed5f3",
   "metadata": {},
   "outputs": [
    {
     "data": {
      "text/plain": [
       "0.5727699530516432"
      ]
     },
     "execution_count": 44,
     "metadata": {},
     "output_type": "execute_result"
    }
   ],
   "source": [
    "tpr[64]"
   ]
  },
  {
   "cell_type": "code",
   "execution_count": 45,
   "id": "de67e753",
   "metadata": {},
   "outputs": [
    {
     "data": {
      "text/plain": [
       "0.12219451371571072"
      ]
     },
     "execution_count": 45,
     "metadata": {},
     "output_type": "execute_result"
    }
   ],
   "source": [
    "fpr[64]"
   ]
  },
  {
   "cell_type": "code",
   "execution_count": null,
   "id": "ed4fbd95",
   "metadata": {},
   "outputs": [],
   "source": []
  }
 ],
 "metadata": {
  "kernelspec": {
   "display_name": "Python 3 (ipykernel)",
   "language": "python",
   "name": "python3"
  },
  "language_info": {
   "codemirror_mode": {
    "name": "ipython",
    "version": 3
   },
   "file_extension": ".py",
   "mimetype": "text/x-python",
   "name": "python",
   "nbconvert_exporter": "python",
   "pygments_lexer": "ipython3",
   "version": "3.9.12"
  }
 },
 "nbformat": 4,
 "nbformat_minor": 5
}
