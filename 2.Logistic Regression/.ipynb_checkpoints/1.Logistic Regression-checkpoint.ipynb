{
 "cells": [
  {
   "cell_type": "markdown",
   "id": "9a5c3481",
   "metadata": {},
   "source": [
    "# Logistic Regression"
   ]
  },
  {
   "cell_type": "raw",
   "id": "99f94e6b",
   "metadata": {},
   "source": [
    "-It is a supervised machine learning algorithm.\n",
    "-It is used for classification problems, and not for regression problems, still the name is logistic regression.\n",
    "-The name regression is because, it also uses linear model and the classification method uses the same concept as linear regression.\n",
    "-It is a probablistic algorithm.\n",
    "\n",
    "-Target variable should be in categorical form.\n",
    "\n",
    "yes/no\n",
    "spam/no spam\n",
    "0/1\n",
    "high/medium/low\n",
    "Good/Bad\n",
    "True/False"
   ]
  },
  {
   "cell_type": "raw",
   "id": "934fc272",
   "metadata": {},
   "source": [
    "Regression >> it uses linear model so name regression here and classification method uses concept of linear regression at the back end. so name regression is given.\n",
    "Logistic >> bcz of Cost function/ loss function >> logloss function >> due to this logloss function. name gives logistic name."
   ]
  },
  {
   "cell_type": "markdown",
   "id": "5f5be4bd",
   "metadata": {},
   "source": [
    "# Types of Logistic Regression"
   ]
  },
  {
   "cell_type": "raw",
   "id": "4a0e6cb3",
   "metadata": {},
   "source": [
    "1. Binary class classification\n",
    "   There are two different categories in the dependent variable.\n",
    "    yes/no\n",
    "    spam/no spam\n",
    "    0/1\n",
    "    Good/Bad\n",
    "    True/False\n",
    "    \n",
    "2. Multiclass classification:\n",
    "    There will be more than 2 categories in dependent variable\n",
    "    a. Multinominal Classification >> output is in same category.\n",
    "       banana/mango/chikoo\n",
    "       red/green/blue\n",
    "       doc1/doc2/doc3\n",
    "        \n",
    "    b. Ordinal Classification   \n",
    "        low/medium/high\n",
    "        good/better/best\n",
    "        Movie ratings >> 1>>2>>3>>4>>5"
   ]
  },
  {
   "cell_type": "raw",
   "id": "e2b7a1e5",
   "metadata": {},
   "source": [
    "LR_model.predict >> it predict class\n",
    "LR_model.predict_proba >> it predict probability with which an observation belong to class 1 or class 2.\n",
    "List of algorithms who provides the probabilities:\n",
    "    Logistic Regression\n",
    "    Decision Tree\n",
    "    Naive Bayes Algorithm\n",
    "    \n",
    "dependent variables >>\n",
    "class 1          class 2     Predicted_output\n",
    "0.9                0.1          class 1    >> 1-0.9 = 0.1\n",
    "0.4                0.6          class 2    >> 1-0.4 = 0.6\n",
    "\n",
    "Range of Probability is 0 to 1"
   ]
  },
  {
   "cell_type": "code",
   "execution_count": 1,
   "id": "9c5fca17",
   "metadata": {},
   "outputs": [],
   "source": [
    "import numpy as np"
   ]
  },
  {
   "cell_type": "code",
   "execution_count": 2,
   "id": "125f1604",
   "metadata": {},
   "outputs": [
    {
     "data": {
      "text/plain": [
       "0.999999999986112"
      ]
     },
     "execution_count": 2,
     "metadata": {},
     "output_type": "execute_result"
    }
   ],
   "source": [
    "1/(1+np.exp(-25))"
   ]
  },
  {
   "cell_type": "code",
   "execution_count": 3,
   "id": "7da85534",
   "metadata": {},
   "outputs": [
    {
     "data": {
      "text/plain": [
       "0.9820137900379085"
      ]
     },
     "execution_count": 3,
     "metadata": {},
     "output_type": "execute_result"
    }
   ],
   "source": [
    "1/(1+np.exp(-4))"
   ]
  },
  {
   "cell_type": "code",
   "execution_count": 4,
   "id": "366da90f",
   "metadata": {},
   "outputs": [
    {
     "data": {
      "text/plain": [
       "2.718281828459045"
      ]
     },
     "execution_count": 4,
     "metadata": {},
     "output_type": "execute_result"
    }
   ],
   "source": [
    "np.exp(1)"
   ]
  },
  {
   "cell_type": "markdown",
   "id": "e82611fc",
   "metadata": {},
   "source": [
    "# Sigmoid Function"
   ]
  },
  {
   "cell_type": "raw",
   "id": "7ba5d179",
   "metadata": {},
   "source": [
    "It is not worth thing to have Linear line in classification problem bcz values of line will goes towards to a positive infinite and towards negative infinity so handeling this issue there is term which introduce in logistic regression is sigmoid function/sigmoid surface.\n",
    "\n",
    "With the help of sigmoid function it converts linear line to S-shaped curve/surface which is also called as sigmoid curve.\n",
    "\n",
    "It tries to convert independent variables into an expression of probabilities that ranges in between 0 and 1 w. r. to dependent variable.\n",
    "\n",
    "Equation for sigmoid Function >>\n",
    "1/1 + e^(-y)\n",
    "y = Equation of line\n",
    "e = euler's constant >> 2.718\n",
    "\n",
    "the equation try to convert independent variables into a expression of probability.which range is 0 to 1 with respect to dependent variable.\n",
    "\n"
   ]
  },
  {
   "cell_type": "raw",
   "id": "b46f1554",
   "metadata": {},
   "source": [
    "missclasified points >> these are kind of error eg.suppose patient have a cancer but data represents person does not have cancer those points we can say that are missclassified points."
   ]
  },
  {
   "cell_type": "raw",
   "id": "a7ac3c40",
   "metadata": {},
   "source": [
    "logloss >> logloss uses for whatever sigmoid curves we have got which is best sigmoid curve for our model logloss find that best sigmoid curve. where logloss error will minimum."
   ]
  },
  {
   "cell_type": "raw",
   "id": "55ef3ba5",
   "metadata": {},
   "source": [
    "p(0) = 0.8, p(1) = 0.2 # p >> probability"
   ]
  },
  {
   "cell_type": "raw",
   "id": "c96b9959",
   "metadata": {},
   "source": [
    "if probability >= 0.5 >> it will go the class-1\n",
    "if probability < 0.5 >>    it will go the class-0\n",
    "\n",
    "p(y=1) p(y=0)    y=1 >> class-1  y=0 >> class-0\n",
    "\n",
    " 0.1     0.9     it will go the class -0\n",
    " 0.2     0.8     it will go the class -0\n",
    " 0.4     0.6     it will go the class -0\n"
   ]
  },
  {
   "cell_type": "raw",
   "id": "277e71b4",
   "metadata": {},
   "source": [
    "    Sigmoid surfaces     LogLoss(LL)\n",
    "            1            21\n",
    "            2            20\n",
    "            3            18\n",
    "            4            15\n",
    "            5            14\n",
    "            6            12 >>> lowest LogLoss >> it will be our best one sigmoid surface no.06\n",
    "            7            14\n",
    "            8            13\n",
    "            9            17"
   ]
  },
  {
   "cell_type": "markdown",
   "id": "4823b463",
   "metadata": {},
   "source": [
    "# Case 1"
   ]
  },
  {
   "cell_type": "raw",
   "id": "db896ada",
   "metadata": {},
   "source": [
    "Now here we are using formula for class-1 and class-2\n",
    "1.logloss for class-1 = LL(c1)= -log(pi) >> -np.log(probability value)\n",
    "2.logloss for class-0 = LL(c0)= -log(1-pi) >> -np.log(1-probability value)\n",
    "\n",
    "Ya = 1 >> actual class-1\n",
    "probability of class-1 P(1)  = 0.9 >>>> correctly classified\n",
    "probability of class-0 P(0) >> 0.1\n",
    "formula for logloss(LL) = - log(0.9)\n",
    "logloss error(LL) = 0.105\n",
    "\n",
    "-Due to correctly classified always remember logloss error will be minimum."
   ]
  },
  {
   "cell_type": "code",
   "execution_count": 5,
   "id": "eb4c800b",
   "metadata": {},
   "outputs": [
    {
     "data": {
      "text/plain": [
       "0.10536051565782628"
      ]
     },
     "execution_count": 5,
     "metadata": {},
     "output_type": "execute_result"
    }
   ],
   "source": [
    "-np.log(0.9)"
   ]
  },
  {
   "cell_type": "markdown",
   "id": "9109695d",
   "metadata": {},
   "source": [
    "# Case 2"
   ]
  },
  {
   "cell_type": "raw",
   "id": "5180e55d",
   "metadata": {},
   "source": [
    "Ya = 1 >> class-1\n",
    "p = 0.17 >>> Incorrectly classified\n",
    "\n",
    "LL = -log(0.17)\n",
    "LL = 1.77"
   ]
  },
  {
   "cell_type": "code",
   "execution_count": 6,
   "id": "9aff4a85",
   "metadata": {},
   "outputs": [
    {
     "data": {
      "text/plain": [
       "1.7719568419318752"
      ]
     },
     "execution_count": 6,
     "metadata": {},
     "output_type": "execute_result"
    }
   ],
   "source": [
    "-np.log(0.17)"
   ]
  },
  {
   "cell_type": "markdown",
   "id": "7b74a1fb",
   "metadata": {},
   "source": [
    "# Case 3"
   ]
  },
  {
   "cell_type": "raw",
   "id": "963ebfa8",
   "metadata": {},
   "source": [
    "Ya = 0 >> class-0\n",
    "P = 0.12  >>> Correctly classified\n",
    "\n",
    "LL = -log(1-0.12)\n",
    "LL = 0.127\n",
    "\n",
    "# We are considering w. r. to that whether the point will be in class 1 or not."
   ]
  },
  {
   "cell_type": "code",
   "execution_count": 2,
   "id": "2e318bfd",
   "metadata": {},
   "outputs": [
    {
     "data": {
      "text/plain": [
       "0.12783337150988489"
      ]
     },
     "execution_count": 2,
     "metadata": {},
     "output_type": "execute_result"
    }
   ],
   "source": [
    "-np.log(1-0.12)"
   ]
  },
  {
   "cell_type": "code",
   "execution_count": 8,
   "id": "d80b3e42",
   "metadata": {},
   "outputs": [
    {
     "data": {
      "text/plain": [
       "-0.12783337150988489"
      ]
     },
     "execution_count": 8,
     "metadata": {},
     "output_type": "execute_result"
    }
   ],
   "source": [
    "np.log(0.88) # negative sign has not taken so output value in negative so we take negative sign for avoiding output in negative."
   ]
  },
  {
   "cell_type": "markdown",
   "id": "2600db79",
   "metadata": {},
   "source": [
    "# Case 4"
   ]
  },
  {
   "cell_type": "raw",
   "id": "14ec308e",
   "metadata": {},
   "source": [
    "Ya = 0\n",
    "P = 0.77 >>> Incorrectly classified point\n",
    "\n",
    "LL = -log(1- 0.77)\n",
    "LL = 1.46"
   ]
  },
  {
   "cell_type": "code",
   "execution_count": 3,
   "id": "5f261486",
   "metadata": {},
   "outputs": [
    {
     "data": {
      "text/plain": [
       "1.4696759700589417"
      ]
     },
     "execution_count": 3,
     "metadata": {},
     "output_type": "execute_result"
    }
   ],
   "source": [
    "-np.log(1-0.77)"
   ]
  },
  {
   "cell_type": "raw",
   "id": "b8c123be",
   "metadata": {},
   "source": [
    "-from above all cases we have understood that due to incorrectly classified point our logloss is incresing.and that is not good   for our model\n",
    "-Due to correctly classified always remember logloss error will be minimum."
   ]
  },
  {
   "cell_type": "markdown",
   "id": "cd1dbebd",
   "metadata": {},
   "source": [
    "## Assumptions"
   ]
  },
  {
   "cell_type": "raw",
   "id": "60d9b154",
   "metadata": {},
   "source": [
    "• In Logistic Regression there should not be multicolinearity in between two independent variables. (same like linear regression).\n",
    "• In Logistic Regression the relationship between independent variable and logit/log of odd function log(p/1-p). should be linear. p = probability of dependent variable. or log(P) we called log of probability of dependent variable.\n",
    "• Data size should be large. (observations) \n",
    "• The dependent variable must be categorical in nature. "
   ]
  },
  {
   "cell_type": "markdown",
   "id": "320809aa",
   "metadata": {},
   "source": [
    "# Multiclass classification"
   ]
  },
  {
   "cell_type": "raw",
   "id": "9ac47969",
   "metadata": {},
   "source": [
    "For dealing with the multiclass classification, there is one concept which is called as OVR"
   ]
  },
  {
   "cell_type": "markdown",
   "id": "5c31ffaf",
   "metadata": {},
   "source": [
    "### OVR"
   ]
  },
  {
   "cell_type": "raw",
   "id": "c93456a0",
   "metadata": {},
   "source": [
    "OVR is nothing but one verses rest or One Verses All.\n",
    "We have three different classes in our target/dependent variable.\n",
    "\n",
    "X      Y\n",
    "1      c1 ......... c1 = +1 and here c2 = c3 will be -1. \n",
    "2      c2 ......... c2 = +1 and here c1 = c3 will be -1.\n",
    "3      c3 ......... c3 = +1 and here c1 = c2 will be -1.\n",
    "\n",
    "Now c1 will generate >>>>>>>>  m1\n",
    "    c2  .....................  m2\n",
    "    c3  .....................  m3\n",
    "\n",
    "\n",
    "X      Y\n",
    "1      c1 ......... c1 = +1 and here c2 = c3 = c4 will be -1. \n",
    "2      c2 ......... c2 = +1 and here c1 = c3 = c4 will be -1.\n",
    "3      c3 ......... c3 = +1 and here c1 = c2 = c4 will be -1.\n",
    "4      c4 ......... c4 = +1 and here c1 = c2 = c3 will be -1.\n",
    "\n",
    "Now c1 will generate >>>>>>>>  m1\n",
    "    c2  .....................  m2\n",
    "    c3  .....................  m3\n",
    "    c4  .....................  m4\n"
   ]
  },
  {
   "cell_type": "raw",
   "id": "087e1b87",
   "metadata": {},
   "source": [
    "m >> Flatten\n",
    "c >> upward or downword"
   ]
  },
  {
   "cell_type": "markdown",
   "id": "1b13a072",
   "metadata": {},
   "source": [
    "# Evaluation Techniques"
   ]
  },
  {
   "cell_type": "raw",
   "id": "8b5836b2",
   "metadata": {},
   "source": [
    "Confusion Matrix\n",
    "Accuracy\n",
    "Precision\n",
    "Recall\n",
    "F1-score"
   ]
  },
  {
   "cell_type": "raw",
   "id": "2705797e",
   "metadata": {},
   "source": [
    "TP >> actually it is positive and the predicted also in positive\n",
    "TN >> Actually it is from the negative class and also got predicted in negative class only.\n",
    "FP(Type-I error) >> Actually it from the negative class and predicted in positive\n",
    "FN(Type-II error) >> Actually it positive but got predicted negative."
   ]
  },
  {
   "cell_type": "raw",
   "id": "7564fae0",
   "metadata": {},
   "source": [
    "Accuracy = (correctly classified data points)         TP+TN\n",
    "           ------------------------------------ =  -------------\n",
    "              (Total No. of data points)            (TP+TN+FP+FN)"
   ]
  },
  {
   "cell_type": "raw",
   "id": "9bb72a50",
   "metadata": {},
   "source": [
    "1. Precision >>  TP/(TP+FP) >> When FP values are more important \n",
    "   Out of all positive predicted values, how many are correctly predicted.\n",
    "    \n",
    "2. Recall >> sensitivity >> TPR >> When FN values are more important\n",
    "           TP/(TP+FN)\n",
    "    Out of all the actual positive values how many are correctly predicted.\n",
    "    \n",
    "3. F1 - Score >> When both precision and recall are important.\n",
    "         2PR/(P+R)"
   ]
  },
  {
   "cell_type": "raw",
   "id": "592e9990",
   "metadata": {},
   "source": [
    "1. TPR >> From the all actual positive values how much are correctly classified\n",
    "          TP/(TP+FN)\n",
    "          Proportion of positive class got correctly classified by classifier.\n",
    "    \n",
    "2. FPR >> False Positive Rate\n",
    "       >>> from all the negative values, how much are incorrectly classified \n",
    "          FP/(TN+FP)\n",
    "        \n",
    "3. TNR >> From all the actual negative values, how much are correctly classified\n",
    "          TN/(FP+TN)\n",
    "    \n",
    "4. FNR >> From the all actual positive values how much are incorrectly classified\n",
    "          FN/(TP+FN)"
   ]
  },
  {
   "cell_type": "raw",
   "id": "0821ef0e",
   "metadata": {},
   "source": [
    "AUC >> Area Under Curve\n",
    "ROC >> Reciever Operating Characteristic Curve"
   ]
  },
  {
   "cell_type": "raw",
   "id": "87372033",
   "metadata": {},
   "source": [
    "AUC ROC curve is plotted >> considering values of TPR and FPR.\n",
    "\n",
    "TPR = (TP/TP+FN) >> As high as possible\n",
    "FPR = (FP/FP+TN) >> As low as possible."
   ]
  },
  {
   "cell_type": "raw",
   "id": "452c94bb",
   "metadata": {},
   "source": [
    "TPR >> Sensitivity, FNR >> 1- sensitivity\n",
    "TNR >> Specificity, FPR >> 1- Specificity"
   ]
  },
  {
   "cell_type": "raw",
   "id": "bdf4dfc6",
   "metadata": {},
   "source": [
    "TPR >> As high as possible\n",
    "TNR >> As high as possible"
   ]
  },
  {
   "cell_type": "markdown",
   "id": "01bf0cda",
   "metadata": {},
   "source": [
    "### Advantages OF Logistic regression"
   ]
  },
  {
   "cell_type": "raw",
   "id": "28d38fac",
   "metadata": {},
   "source": [
    "- Resistant to overfitting >> maximum time there is no high difference in training and testing accuracy.\n",
    "- If data is linearly sereprable, it will perform very good. >> not neccesary data should be in numeric form but if we have linearly separable then we can say this will be bonus point for us\n",
    "- It is a probablistic algorithm\n",
    "- Implementation and interpretation is easy.\n",
    "- Very fast to classifying the records.\n",
    "- Makes no assumptions related to target classes.\n"
   ]
  },
  {
   "cell_type": "markdown",
   "id": "b7c4a64e",
   "metadata": {},
   "source": [
    "## Disadvantages"
   ]
  },
  {
   "cell_type": "raw",
   "id": "5f35355d",
   "metadata": {},
   "source": [
    "- Construct linear boundries"
   ]
  },
  {
   "cell_type": "markdown",
   "id": "6ef3b55f",
   "metadata": {},
   "source": [
    "## Applications"
   ]
  },
  {
   "cell_type": "raw",
   "id": "fc16c174",
   "metadata": {},
   "source": [
    "- Sentiment Analysis >> for example movie review a movie positive or negative depens upon movie rating and all. \n",
    "- Image classification\n",
    "- Object Detection\n",
    "- Disease detection >> is there patient have cancer or not depends upon patients symptems data\n",
    "- Loan application >> from the data of person like his pan card score and all approve or not "
   ]
  },
  {
   "cell_type": "raw",
   "id": "9ee61843",
   "metadata": {},
   "source": [
    "Techniques for balancing data\n",
    "\n",
    "eg. we have 1000 observations\n",
    "800 >> Yes category\n",
    "200 >> No  category\n",
    "so in this case our result can be bias 95% in yes category where we have 800 observations\n",
    "\n",
    "Techniques >>\n",
    "        Smote\n",
    "        Oversampling\n",
    "        Undersampling >> undersampling is not preferable bcz in this technique we delete the original data so we loss the data so it affect on model accuracy and performrnce so predictions will be wrong."
   ]
  },
  {
   "cell_type": "code",
   "execution_count": null,
   "id": "8cc07da8",
   "metadata": {},
   "outputs": [],
   "source": []
  }
 ],
 "metadata": {
  "kernelspec": {
   "display_name": "Python 3 (ipykernel)",
   "language": "python",
   "name": "python3"
  },
  "language_info": {
   "codemirror_mode": {
    "name": "ipython",
    "version": 3
   },
   "file_extension": ".py",
   "mimetype": "text/x-python",
   "name": "python",
   "nbconvert_exporter": "python",
   "pygments_lexer": "ipython3",
   "version": "3.9.12"
  }
 },
 "nbformat": 4,
 "nbformat_minor": 5
}
