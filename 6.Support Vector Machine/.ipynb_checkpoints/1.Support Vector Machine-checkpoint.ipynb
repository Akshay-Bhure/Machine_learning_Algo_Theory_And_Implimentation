{
 "cells": [
  {
   "cell_type": "markdown",
   "metadata": {},
   "source": [
    "## Support Vector Machine"
   ]
  },
  {
   "cell_type": "code",
   "execution_count": null,
   "metadata": {},
   "outputs": [],
   "source": [
    "It is a supervised machine learning algorithm.\n",
    "It is used for both classification and regression problem.\n",
    "Primarily used for classification problem.\n",
    "\n",
    "Perform well on a high dimentional data.\n",
    "Perform well on Linear as well as non linearly seperable data."
   ]
  },
  {
   "cell_type": "code",
   "execution_count": null,
   "metadata": {},
   "outputs": [],
   "source": [
    "The main goal is to find the best decision boundry which is called as Hyperplane."
   ]
  },
  {
   "cell_type": "code",
   "execution_count": null,
   "metadata": {},
   "outputs": [],
   "source": [
    "Decision Boundry\n",
    "Hyperplane\n",
    "Marginal Lines\n",
    "Marginal Distance\n",
    "Support Vectors\n",
    "Linearly seperable data\n",
    "Non Linearly seperable data\n",
    "Optimal Hyperplane"
   ]
  },
  {
   "cell_type": "raw",
   "metadata": {},
   "source": [
    "Marginal Lines:\n",
    "    Appart from hyperplane Support Vector Machine does also creates two marginal planes/lines having certain distance from the hyperplane for easily seperate the classification points."
   ]
  },
  {
   "cell_type": "code",
   "execution_count": null,
   "metadata": {},
   "outputs": [],
   "source": [
    "Marginal Distance:\n",
    "    Distancence between Hyperplane and marginal line is nothing but marginal distance(d1 and d2).\n",
    "    "
   ]
  },
  {
   "cell_type": "code",
   "execution_count": null,
   "metadata": {},
   "outputs": [],
   "source": [
    "Support Vectors:\n",
    "    The nearest +ve and -ve points which are passing through the marginal lines(m1 and m2) are called as Support vectors."
   ]
  },
  {
   "cell_type": "code",
   "execution_count": null,
   "metadata": {},
   "outputs": [],
   "source": [
    "Linearly seperable data:\n",
    "    We can easily seperate the data points by just drawing a straight line."
   ]
  },
  {
   "cell_type": "raw",
   "metadata": {},
   "source": [
    "Non Linearly seperable data:\n",
    "    We can not seperate the data points by just drawing a straight line. we may draw a straight line but we will get a very less accuracy.\n",
    "    For non-Linearly seperable data, SVM tries to convert the low dimentional data into high dimention.\n",
    "    - By introducing one additional feature."
   ]
  },
  {
   "cell_type": "code",
   "execution_count": null,
   "metadata": {},
   "outputs": [],
   "source": [
    "To convert the low dimentional data into high dimentional SVM uses few kernel tricks.\n",
    "Kernels:\n",
    "    1. Polynomial\n",
    "    2. RBF >> Radial Basis Function(Default Kernel)\n",
    "    3. Sigmoid Kernel\n",
    "    4. Linear Kernel\n",
    "    5. precomputed"
   ]
  },
  {
   "cell_type": "code",
   "execution_count": null,
   "metadata": {},
   "outputs": [],
   "source": [
    "x,y\n",
    "z\n",
    "Z = x^2 + y^2\n",
    "z = (x+y)^2"
   ]
  },
  {
   "cell_type": "code",
   "execution_count": null,
   "metadata": {},
   "outputs": [],
   "source": [
    "Optimal Hyperplane:\n",
    "    The optimal hyperplane is the one which will be having maximum marginal distance.\n",
    "    \n",
    "    Marginal Distance total = d1 + d2\n",
    "If the marginal lines does have same distance from the hyperplane then the formula for marginall distance will be:\n",
    "    Marginal Distance = 2d1 = 2d2\n",
    "    \n",
    "    d1 = marginal distance of m1 from hyperplane.\n",
    "    d2 = marginal distance of m2 from hyperplane."
   ]
  },
  {
   "cell_type": "raw",
   "metadata": {},
   "source": [
    "Difference between SVM and Logistic regression:\n",
    "In Logistic Regression and in SVM both creates a hyperplane, but with hyperplane SVM also does have Marginal lines with certain marginal distance. "
   ]
  }
 ],
 "metadata": {
  "kernelspec": {
   "display_name": "Python 3 (ipykernel)",
   "language": "python",
   "name": "python3"
  },
  "language_info": {
   "codemirror_mode": {
    "name": "ipython",
    "version": 3
   },
   "file_extension": ".py",
   "mimetype": "text/x-python",
   "name": "python",
   "nbconvert_exporter": "python",
   "pygments_lexer": "ipython3",
   "version": "3.9.12"
  }
 },
 "nbformat": 4,
 "nbformat_minor": 4
}
